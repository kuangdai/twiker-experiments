{
 "cells": [
  {
   "cell_type": "markdown",
   "id": "8f001e30-f050-4c4c-9a52-511e9bf51523",
   "metadata": {},
   "source": [
    "# Tokenize full book"
   ]
  },
  {
   "cell_type": "code",
   "execution_count": 1,
   "id": "2c818cc1-4980-4d95-b05e-576b9db6bd0a",
   "metadata": {},
   "outputs": [],
   "source": [
    "from transformers import GPT2Tokenizer\n",
    "\n",
    "tokenizer = GPT2Tokenizer.from_pretrained('gpt2')"
   ]
  },
  {
   "cell_type": "code",
   "execution_count": 2,
   "id": "755204ef-a90d-4ef0-8347-a16c77c2b93f",
   "metadata": {},
   "outputs": [],
   "source": [
    "with open(\"data_files/full.txt\", 'r') as fs:\n",
    "    book_text = fs.read()"
   ]
  },
  {
   "cell_type": "code",
   "execution_count": 3,
   "id": "b3253db7-363e-4493-907a-84be589a2dad",
   "metadata": {},
   "outputs": [],
   "source": [
    "import numpy as np\n",
    "\n",
    "book_tokens = np.array(tokenizer.tokenize(book_text))\n",
    "book_ids = np.array(tokenizer.convert_tokens_to_ids(book_tokens))"
   ]
  },
  {
   "cell_type": "code",
   "execution_count": 4,
   "id": "180946a4-f547-4605-a4e3-61202ae9df84",
   "metadata": {},
   "outputs": [],
   "source": [
    "# unique\n",
    "book_ids_unique, index, counts = np.unique(book_ids, return_index=True, return_counts=True)\n",
    "book_tokens_unique = book_tokens[index]"
   ]
  },
  {
   "cell_type": "markdown",
   "id": "93aca3f0-b857-4303-a9a6-0419e35913b0",
   "metadata": {},
   "source": [
    "# For linguistic analysis, we need to add these properties to `book_ids_unique`:\n",
    "\n",
    "* Counts of appearance: already found above\n",
    "* Class as one of follows: noun, verb, adjective, ..., punctuation, affix, letter, num, other"
   ]
  },
  {
   "cell_type": "code",
   "execution_count": 5,
   "id": "5594b219-45b6-4e4d-81a1-9a646ed22c84",
   "metadata": {},
   "outputs": [
    {
     "name": "stderr",
     "output_type": "stream",
     "text": [
      "[nltk_data] Downloading package words to /Users/kuangdai/nltk_data...\n",
      "[nltk_data]   Package words is already up-to-date!\n"
     ]
    }
   ],
   "source": [
    "import string\n",
    "import spacy, nltk\n",
    "from nltk.corpus import words\n",
    "\n",
    "# punctuation\n",
    "def is_punctuation(char):\n",
    "    return char in string.punctuation or char in [\"’\", \"…\"]\n",
    "\n",
    "# pos of word\n",
    "nlp = spacy.load(\"en_core_web_sm\")\n",
    "def get_pos(word):\n",
    "    doc = nlp(word)\n",
    "    for token in doc:\n",
    "        return token.pos_\n",
    "\n",
    "# common word\n",
    "nltk.download('words')\n",
    "common_words = set(words.words())\n",
    "def common_word(word):\n",
    "    return word.lower() in common_words"
   ]
  },
  {
   "cell_type": "code",
   "execution_count": 6,
   "id": "a2f9c78f-9d13-4b1b-acd9-4e0afc97d7ad",
   "metadata": {},
   "outputs": [],
   "source": [
    "classes = []\n",
    "\n",
    "for tok in book_tokens_unique:\n",
    "    if len(tok) == 1:\n",
    "        if is_punctuation(tok):\n",
    "            classes.append(\"punctuation\")\n",
    "        elif tok.isalpha():\n",
    "            classes.append(\"letter\")\n",
    "        elif tok.isdigit():\n",
    "            classes.append(\"num\")\n",
    "        else:\n",
    "            classes.append(\"other\")\n",
    "        continue\n",
    "    \n",
    "    if tok[0] != \"Ġ\":\n",
    "        classes.append(\"affix\")\n",
    "        continue\n",
    "\n",
    "    tok = tok[1:]\n",
    "    if len(tok) == 1:\n",
    "        if is_punctuation(tok):\n",
    "            classes.append(\"punctuation\")\n",
    "            continue\n",
    "        if tok.isalpha() and tok not in [\"I\", \"a\", \"A\"]:  # here we check single-char words\n",
    "            classes.append(\"letter\")\n",
    "            continue\n",
    "        elif tok.isdigit():\n",
    "            classes.append(\"num\")\n",
    "            continue\n",
    "    if not common_word(tok):\n",
    "        classes.append(\"affix\")\n",
    "        continue\n",
    "    classes.append(get_pos(tok).lower())\n",
    "classes = np.array(classes)"
   ]
  },
  {
   "cell_type": "code",
   "execution_count": 7,
   "id": "d31dcf89-f52a-4a40-9816-6c8f382c3388",
   "metadata": {},
   "outputs": [
    {
     "name": "stdout",
     "output_type": "stream",
     "text": [
      "adj 1265\n",
      "['Ġpro' 'Ġother' 'Ġnew' 'Ġmany' 'Ġsuch' 'Ġown' 'Ġgood' 'Ġlast' 'ĠNew'\n",
      " 'Ġsame' 'Ġhigh' 'ĠPro' 'Ġgreat' 'Ġreal' 'Ġpublic' 'Ġfew' 'Ġdifferent'\n",
      " 'Ġbig' 'Ġbest' 'Ġlittle' 'Ġtri' 'Ġfull' 'Ġtop' 'Ġmain' 'Ġsmall'\n",
      " 'Ġcurrent' 'Ġold' 'Ġfree' 'Ġable' 'Ġleast' 'Ġlarge' 'Ġimportant' 'Ġclear'\n",
      " 'Ġlight' 'Ġmajor' 'Ġavailable' 'Ġcertain' 'Ġpossible' 'Ġproper' 'Ġshort'\n",
      " 'Ġseveral' 'Ġcomplete' 'Ġyoung' 'Ġlow' 'Ġant' 'Ġstrong' 'Ġsocial'\n",
      " 'Ġparticular' 'Ġlocal' 'Ġpolitical' 'Ġformer' 'Ġkey' 'Ġspecial' 'Ġblack'\n",
      " 'Ġsingle' 'Ġquick' 'Ġtrue' 'Ġbad' 'Ġsimilar' 'Ġentire' 'Ġspecific'\n",
      " 'Ġprevious' 'Ġwhole' 'Ġcommon' 'Ġdue' 'Ġnational' 'Ġrecent' 'Ġgeneral'\n",
      " 'ĠRed' 'Ġmass' 'ĠNational' 'Ġthird' 'Ġsignificant' 'Ġdifficult' 'Ġhigher'\n",
      " 'Ġfinal' 'ĠSouth' 'Ġeasy' 'Ġpersonal' 'ĠBlack' 'ĠWhite' 'Ġdead' 'Ġwrong'\n",
      " 'Ġoriginal' 'Ġprim' 'Ġsoft' 'Ġserious' 'Ġlegal' 'Ġill' 'Ġaverage'\n",
      " 'Ġperfect' 'Ġsimple' 'Ġprivate' 'Ġworth' 'Ġselect' 'Ġpopular' 'Ġvarious'\n",
      " 'Ġprofess' 'Ġhot' 'Ġcivil']\n",
      "\n",
      "adp 104\n",
      "['Ġof' 'Ġin' 'Ġon' 'Ġfor' 'Ġwith' 'Ġas' 'Ġat' 'Ġby' 'Ġfrom' 'ĠIn' 'Ġper'\n",
      " 'Ġthan' 'Ġover' 'Ġinto' 'Ġafter' 'Ġunder' 'ĠRe' 'Ġthrough' 'Ġbefore'\n",
      " 'Ġbetween' 'Ġagainst' 'ĠAs' 'ĠFor' 'Ġduring' 'Ġwithout' 'Ġnear' 'ĠOn'\n",
      " 'Ġuntil' 'Ġwithin' 'ĠAt' 'Ġes' 'Ġalong' 'Ġamong' 'Ġacross' 'Ġabove'\n",
      " 'ĠWith' 'Ġbehind' 'Ġbelow' 'ĠAfter' 'ĠPer' 'Ġinside' 'ĠBy' 'Ġvia' 'ĠOf'\n",
      " 'ĠOff' 'ĠIN' 'Ġtowards' 'ĠFrom' 'Ġbeyond' 'Ġthroughout' 'Ġtoward' 'ĠOver'\n",
      " 'ĠOF' 'Ġonto' 'ĠLike' 'ĠUnder' 'Ġunlike' 'ĠTO' 'ĠDuring' 'Ġast' 'ĠAS'\n",
      " 'ĠBefore' 'ĠFOR' 'Ġalongside' 'Ġversus' 'ĠWithout' 'ĠThrough' 'ĠAmong'\n",
      " 'Ġamid' 'Ġbeneath' 'Ġamongst' 'ĠUnlike' 'ĠBeyond' 'Ġna' 'ĠWithin' 'Ġunto'\n",
      " 'ĠAgainst' 'ĠWITH' 'Ġbeside' 'ĠUntil' 'ĠBetween' 'ĠInside' 'ĠDue' 'ĠWa'\n",
      " 'Ġaboard' 'ĠFROM' 'ĠOUT' 'Ġnearest' 'ĠAlong' 'Ġatop' 'ĠNear' 'Ġta'\n",
      " 'ĠBehind' 'ĠAbove' 'Ġlest' 'Ġnotwithstanding' 'Ġamidst' 'Ġgown' 'ĠUNDER'\n",
      " 'ĠAFTER']\n",
      "\n",
      "adv 714\n",
      "['Ġout' 'Ġup' 'Ġmore' 'Ġso' 'Ġabout' 'Ġen' 'Ġoff' 'Ġthere' 'Ġalso' 'Ġjust'\n",
      " 'Ġonly' 'Ġfirst' 'Ġback' 'Ġmost' 'Ġagain' 'Ġeven' 'Ġnow' 'Ġthen' 'Ġass'\n",
      " 'Ġvery' 'Ġdown' 'Ġmuch' 'Ġlong' 'Ġstill' 'Ġhere' 'Ġaround' 'Ġreally'\n",
      " 'Ġtoo' 'Ġsecond' 'Ġnever' 'Ġfar' 'Ġnext' 'ĠThere' 'Ġhard' 'Ġless'\n",
      " 'Ġbetter' 'ĠSo' 'Ġalways' 'Ġaway' 'Ġalready' 'Ġlater' 'Ġenough' 'Ġsure'\n",
      " 'ĠTe' 'Ġactually' 'Ġever' 'Ġoften' 'Ġonce' 'Ġyet' 'Ġlikely' 'Ġearly'\n",
      " 'Ġtogether' 'Ġeither' 'ĠEn' 'Ġalmost' 'Ġelse' 'Ġago' 'ĠHowever' 'Ġrather'\n",
      " 'Ġhowever' 'Ġprobably' 'Ġfurther' 'Ġmatter' 'ĠJust' 'Ġoutside' 'Ġsimply'\n",
      " 'Ġlonger' 'Ġquite' 'Ġinstead' 'Ġpretty' 'Ġsoon' 'Ġespecially' 'Ġforward'\n",
      " 'ĠNow' 'Ġlate' 'Ġdeep' 'Ġlower' 'Ġround' 'Ġrecently' 'Ġquickly' 'Ġnearly'\n",
      " 'Ġcurrently' 'Ġwide' 'ĠMore' 'Ġprior' 'Ġcompletely' 'ĠUp' 'Ġusually'\n",
      " 'ĠThen' 'Ġdirectly' 'ĠFirst' 'Ġsometimes' 'Ġimmediately' 'ĠEven' 'ĠHere'\n",
      " 'Ġalone' 'Ġfinally' 'Ġexactly' 'Ġeasily' 'Ġparticularly']\n",
      "\n",
      "affix 10678\n",
      "['he' 'in' 're' 'on' 'er' 'at' 'en' 'it' 'is' 'an' 'or' 'es' 'ed' 'ing'\n",
      " 'ou' 'al' 'ar' 'ic' 'as' 'le' 'ion' 'om' 'll' 'ent' 'st' 've' 'ro' 'ly'\n",
      " 'ct' 'id' 'ot' 'ut' 'et' 'im' 'am' 'ow' 'ay' 'ad' 'se' 'ig' 'ac' 'ver'\n",
      " 'ur' 'ld' \"'s\" 'ation' 'ith' 'ir' 'ce' 'il' 'Ġwh' 'ol' 'ter' 'ch' 'nd'\n",
      " 'ill' 'if' 'ag' 'ers' 'ke' 'em' 'her' 'od' 'ul' 'ate' 'ri' 'pp' 'ore'\n",
      " 'us' 'um' 'ain' 'and' 'igh' 'est' 'ist' 'ab' 'rom' 'th' 'Ġcom' 'un' 'op'\n",
      " 'ess' 'res' 'ew' 'ity' 'ant' 'el' 'os' 'ort' 'oc' 'qu' 'Ġsu' 'ive' 'ould'\n",
      " 'nt' 'ra' 'pe' 'ight' 'art' 'ment']\n",
      "\n",
      "aux 46\n",
      "['Ġbe' 'Ġis' 'Ġwas' 'Ġare' 'Ġcan' 'Ġwill' 'Ġwere' 'Ġwould' 'Ġbeen'\n",
      " 'Ġcould' 'Ġam' 'Ġmay' 'Ġshould' 'Ġbeing' 'ĠIs' 'Ġmight' 'Ġca' 'Ġmust'\n",
      " 'ĠBe' 'ĠCan' 'ĠAm' 'ĠMay' 'Ġshall' 'Ġcannot' 'ĠWill' 'ĠIS' 'ĠAre' 'ĠCa'\n",
      " 'ĠWas' 'ĠBE' 'ĠCould' 'ĠShould' 'Ġought' 'ĠWould' 'ĠBeing' 'ĠMust'\n",
      " 'ĠWere' 'ĠARE' 'ĠMUST' 'Ġcant' 'ĠWAS' 'ĠMight' 'Ġwo' 'Ġwont' 'Ġmould'\n",
      " 'ĠBeen']\n",
      "\n",
      "cconj 15\n",
      "['Ġand' 'Ġor' 'Ġbut' 'ĠAnd' 'ĠBut' 'ĠOr' 'Ġrat' 'Ġnor' 'ĠAND' 'ĠNor'\n",
      " 'Ġplus' 'Ġneither' 'ĠOR' 'ĠBUT' 'Ġhither']\n",
      "\n",
      "det 1\n",
      "['Ġwhose']\n",
      "\n",
      "intj 63\n",
      "['Ġha' 'ĠSt' 'Ġlike' 'Ġno' 'Ġpo' 'Ġright' 'Ġwell' 'Ġmon' 'ĠDe' 'ĠNo' 'Ġer'\n",
      " 'Ġwa' 'ĠEm' 'Ġaw' 'ĠYes' 'Ġplease' 'Ġyes' 'ĠWell' 'ĠOh' 'ĠPlease' 'ĠEr'\n",
      " 'ĠBoy' 'ĠRight' 'Ġtur' 'ĠAh' 'ĠNO' 'ĠAst' 'ĠHa' 'ĠYeah' 'Ġyeah' 'ĠBud'\n",
      " 'ĠSure' 'ĠBY' 'Ġoh' 'ĠER' 'ĠHey' 'ĠHi' 'Ġhey' 'ĠFine' 'ĠHello'\n",
      " 'Ġgoodness' 'ĠUm' 'Ġya' 'ĠYES' 'Ġalright' 'Ġhello' 'Ġum' 'ĠWow' 'ĠBun'\n",
      " 'Ġwow' 'Ġah' 'ĠDob' 'ĠEh' 'ĠDag' 'ĠHep' 'Ġeh' 'Ġblah' 'Ġfarewell' 'Ġbye'\n",
      " 'Ġunknow' 'ĠWim' 'ĠAlas' 'Ġalas']\n",
      "\n",
      "letter 108\n",
      "['A' 'B' 'C' 'D' 'E' 'F' 'G' 'H' 'I' 'J' 'K' 'L' 'M' 'N' 'O' 'P' 'Q' 'R'\n",
      " 'S' 'T' 'U' 'V' 'W' 'X' 'Y' 'Z' 'a' 'b' 'c' 'd' 'e' 'f' 'g' 'h' 'i' 'j'\n",
      " 'k' 'l' 'm' 'n' 'o' 'p' 'q' 'r' 's' 't' 'u' 'v' 'w' 'x' 'y' 'z' 'Â' 'Ċ'\n",
      " 'Ġ' 'ĺ' 'Ļ' 'ľ' 'Ŀ' 'Ġt' 'Ġs' 'Ġw' 'Ġo' 'Ġc' 'Ġb' 'Ġf' 'Ġp' 'Ġm' 'Ġd'\n",
      " 'Ġh' 'Ġn' 'Ġl' 'Ġe' 'Ġg' 'ĠT' 'ĠS' 'ĠC' 'Ġy' 'Ġu' 'ĠM' 'ĠB' 'ĠP' 'ĠD'\n",
      " 'ĠH' 'ĠW' 'ĠR' 'Ġr' 'ĠF' 'ĠN' 'ĠG' 'ĠL' 'Ġv' 'ĠE' 'ĠO' 'ĠJ' 'ĠU' 'Ġj'\n",
      " 'Ġk' 'ĠK' 'ĠV']\n",
      "\n",
      "noun 3564\n",
      "['Ġex' 'Ġad' 'Ġman' 'Ġyear' 'Ġpart' 'Ġtime' 'Ġpeople' 'Ġwork' 'Ġpol'\n",
      " 'Ġway' 'Ġend' 'ĠSh' 'ĠAr' 'Ġmin' 'Ġgame' 'Ġreport' 'Ġworld' 'Ġspec'\n",
      " 'Ġear' 'Ġperson' 'Ġser' 'Ġteam' 'Ġsystem' 'Ġcar' 'Ġlaw' 'Ġsupport'\n",
      " 'Ġfact' 'Ġday' 'Ġcor' 'Ġwar' 'Ġpower' 'Ġstate' 'Ġhead' 'Ġposs' 'Ġchild'\n",
      " 'Ġlife' 'ĠAd' 'Ġdisc' 'Ġmonth' 'Ġgovernment' 'Ġleg' 'Ġquest' 'Ġlevel'\n",
      " 'Ġart' 'Ġeffect' 'Ġcent' 'Ġlot' 'Ġfun' 'Ġnumber' 'Ġpost' 'Ġweek' 'Ġplace'\n",
      " 'Ġsoc' 'Ġmark' 'Ġinformation' 'Ġbus' 'Ġimport' 'Ġtest' 'Ġrest' 'Ġcase'\n",
      " 'Ġlist' 'Ġhome' 'Ġinterest' 'Ġclass' 'Ġplan' 'Ġpercent' 'Ġcamp'\n",
      " 'Ġprocess' 'Ġprogram' 'Ġname' 'Ġgroup' 'Ġmen' 'Ġcap' 'ĠCon' 'Ġbook'\n",
      " 'Ġcountry' 'Ġorder' 'Ġthing' 'Ġschool' 'Ġdays' 'Ġhealth' 'Ġsol' 'Ġfriend'\n",
      " 'Ġview' 'Ġword' 'Ġpar' 'Ġbusiness' 'Ġpast' 'Ġdev' 'Ġstory' 'Ġseason'\n",
      " 'Ġline' 'Ġproject' 'Ġcontrol' 'Ġair' 'Ġmoney' 'Ġfamily' 'Ġbit' 'Ġpolice'\n",
      " 'Ġwater']\n",
      "\n",
      "num 67\n",
      "['1' '2' '3' '4' '5' '6' '7' '9' 'Ġ1' 'Ġ2' 'Ġ3' 'Ġone' 'Ġ4' 'Ġ5' 'Ġ0' 'Ġ6'\n",
      " 'Ġtwo' 'Ġ7' 'Ġ8' 'Ġ9' 'Ġthree' 'Ġfour' 'Ġmillion' 'ĠOne' 'Ġfive' 'Ġsix'\n",
      " 'Ġhundred' 'Ġten' 'Ġseven' 'Ġeight' 'ĠTwo' 'Ġnine' 'Ġzero' 'ĠFour'\n",
      " 'Ġthousand' 'ĠThree' 'Ġtwenty' 'ĠTen' 'ĠSix' 'ĠFive' 'Ġthirty' 'ĠSeven'\n",
      " 'Ġtwelve' 'Ġfifty' 'ĠONE' 'ĠNine' 'Ġforty' 'Ġfifteen' 'ĠEight' 'Ġeleven'\n",
      " 'ĠTwenty' 'Ġsixty' 'Ġsixteen' 'Ġthirteen' 'Ġeighteen' 'Ġfourteen'\n",
      " 'ĠTwelve' 'Ġseventy' 'Ġtreacher' 'ĠTWO' 'ĠFifty' 'Ġeighty' 'Ġninety'\n",
      " 'ĠThousand' 'ĠHundred' 'Ġnineteen' 'ĠTHREE']\n",
      "\n",
      "other 2\n",
      "['¦' '¼']\n",
      "\n",
      "part 5\n",
      "['Ġto' 'Ġnot' 'ĠTo' 'ĠNot' 'ĠNOT']\n",
      "\n",
      "pron 137\n",
      "['Ġa' 'Ġthe' 'Ġan' 'ĠI' 'ĠA' 'Ġthat' 'Ġhe' 'Ġit' 'Ġyou' 'Ġwe' 'ĠThe' 'Ġsh'\n",
      " 'Ġthis' 'Ġhis' 'Ġall' 'Ġthey' 'Ġme' 'Ġwho' 'Ġtheir' 'Ġus' 'Ġyour'\n",
      " 'Ġwhich' 'Ġany' 'Ġthem' 'Ġher' 'Ġmy' 'Ġsome' 'ĠIt' 'Ġwhat' 'Ġits' 'Ġshe'\n",
      " 'Ġour' 'ĠHe' 'Ġhim' 'ĠThis' 'ĠWe' 'Ġthese' 'Ġevery' 'Ġem' 'Ġthose' 'ĠYou'\n",
      " 'ĠAn' 'Ġboth' 'ĠThey' 'Ġeach' 'Ġanother' 'Ġsomething' 'Ġtra' 'ĠThat'\n",
      " 'ĠShe' 'ĠAll' 'ĠWhat' 'Ġanything' 'ĠMy' 'Ġsomeone' 'Ġnothing' 'ĠMe'\n",
      " 'Ġhimself' 'Ġeverything' 'ĠThese' 'ĠHer' 'Ġitself' 'ĠHis' 'Ġthemselves'\n",
      " 'Ġeveryone' 'Ġanyone' 'ĠSome' 'ĠTHE' 'ĠYour' 'Ġyourself' 'ĠAN' 'Ġmyself'\n",
      " 'ĠEvery' 'ĠOur' 'ĠUs' 'Ġwhom' 'Ġwhatever' 'ĠAny' 'Ġherself' 'ĠTheir'\n",
      " 'ĠWho' 'ĠEach' 'ĠBoth' 'ĠThose' 'ĠAnother' 'Ġmine' 'ĠIts' 'Ġourselves'\n",
      " 'ĠYOU' 'ĠIT' 'Ġeverybody' 'Ġnobody' 'Ġsomebody' 'ĠWhich' 'Ġanybody'\n",
      " 'ĠNothing' 'ĠHim' 'ĠEveryone' 'ĠALL' 'ĠHE']\n",
      "\n",
      "propn 806\n",
      "['Ġst' 'Ġcon' 'Ġse' 'Ġal' 'Ġsa' 'Ġne' 'Ġun' 'Ġte' 'Ġdis' 'ĠUn' 'Ġsec'\n",
      " 'Ġrel' 'Ġdon' 'Ġreg' 'Ġbel' 'Ġstud' 'Ġfin' 'Ġsur' 'ĠAl' 'ĠSe' 'Ġret'\n",
      " 'Ġref' 'Ġcur' 'Ġche' 'Ġrep' 'Ġchar' 'Ġresp' 'Ġel' 'Ġpur' 'Ġhum' 'ĠRep'\n",
      " 'Ġmil' 'ĠEx' 'Ġchang' 'Ġbo' 'ĠMar' 'Ġprof' 'ĠUnited' 'Ġbas' 'Ġmar'\n",
      " 'Ġhuman' 'Ġhop' 'Ġlim' 'ĠGod' 'ĠSec' 'Ġben' 'Ġmult' 'ĠPresident' 'ĠDon'\n",
      " 'ĠHouse' 'Ġmor' 'Ġmag' 'ĠPol' 'Ġra' 'ĠAct' 'Ġdoc' 'Ġred' 'ĠTH' 'Ġwhite'\n",
      " 'Ġlo' 'Ġgen' 'Ġrad' 'Ġjo' 'ĠPar' 'Ġjud' 'ĠChe' 'Ġdiv' 'ĠJune' 'ĠMarch'\n",
      " 'Ġpict' 'ĠAugust' 'Ġboy' 'ĠMark' 'ĠMag' 'Ġfather' 'Ġbott' 'Ġlat' 'Ġbox'\n",
      " 'ĠDis' 'ĠChar' 'ĠPat' 'ĠPark' 'Ġsen' 'ĠMet' 'Ġreb' 'Ġneigh' 'ĠMor'\n",
      " 'ĠGreen' 'Ġinn' 'Ġstra' 'ĠLeg' 'ĠStud' 'ĠJack' 'ĠAnt' 'ĠDark' 'ĠRob'\n",
      " 'Ġrob' 'ĠBen' 'Ġcry' 'ĠMinister']\n",
      "\n",
      "punctuation 44\n",
      "['!' '\"' \"'\" '(' ')' '*' ',' '-' '.' '/' ':' ';' '=' '>' '?' '\\\\' ']' '^'\n",
      " '_' '`' '}' 'Ġ(' 'Ġ\"' 'Ġ-' 'Ġ[' \"Ġ'\" 'Ġ.' 'Ġ=' 'Ġ,' 'Ġ|' 'Ġ:' 'Ġ/' 'Ġ&'\n",
      " 'Ġ)' 'Ġ<' 'Ġ{' 'Ġ*' 'Ġ;' 'Ġ]' 'Ġ`' 'Ġ_' 'Ġ!' 'Ġ?' 'Ġ^']\n",
      "\n",
      "sconj 47\n",
      "['Ġif' 'Ġwhen' 'Ġhow' 'Ġbecause' 'Ġwhere' 'Ġwhile' 'Ġthough' 'ĠIf'\n",
      " 'Ġsince' 'ĠHow' 'Ġwhy' 'ĠWhen' 'Ġwhether' 'Ġupon' 'Ġexcept' 'ĠWhile'\n",
      " 'Ġalthough' 'Ġdespite' 'ĠWhy' 'ĠBecause' 'Ġunless' 'ĠSince' 'ĠAlthough'\n",
      " 'ĠWhere' 'ĠThough' 'ĠDespite' 'Ġwhenever' 'Ġwhereas' 'ĠWhether' 'Ġtill'\n",
      " 'Ġbesides' 'Ġwherever' 'Ġwhilst' 'ĠBesides' 'ĠIF' 'ĠUnless' 'ĠTill'\n",
      " 'ĠExcept' 'Ġalbeit' 'ĠWhenever' 'Ġtil' 'ĠWhereas' 'ĠHOW' 'ĠWHERE'\n",
      " 'ĠWhilst' 'ĠWHEN' 'ĠWHY']\n",
      "\n",
      "verb 2895\n",
      "['Ġth' 'Ġre' 'Ġhave' 'Ġdo' 'Ġgo' 'Ġsaid' 'ĠTh' 'Ġhad' 'Ġar' 'Ġget' 'Ġplay'\n",
      " 'Ġact' 'Ġbet' 'Ġdid' 'Ġadd' 'Ġknow' 'Ġneed' 'Ġwant' 'Ġsee' 'Ġuse' 'Ġmake'\n",
      " 'Ġlook' 'Ġbu' 'Ġimp' 'Ġsub' 'Ġdoes' 'Ġcall' 'Ġthink' 'Ġset' 'Ġshow'\n",
      " 'Ġsay' 'Ġstart' 'Ġmade' 'Ġcount' 'Ġpoint' 'Ġused' 'Ġinter' 'Ġtake'\n",
      " 'Ġgoing' 'Ġhand' 'Ġhelp' 'Ġfound' 'Ġsign' 'Ġrun' 'Ġfollow' 'Ġfind'\n",
      " 'Ġlead' 'Ġgovern' 'Ġread' 'Ġmet' 'Ġdevelop' 'Ġpass' 'Ġturn' 'Ġput'\n",
      " 'Ġallow' 'Ġfeel' 'Ġresult' 'Ġask' 'Ġdirect' 'Ġopen' 'Ġcome' 'Ġseem'\n",
      " 'Ġform' 'Ġtold' 'ĠTrump' 'Ġstand' 'Ġlet' 'Ġcare' 'Ġleft' 'Ġattack'\n",
      " 'Ġbuild' 'Ġgot' 'Ġkeep' 'Ġpay' 'Ġreturn' 'Ġmove' 'Ġpat' 'Ġpop' 'Ġdesign'\n",
      " 'Ġchange' 'Ġkill' 'ĠGo' 'Ġtell' 'Ġtalk' 'Ġcost' 'Ġgive' 'Ġwin' 'Ġexpect'\n",
      " 'Ġkind' 'Ġmean' 'Ġorgan' 'Ġperform' 'Ġclaim' 'Ġcame' 'Ġmaking' 'Ġhappen'\n",
      " 'Ġsit' 'Ġappear' 'Ġgrow' 'Ġsing']\n",
      "\n",
      "x 11\n",
      "['Ġde' 'Ġfe' 'Ġvis' 'Ġsuper' 'Ġanti' 'Ġfra' 'ĠNOR' 'ĠMAG' 'Ġtoddler'\n",
      " 'Ġseventeen' 'Ġdiner']\n",
      "\n"
     ]
    }
   ],
   "source": [
    "# let's take a look\n",
    "classes_unique = np.unique(classes)\n",
    "\n",
    "for cls in classes_unique:\n",
    "    print(cls, len(np.where(classes == cls)[0]))\n",
    "    print(book_tokens_unique[classes == cls][:100])\n",
    "    print()"
   ]
  },
  {
   "cell_type": "code",
   "execution_count": 8,
   "id": "f254d387-fc57-4178-8590-8cfdc7c8f7a9",
   "metadata": {},
   "outputs": [],
   "source": [
    "# this looks reasonable, but classes are too many\n",
    "# so we select the most meaningful ones\n",
    "super_classes = [\"adj\", \"adp\", \"adv\", \"aux\", \"verb\", \"cconj\", \"noun\", \"pron\", \"sconj\", \"verb\"]\n",
    "\n",
    "# show some stats\n",
    "class_counts_unique = []\n",
    "class_counts_total = []\n",
    "\n",
    "for cls in super_classes:\n",
    "    idx = np.where(classes == cls)[0]\n",
    "    class_counts_unique.append(len(idx))\n",
    "    class_counts_total.append(counts[idx].sum())"
   ]
  },
  {
   "cell_type": "code",
   "execution_count": 9,
   "id": "5e29db13-e1c7-4c8d-97f3-bf0520c4fc35",
   "metadata": {},
   "outputs": [
    {
     "data": {
      "image/png": "[encoded data removed]",
      "text/plain": [
       "<Figure size 1500x300 with 2 Axes>"
      ]
     },
     "metadata": {},
     "output_type": "display_data"
    }
   ],
   "source": [
    "import matplotlib.pyplot as plt\n",
    "\n",
    "fig, ax = plt.subplots(1, 2, figsize=(15, 3))\n",
    "ax[0].bar(super_classes, class_counts_unique)\n",
    "ax[0].set_title(\"Unique count\")\n",
    "ax[1].bar(super_classes, class_counts_total)\n",
    "ax[1].set_title(\"Total count\")\n",
    "plt.show()"
   ]
  },
  {
   "cell_type": "markdown",
   "id": "ce2ae069-5266-4414-8a22-4b9f2ff80e16",
   "metadata": {},
   "source": [
    "# Summary"
   ]
  },
  {
   "cell_type": "code",
   "execution_count": 10,
   "id": "bf88415c-53c0-4fbb-b80c-c0ddfaac5648",
   "metadata": {},
   "outputs": [
    {
     "name": "stdout",
     "output_type": "stream",
     "text": [
      "20572 [    0     1     6 ... 50244 50248 50255]\n",
      "20572 [6337   56 7593 ...    1    2   66]\n",
      "20572 ['punctuation' 'punctuation' 'punctuation' ... 'verb' 'affix' 'affix']\n"
     ]
    }
   ],
   "source": [
    "# use `book_ids_unique` to retrieve kernels from trained model\n",
    "print(len(book_ids_unique), book_ids_unique)\n",
    "\n",
    "# use `counts` to filter out low-frequency tokens\n",
    "print(len(counts), counts)\n",
    "\n",
    "# use `classes` to find the type of words\n",
    "print(len(classes), classes)"
   ]
  },
  {
   "cell_type": "code",
   "execution_count": null,
   "id": "ca5fd3dc-d46a-48f9-981d-f86273e6a41b",
   "metadata": {},
   "outputs": [],
   "source": []
  }
 ],
 "metadata": {
  "kernelspec": {
   "display_name": "Python 3 (ipykernel)",
   "language": "python",
   "name": "python3"
  },
  "language_info": {
   "codemirror_mode": {
    "name": "ipython",
    "version": 3
   },
   "file_extension": ".py",
   "mimetype": "text/x-python",
   "name": "python",
   "nbconvert_exporter": "python",
   "pygments_lexer": "ipython3",
   "version": "3.11.8"
  }
 },
 "nbformat": 4,
 "nbformat_minor": 5
}
