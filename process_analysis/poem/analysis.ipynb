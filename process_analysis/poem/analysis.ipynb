{
 "cells": [
  {
   "cell_type": "markdown",
   "id": "8f001e30-f050-4c4c-9a52-511e9bf51523",
   "metadata": {},
   "source": [
    "# Tokenize full book"
   ]
  },
  {
   "cell_type": "code",
   "id": "2c818cc1-4980-4d95-b05e-576b9db6bd0a",
   "metadata": {
    "ExecuteTime": {
     "end_time": "2024-08-21T08:36:28.962822Z",
     "start_time": "2024-08-21T08:36:27.001371Z"
    }
   },
   "source": [
    "from transformers import GPT2Tokenizer\n",
    "\n",
    "tokenizer = GPT2Tokenizer.from_pretrained('gpt2')"
   ],
   "outputs": [
    {
     "name": "stderr",
     "output_type": "stream",
     "text": [
      "/home/ubuntu/miniconda3/envs/transformers-twiker/lib/python3.8/site-packages/huggingface_hub/file_download.py:1132: FutureWarning: `resume_download` is deprecated and will be removed in version 1.0.0. Downloads always resume when possible. If you want to force a new download, use `force_download=True`.\n",
      "  warnings.warn(\n"
     ]
    }
   ],
   "execution_count": 1
  },
  {
   "cell_type": "code",
   "id": "755204ef-a90d-4ef0-8347-a16c77c2b93f",
   "metadata": {
    "ExecuteTime": {
     "end_time": "2024-08-21T08:36:29.946731Z",
     "start_time": "2024-08-21T08:36:29.941109Z"
    }
   },
   "source": [
    "with open(\"/home/ubuntu/Downloads/twiker-experiments/process_analysis/poem/data_files/full.txt\", 'r') as fs:\n",
    "    book_text = fs.read()"
   ],
   "outputs": [],
   "execution_count": 2
  },
  {
   "cell_type": "code",
   "id": "b3253db7-363e-4493-907a-84be589a2dad",
   "metadata": {
    "ExecuteTime": {
     "end_time": "2024-08-21T08:36:34.787628Z",
     "start_time": "2024-08-21T08:36:31.479413Z"
    }
   },
   "source": [
    "import numpy as np\n",
    "\n",
    "book_tokens = np.array(tokenizer.tokenize(book_text))\n",
    "book_ids = np.array(tokenizer.convert_tokens_to_ids(book_tokens))"
   ],
   "outputs": [],
   "execution_count": 3
  },
  {
   "cell_type": "code",
   "id": "180946a4-f547-4605-a4e3-61202ae9df84",
   "metadata": {
    "ExecuteTime": {
     "end_time": "2024-08-21T08:36:36.858754Z",
     "start_time": "2024-08-21T08:36:36.814612Z"
    }
   },
   "source": [
    "# unique\n",
    "book_ids_unique, index, counts = np.unique(book_ids, return_index=True, return_counts=True)\n",
    "book_tokens_unique = book_tokens[index]\n",
    "\n",
    "print(\"Total\", len(book_ids))\n",
    "print(\"Unique\", len(book_ids_unique))"
   ],
   "outputs": [
    {
     "name": "stdout",
     "output_type": "stream",
     "text": [
      "Total 525478\n",
      "Unique 16226\n"
     ]
    }
   ],
   "execution_count": 4
  },
  {
   "cell_type": "markdown",
   "id": "93aca3f0-b857-4303-a9a6-0419e35913b0",
   "metadata": {},
   "source": [
    "# For linguistic analysis, we need to add these properties to `book_ids_unique`:\n",
    "\n",
    "* Counts of appearance: already found above\n",
    "* Class as one of follows: noun, verb, adjective, ..., punctuation, affix, letter, num, other"
   ]
  },
  {
   "cell_type": "code",
   "id": "dbd4d493-a98c-4bc8-9d15-f545d644ad34",
   "metadata": {
    "ExecuteTime": {
     "end_time": "2024-08-21T08:36:39.356263Z",
     "start_time": "2024-08-21T08:36:39.219137Z"
    }
   },
   "source": [
    "def find_non_ascii_characters(input_string):\n",
    "    non_ascii_characters = [char for char in input_string if ord(char) > 127]\n",
    "    return np.unique(non_ascii_characters)\n",
    "\n",
    "# Example usage\n",
    "non_ascii_characters = find_non_ascii_characters(book_text)\n",
    "print(\"Non-ASCII characters:\", non_ascii_characters)"
   ],
   "outputs": [
    {
     "name": "stdout",
     "output_type": "stream",
     "text": [
      "Non-ASCII characters: []\n"
     ]
    }
   ],
   "execution_count": 5
  },
  {
   "cell_type": "code",
   "id": "5594b219-45b6-4e4d-81a1-9a646ed22c84",
   "metadata": {
    "ExecuteTime": {
     "end_time": "2024-08-21T08:36:42.144611Z",
     "start_time": "2024-08-21T08:36:40.479834Z"
    }
   },
   "source": [
    "import string\n",
    "import spacy, nltk\n",
    "from nltk.corpus import words\n",
    "\n",
    "# punctuation\n",
    "def is_punctuation(char):\n",
    "    return char in string.punctuation or char in non_ascii_characters\n",
    "\n",
    "# pos of word\n",
    "nlp = spacy.load(\"en_core_web_sm\")\n",
    "def get_pos(word):\n",
    "    doc = nlp(word)\n",
    "    for token in doc:\n",
    "        return token.pos_\n",
    "\n",
    "# common word\n",
    "nltk.download('words')\n",
    "common_words = set(words.words())\n",
    "def common_word(word):\n",
    "    return word.lower() in common_words"
   ],
   "outputs": [
    {
     "name": "stderr",
     "output_type": "stream",
     "text": [
      "[nltk_data] Downloading package words to /home/ubuntu/nltk_data...\n",
      "[nltk_data]   Package words is already up-to-date!\n"
     ]
    }
   ],
   "execution_count": 6
  },
  {
   "cell_type": "code",
   "id": "a2f9c78f-9d13-4b1b-acd9-4e0afc97d7ad",
   "metadata": {
    "ExecuteTime": {
     "end_time": "2024-08-21T08:37:14.887782Z",
     "start_time": "2024-08-21T08:36:49.959384Z"
    }
   },
   "source": [
    "classes = []\n",
    "\n",
    "for tok in book_tokens_unique:\n",
    "    if len(tok) == 1:\n",
    "        if is_punctuation(tok):\n",
    "            classes.append(\"punctuation\")\n",
    "        elif tok.isalpha():\n",
    "            classes.append(\"letter\")\n",
    "        elif tok.isdigit():\n",
    "            classes.append(\"num\")\n",
    "        else:\n",
    "            classes.append(\"other\")\n",
    "        continue\n",
    "    \n",
    "    if tok[0] != \"Ġ\":\n",
    "        classes.append(\"affix\")\n",
    "        continue\n",
    "\n",
    "    tok = tok[1:]\n",
    "    if len(tok) == 1:\n",
    "        if is_punctuation(tok):\n",
    "            classes.append(\"punctuation\")\n",
    "            continue\n",
    "        if tok.isalpha() and tok not in [\"I\", \"a\", \"A\"]:  # here we check single-char words\n",
    "            classes.append(\"letter\")\n",
    "            continue\n",
    "        elif tok.isdigit():\n",
    "            classes.append(\"num\")\n",
    "            continue\n",
    "    if not common_word(tok):\n",
    "        classes.append(\"affix\")\n",
    "        continue\n",
    "    classes.append(get_pos(tok).lower())\n",
    "classes = np.array(classes)"
   ],
   "outputs": [
    {
     "name": "stderr",
     "output_type": "stream",
     "text": [
      "/tmp/ipykernel_3230073/1880707553.py:7: FutureWarning: elementwise comparison failed; returning scalar instead, but in the future will perform elementwise comparison\n",
      "  return char in string.punctuation or char in non_ascii_characters\n"
     ]
    }
   ],
   "execution_count": 7
  },
  {
   "cell_type": "code",
   "id": "d31dcf89-f52a-4a40-9816-6c8f382c3388",
   "metadata": {
    "ExecuteTime": {
     "end_time": "2024-08-21T08:37:14.903604Z",
     "start_time": "2024-08-21T08:37:14.890286Z"
    }
   },
   "source": [
    "# let's take a look\n",
    "classes_unique = np.unique(classes)\n",
    "\n",
    "for cls in classes_unique:\n",
    "    print(cls, len(np.where(classes == cls)[0]))\n",
    "    print(book_tokens_unique[classes == cls][:100])\n",
    "    print()"
   ],
   "outputs": [
    {
     "name": "stdout",
     "output_type": "stream",
     "text": [
      "adj 1105\n",
      "['Ġpro' 'Ġother' 'Ġnew' 'Ġmany' 'Ġsuch' 'Ġown' 'Ġgood' 'Ġlast' 'Ġsame'\n",
      " 'Ġhigh' 'Ġgreat' 'Ġreal' 'Ġpublic' 'Ġfew' 'Ġdifferent' 'Ġbig' 'Ġbest'\n",
      " 'Ġlittle' 'Ġtri' 'Ġfull' 'Ġtop' 'Ġmain' 'Ġsmall' 'Ġide' 'Ġcurrent' 'Ġold'\n",
      " 'Ġfree' 'Ġable' 'Ġleast' 'Ġlarge' 'Ġimportant' 'Ġclear' 'Ġlight' 'Ġmajor'\n",
      " 'Ġavailable' 'Ġcertain' 'Ġpossible' 'Ġproper' 'Ġshort' 'Ġseveral'\n",
      " 'Ġcomplete' 'Ġyoung' 'Ġlow' 'Ġant' 'Ġstrong' 'Ġsocial' 'Ġparticular'\n",
      " 'Ġlocal' 'Ġpolitical' 'Ġformer' 'Ġkey' 'Ġspecial' 'Ġblack' 'Ġsingle'\n",
      " 'Ġquick' 'Ġtrue' 'Ġbad' 'Ġsimilar' 'Ġentire' 'Ġspecific' 'Ġprevious'\n",
      " 'Ġwhole' 'Ġcommon' 'Ġdue' 'Ġnational' 'Ġrecent' 'Ġgeneral' 'Ġmass'\n",
      " 'Ġthird' 'Ġsignificant' 'Ġdifficult' 'Ġhigher' 'Ġfinal' 'Ġeasy'\n",
      " 'Ġpersonal' 'Ġdead' 'Ġwrong' 'Ġoriginal' 'Ġprim' 'Ġsoft' 'Ġserious'\n",
      " 'Ġlegal' 'Ġill' 'Ġaverage' 'Ġperfect' 'Ġsimple' 'Ġprivate' 'Ġworth'\n",
      " 'Ġselect' 'Ġcandid' 'Ġpopular' 'Ġvarious' 'Ġprofess' 'Ġhot' 'Ġcivil'\n",
      " 'Ġeconomic' 'Ġslow' 'Ġextra' 'Ġfair' 'Ġbroad']\n",
      "\n",
      "adp 56\n",
      "['Ġof' 'Ġin' 'Ġon' 'Ġfor' 'Ġwith' 'Ġas' 'Ġat' 'Ġby' 'Ġfrom' 'Ġper' 'Ġthan'\n",
      " 'Ġover' 'Ġinto' 'Ġafter' 'Ġunder' 'Ġthrough' 'Ġbefore' 'Ġbetween'\n",
      " 'Ġagainst' 'Ġduring' 'Ġwithout' 'Ġnear' 'Ġuntil' 'Ġwithin' 'Ġes' 'Ġalong'\n",
      " 'Ġamong' 'Ġacross' 'Ġabove' 'Ġbehind' 'Ġbelow' 'Ġinside' 'Ġtowards' 'Ġut'\n",
      " 'Ġbeyond' 'Ġthroughout' 'Ġtoward' 'Ġonto' 'Ġunlike' 'Ġast' 'Ġalongside'\n",
      " 'Ġversus' 'Ġamid' 'Ġbeneath' 'Ġamongst' 'Ġna' 'Ġunto' 'Ġbeside'\n",
      " 'Ġnearest' 'Ġatop' 'Ġminus' 'Ġta' 'Ġclown' 'Ġlest' 'Ġamidst' 'Ġgown']\n",
      "\n",
      "adv 475\n",
      "['Ġout' 'Ġup' 'Ġmore' 'Ġso' 'Ġabout' 'Ġen' 'Ġoff' 'Ġthere' 'Ġalso' 'Ġjust'\n",
      " 'Ġonly' 'Ġfirst' 'Ġback' 'Ġmost' 'Ġagain' 'Ġeven' 'Ġnow' 'Ġthen' 'Ġass'\n",
      " 'Ġvery' 'Ġdown' 'Ġmuch' 'Ġlong' 'Ġstill' 'Ġhere' 'Ġaround' 'Ġreally'\n",
      " 'Ġtoo' 'Ġsecond' 'Ġnever' 'Ġfar' 'Ġnext' 'Ġhard' 'Ġless' 'Ġbetter'\n",
      " 'Ġalways' 'Ġaway' 'Ġalready' 'Ġlater' 'Ġenough' 'Ġsure' 'Ġactually'\n",
      " 'Ġever' 'Ġoften' 'Ġonce' 'Ġyet' 'Ġlikely' 'Ġearly' 'Ġtogether' 'Ġeither'\n",
      " 'Ġalmost' 'Ġelse' 'Ġago' 'Ġrather' 'Ġhowever' 'Ġprobably' 'Ġfurther'\n",
      " 'Ġmatter' 'Ġoutside' 'Ġsimply' 'Ġlonger' 'Ġquite' 'Ġinstead' 'Ġpretty'\n",
      " 'Ġsoon' 'Ġespecially' 'Ġforward' 'Ġlate' 'Ġdeep' 'Ġlower' 'Ġround'\n",
      " 'Ġrecently' 'Ġquickly' 'Ġnearly' 'Ġwide' 'Ġprior' 'Ġcompletely'\n",
      " 'Ġusually' 'Ġdirectly' 'Ġsometimes' 'Ġimmediately' 'Ġalone' 'Ġfinally'\n",
      " 'Ġexactly' 'Ġeasily' 'Ġcertainly' 'Ġperhaps' 'Ġmaybe' 'Ġstraight'\n",
      " 'Ġfully' 'Ġhighly' 'Ġahead' 'Ġclearly' 'Ġgenerally' 'Ġthus' 'Ġeventually'\n",
      " 'Ġotherwise' 'Ġtherefore' 'Ġdaily' 'Ġextremely']\n",
      "\n",
      "affix 8207\n",
      "['he' 'in' 're' 'on' 'er' 'at' 'en' 'it' 'is' 'an' 'or' 'es' 'ed' 'ing'\n",
      " 'ou' 'al' 'ar' 'ic' 'as' 'le' 'ion' 'om' 'll' 'ent' 'st' 've' 'ro' 'ly'\n",
      " 'ct' 'id' 'ot' 'ut' 'et' 'im' 'am' 'ow' 'ay' 'ad' 'se' 'ig' 'ac' 'ver'\n",
      " 'ur' 'ld' \"'s\" 'ation' 'ith' 'ir' 'ce' 'il' 'Ġwh' 'ol' 'ter' 'ch' 'nd'\n",
      " 'ill' 'if' 'ag' 'ers' 'ke' 'em' 'her' 'od' 'ul' 'ate' 'ri' 'pp' 'ore'\n",
      " 'us' 'um' 'ain' 'and' 'igh' 'est' 'ist' 'ab' 'rom' 'th' 'Ġcom' 'un' 'op'\n",
      " 'ess' 'res' 'ew' 'ity' 'ant' 'el' 'os' 'ort' 'oc' 'qu' 'Ġsu' 'ive' 'ould'\n",
      " 'nt' 'ra' 'pe' 'ight' 'art' 'ment']\n",
      "\n",
      "aux 24\n",
      "['Ġbe' 'Ġis' 'Ġwas' 'Ġare' 'Ġcan' 'Ġwill' 'Ġwere' 'Ġwould' 'Ġbeen'\n",
      " 'Ġcould' 'Ġam' 'Ġmay' 'Ġshould' 'Ġbeing' 'Ġmight' 'Ġca' 'Ġmust' 'Ġshall'\n",
      " 'Ġcannot' 'Ġought' 'Ġcant' 'Ġwo' 'Ġwont' 'Ġmould']\n",
      "\n",
      "cconj 8\n",
      "['Ġand' 'Ġor' 'Ġbut' 'Ġrat' 'Ġnor' 'Ġplus' 'Ġneither' 'Ġhither']\n",
      "\n",
      "det 1\n",
      "['Ġwhose']\n",
      "\n",
      "intj 33\n",
      "['Ġha' 'Ġlike' 'Ġno' 'Ġpo' 'Ġright' 'Ġwell' 'Ġmon' 'Ġer' 'Ġwa' 'Ġess'\n",
      " 'Ġaw' 'Ġplease' 'Ġyes' 'Ġtur' 'Ġla' 'Ġyeah' 'Ġoh' 'Ġhey' 'Ġgoodness'\n",
      " 'Ġya' 'Ġalright' 'Ġhello' 'Ġum' 'Ġos' 'Ġwow' 'Ġah' 'Ġamen' 'Ġblah'\n",
      " 'Ġfarewell' 'Ġbye' 'Ġunknow' 'Ġmockery' 'Ġalas']\n",
      "\n",
      "letter 78\n",
      "['A' 'B' 'C' 'D' 'E' 'F' 'G' 'H' 'I' 'J' 'K' 'L' 'M' 'N' 'O' 'P' 'R' 'S'\n",
      " 'T' 'U' 'V' 'W' 'X' 'Y' 'Z' 'a' 'b' 'c' 'd' 'e' 'f' 'g' 'h' 'i' 'j' 'k'\n",
      " 'l' 'm' 'n' 'o' 'p' 'q' 'r' 's' 't' 'u' 'v' 'w' 'x' 'y' 'z' 'Ċ' 'Ġ' 'Ġt'\n",
      " 'Ġs' 'Ġw' 'Ġo' 'Ġc' 'Ġb' 'Ġf' 'Ġp' 'Ġm' 'Ġd' 'Ġh' 'Ġn' 'Ġl' 'Ġe' 'Ġg'\n",
      " 'Ġy' 'Ġu' 'Ġr' 'Ġv' 'Ġj' 'Ġk' 'Ġi' 'Ġz' 'Ġx' 'Ġq']\n",
      "\n",
      "noun 3161\n",
      "['Ġex' 'Ġad' 'Ġman' 'Ġyear' 'Ġpart' 'Ġtime' 'Ġpeople' 'Ġwork' 'Ġpol'\n",
      " 'Ġway' 'Ġend' 'Ġmin' 'Ġgame' 'Ġreport' 'Ġworld' 'Ġspec' 'Ġear' 'Ġperson'\n",
      " 'Ġser' 'Ġteam' 'Ġsystem' 'Ġcar' 'Ġlaw' 'Ġsupport' 'Ġfact' 'Ġday' 'Ġcor'\n",
      " 'Ġwar' 'Ġpower' 'Ġstate' 'Ġhead' 'Ġposs' 'Ġchild' 'Ġlife' 'Ġdisc'\n",
      " 'Ġmonth' 'Ġgovernment' 'Ġleg' 'Ġquest' 'Ġlevel' 'Ġart' 'Ġeffect' 'Ġcent'\n",
      " 'Ġlot' 'Ġfun' 'Ġnumber' 'Ġpost' 'Ġweek' 'Ġplace' 'Ġsoc' 'Ġmark'\n",
      " 'Ġinformation' 'Ġbus' 'Ġimport' 'Ġtest' 'Ġrest' 'Ġcase' 'Ġlist' 'Ġhome'\n",
      " 'Ġinterest' 'Ġclass' 'Ġplan' 'Ġpercent' 'Ġcamp' 'Ġprocess' 'Ġprogram'\n",
      " 'Ġname' 'Ġgroup' 'Ġmen' 'Ġcap' 'Ġbook' 'Ġcountry' 'Ġorder' 'Ġthing'\n",
      " 'Ġschool' 'Ġdays' 'Ġhealth' 'Ġsol' 'Ġfriend' 'Ġhist' 'Ġview' 'Ġword'\n",
      " 'Ġpar' 'Ġbusiness' 'Ġpast' 'Ġdev' 'Ġstory' 'Ġseason' 'Ġline' 'Ġproject'\n",
      " 'Ġcontrol' 'Ġair' 'Ġmoney' 'Ġfamily' 'Ġbit' 'Ġpolice' 'Ġwater' 'Ġtimes'\n",
      " 'Ġcompany' 'Ġexample']\n",
      "\n",
      "num 48\n",
      "['0' '1' '2' '3' '4' '6' '8' 'Ġ1' 'Ġ2' 'Ġ3' 'Ġone' 'Ġ4' 'Ġ5' 'Ġ6' 'Ġtwo'\n",
      " 'Ġ7' 'Ġ8' 'Ġ9' 'Ġthree' 'Ġfour' 'Ġmillion' 'Ġfive' 'Ġsix' 'Ġbillion'\n",
      " 'Ġhundred' 'Ġten' 'Ġseven' 'Ġeight' 'Ġnine' 'Ġzero' 'Ġthousand' 'Ġtwenty'\n",
      " 'Ġthirty' 'Ġtwelve' 'Ġfifty' 'Ġforty' 'Ġfifteen' 'Ġeleven' 'Ġsixty'\n",
      " 'Ġsixteen' 'Ġthirteen' 'Ġeighteen' 'Ġfourteen' 'Ġseventy' 'Ġtreacher'\n",
      " 'Ġeighty' 'Ġninety' 'Ġnineteen']\n",
      "\n",
      "part 2\n",
      "['Ġto' 'Ġnot']\n",
      "\n",
      "pron 66\n",
      "['Ġa' 'Ġthe' 'Ġan' 'Ġthat' 'Ġhe' 'Ġit' 'Ġyou' 'Ġwe' 'Ġsh' 'Ġthis' 'Ġhis'\n",
      " 'Ġall' 'Ġthey' 'Ġme' 'Ġwho' 'Ġtheir' 'Ġus' 'Ġyour' 'Ġwhich' 'Ġany'\n",
      " 'Ġthem' 'Ġher' 'Ġmy' 'Ġsome' 'Ġwhat' 'Ġits' 'Ġshe' 'Ġour' 'Ġhim' 'Ġthese'\n",
      " 'Ġevery' 'Ġem' 'Ġthose' 'Ġboth' 'Ġeach' 'Ġanother' 'Ġsomething' 'Ġtra'\n",
      " 'Ġanything' 'Ġsomeone' 'Ġnothing' 'Ġhimself' 'Ġeverything' 'Ġitself'\n",
      " 'Ġthemselves' 'Ġeveryone' 'Ġanyone' 'Ġyourself' 'Ġmyself' 'Ġwhom'\n",
      " 'Ġwhatever' 'Ġherself' 'Ġmine' 'Ġourselves' 'Ġeverybody' 'Ġnobody'\n",
      " 'Ġsomebody' 'Ġanybody' 'Ġwhoever' 'Ġtheirs' 'Ġwhichever' 'Ġoneself'\n",
      " 'Ġthats' 'Ġwed' 'Ġwhim' 'Ġwhats']\n",
      "\n",
      "propn 516\n",
      "['Ġst' 'Ġcon' 'Ġse' 'Ġal' 'Ġsa' 'Ġne' 'Ġun' 'Ġte' 'Ġdis' 'Ġsec' 'Ġrel'\n",
      " 'Ġdon' 'Ġreg' 'Ġbel' 'Ġstud' 'Ġcol' 'Ġfin' 'Ġsur' 'Ġret' 'Ġref' 'Ġmem'\n",
      " 'Ġcur' 'Ġche' 'Ġrep' 'Ġfam' 'Ġchar' 'Ġresp' 'Ġel' 'Ġpur' 'Ġhum' 'Ġmil'\n",
      " 'Ġchang' 'Ġbo' 'Ġann' 'Ġprof' 'Ġbas' 'Ġmar' 'Ġhuman' 'Ġhop' 'Ġlim' 'Ġben'\n",
      " 'Ġviol' 'Ġmult' 'Ġmor' 'Ġmag' 'Ġra' 'Ġred' 'Ġwhite' 'Ġlo' 'Ġgen' 'Ġrad'\n",
      " 'Ġjo' 'Ġjud' 'Ġdiv' 'Ġtou' 'Ġpict' 'Ġboy' 'Ġfather' 'Ġbott' 'Ġlat' 'Ġbox'\n",
      " 'Ġprep' 'Ġsen' 'Ġdeg' 'Ġneigh' 'Ġinn' 'Ġstra' 'Ġrob' 'Ġcry' 'Ġsun' 'Ġbur'\n",
      " 'Ġspirit' 'Ġstreet' 'Ġid' 'Ġstring' 'Ġge' 'Ġbutton' 'Ġelectric' 'Ġsan'\n",
      " 'Ġing' 'Ġbon' 'Ġsouth' 'Ġdim' 'Ġalcohol' 'Ġgay' 'Ġvan' 'Ġmir' 'Ġtele'\n",
      " 'Ġgod' 'Ġsam' 'Ġtweet' 'Ġkit' 'Ġbatt' 'Ġcloud' 'Ġmal' 'Ġnarr' 'Ġpin'\n",
      " 'Ġassert' 'Ġbuff' 'Ġmo']\n",
      "\n",
      "punctuation 12\n",
      "['\"' \"'\" ',' '.' ';' '?' 'Ġ\"' \"Ġ'\" 'Ġ.' 'Ġ,' 'Ġ;' 'Ġ?']\n",
      "\n",
      "sconj 24\n",
      "['Ġif' 'Ġwhen' 'Ġhow' 'Ġbecause' 'Ġwhere' 'Ġwhile' 'Ġthough' 'Ġsince'\n",
      " 'Ġwhy' 'Ġwhether' 'Ġupon' 'Ġexcept' 'Ġalthough' 'Ġdespite' 'Ġunless'\n",
      " 'Ġwhenever' 'Ġwhereas' 'Ġtill' 'Ġbesides' 'Ġwherever' 'Ġwhilst' 'Ġalbeit'\n",
      " 'Ġtil' 'Ġwherein']\n",
      "\n",
      "verb 2401\n",
      "['Ġth' 'Ġre' 'Ġhave' 'Ġdo' 'Ġgo' 'Ġsaid' 'Ġhad' 'Ġar' 'Ġget' 'Ġplay'\n",
      " 'Ġact' 'Ġbet' 'Ġdid' 'Ġadd' 'Ġknow' 'Ġneed' 'Ġwant' 'Ġsee' 'Ġuse' 'Ġmake'\n",
      " 'Ġlook' 'Ġbu' 'Ġimp' 'Ġsub' 'Ġdoes' 'Ġcall' 'Ġthink' 'Ġset' 'Ġshow'\n",
      " 'Ġsay' 'Ġstart' 'Ġmade' 'Ġcount' 'Ġpoint' 'Ġused' 'Ġinter' 'Ġtake'\n",
      " 'Ġgoing' 'Ġhand' 'Ġhelp' 'Ġfound' 'Ġsign' 'Ġrun' 'Ġfollow' 'Ġfind'\n",
      " 'Ġlead' 'Ġgovern' 'Ġread' 'Ġmet' 'Ġprog' 'Ġdevelop' 'Ġpass' 'Ġturn'\n",
      " 'Ġput' 'Ġallow' 'Ġfeel' 'Ġresult' 'Ġask' 'Ġdirect' 'Ġopen' 'Ġcome'\n",
      " 'Ġseem' 'Ġform' 'Ġtold' 'Ġstand' 'Ġlet' 'Ġinvest' 'Ġcare' 'Ġleft'\n",
      " 'Ġattack' 'Ġbuild' 'Ġgot' 'Ġkeep' 'Ġpay' 'Ġreturn' 'Ġmove' 'Ġpat' 'Ġpop'\n",
      " 'Ġdesign' 'Ġchange' 'Ġkill' 'Ġtell' 'Ġtalk' 'Ġcost' 'Ġgive' 'Ġwin'\n",
      " 'Ġexpect' 'Ġkind' 'Ġmean' 'Ġorgan' 'Ġperform' 'Ġclaim' 'Ġcame' 'Ġmaking'\n",
      " 'Ġhappen' 'Ġsit' 'Ġappear' 'Ġgrow' 'Ġsing' 'Ġfollowing']\n",
      "\n",
      "x 9\n",
      "['Ġde' 'Ġfe' 'Ġvis' 'Ġsuper' 'Ġanti' 'Ġfra' 'Ġtoddler' 'Ġseventeen' 'Ġtho']\n",
      "\n"
     ]
    }
   ],
   "execution_count": 8
  },
  {
   "cell_type": "code",
   "id": "f254d387-fc57-4178-8590-8cfdc7c8f7a9",
   "metadata": {
    "ExecuteTime": {
     "end_time": "2024-08-21T08:37:14.911441Z",
     "start_time": "2024-08-21T08:37:14.905010Z"
    }
   },
   "source": [
    "# this looks reasonable, but classes are too many\n",
    "# so we select the most meaningful ones\n",
    "super_classes = [\"adj\", \"adp\", \"adv\", \"aux\", \"verb\", \"cconj\", \"noun\", \"pron\", \"sconj\", \"verb\"]\n",
    "\n",
    "# show some stats\n",
    "class_counts_unique = []\n",
    "class_counts_total = []\n",
    "\n",
    "for cls in super_classes:\n",
    "    idx = np.where(classes == cls)[0]\n",
    "    class_counts_unique.append(len(idx))\n",
    "    class_counts_total.append(counts[idx].sum())"
   ],
   "outputs": [],
   "execution_count": 9
  },
  {
   "cell_type": "code",
   "id": "5e29db13-e1c7-4c8d-97f3-bf0520c4fc35",
   "metadata": {
    "ExecuteTime": {
     "end_time": "2024-08-21T08:41:55.767821Z",
     "start_time": "2024-08-21T08:41:54.990329Z"
    }
   },
   "source": [
    "import matplotlib.pyplot as plt\n",
    "\n",
    "fig, ax = plt.subplots(1, 2, figsize=(15, 3))\n",
    "ax[0].bar(super_classes, class_counts_unique)\n",
    "ax[0].set_title(\"Unique count\")\n",
    "ax[1].bar(super_classes, class_counts_total)\n",
    "ax[1].set_title(\"Total count\")\n",
    "plt.show()"
   ],
   "outputs": [
    {
     "data": {
      "text/plain": [
       "<Figure size 1500x300 with 2 Axes>"
      ],
      "image/png": "[encoded data removed]"
     },
     "metadata": {},
     "output_type": "display_data"
    }
   ],
   "execution_count": 10
  },
  {
   "cell_type": "markdown",
   "id": "ce2ae069-5266-4414-8a22-4b9f2ff80e16",
   "metadata": {},
   "source": [
    "# Summary"
   ]
  },
  {
   "cell_type": "code",
   "id": "bf88415c-53c0-4fbb-b80c-c0ddfaac5648",
   "metadata": {
    "ExecuteTime": {
     "end_time": "2024-08-21T08:42:00.229722Z",
     "start_time": "2024-08-21T08:42:00.224469Z"
    }
   },
   "source": [
    "# use `book_ids_unique` to retrieve kernels from trained model\n",
    "print(len(book_ids_unique), book_ids_unique)\n",
    "\n",
    "# use `book_tokens_unique` to see word\n",
    "print(len(book_tokens_unique), book_tokens_unique)\n",
    "\n",
    "# use `counts` to filter out low-frequency tokens\n",
    "print(len(counts), counts)\n",
    "\n",
    "# use `classes` to find the type of words\n",
    "print(len(classes), classes)"
   ],
   "outputs": [
    {
     "name": "stdout",
     "output_type": "stream",
     "text": [
      "16226 [    1     6    11 ... 50234 50244 50255]\n",
      "16226 ['\"' \"'\" ',' ... 'Ġgazing' 'Ġdesolate' 'Ġgazed']\n",
      "16226 [   27   412 20772 ...    18     5     8]\n",
      "16226 ['punctuation' 'punctuation' 'punctuation' ... 'verb' 'verb' 'affix']\n"
     ]
    }
   ],
   "execution_count": 11
  },
  {
   "cell_type": "markdown",
   "id": "7d993ec3",
   "metadata": {},
   "source": [
    "# Analysis"
   ]
  },
  {
   "cell_type": "code",
   "id": "33fee929",
   "metadata": {
    "ExecuteTime": {
     "end_time": "2024-08-21T08:42:04.077864Z",
     "start_time": "2024-08-21T08:42:03.193257Z"
    }
   },
   "source": [
    "import torch\n",
    "from transformers import GPT2LMHeadModel\n",
    "import json"
   ],
   "outputs": [],
   "execution_count": 12
  },
  {
   "cell_type": "code",
   "id": "60fb3836-2cda-48e6-9f7b-a4afc216afec",
   "metadata": {
    "ExecuteTime": {
     "end_time": "2024-08-21T08:42:38.025348Z",
     "start_time": "2024-08-21T08:42:38.020172Z"
    }
   },
   "source": [
    "# Specify the path to the checkpoint file\n",
    "checkpoint_path = '../../results/gpt2/poem/train_twiker'\n",
    "\n",
    "# Specify key or value\n",
    "analyze_value = True"
   ],
   "outputs": [],
   "execution_count": 13
  },
  {
   "cell_type": "code",
   "id": "8caafb32",
   "metadata": {
    "ExecuteTime": {
     "end_time": "2024-08-21T08:42:41.368777Z",
     "start_time": "2024-08-21T08:42:39.208242Z"
    }
   },
   "source": [
    "# load config\n",
    "with open(f'{checkpoint_path}/config.json', 'r') as file:\n",
    "    config = json.load(file)\n",
    "\n",
    "# Load the model with the checkpoint\n",
    "model = GPT2LMHeadModel.from_pretrained(checkpoint_path)\n",
    "\n",
    "# weight\n",
    "embedding_weights = model.transformer.twiker_model.embedding.weight.detach()\n",
    "\n",
    "# reshape\n",
    "n_head = 1 if config[\"twiker_head_invariant\"] else config[\"n_head\"]\n",
    "n_layer = 1 if config[\"twiker_layer_invariant\"] or config[\"twiker_only_first_layer\"] else config[\"n_layer\"]\n",
    "embedding_weights = embedding_weights.reshape(-1, n_layer, 2, n_head, config[\"twiker_kernel_size\"])\n",
    "\n",
    "# soft max\n",
    "embedding_weights = torch.softmax(embedding_weights / 0.4, dim=-1)\n",
    "\n",
    "# mean over head and layer\n",
    "embedding_weights = embedding_weights.mean(dim=1).mean(dim=2)\n",
    "\n",
    "# extract for book\n",
    "embedding_weights = embedding_weights[book_ids_unique]\n",
    "\n",
    "# extract for value\n",
    "wv = embedding_weights[:, 1, :] if analyze_value else embedding_weights[:, 0, :]\n",
    "print(wv.shape)"
   ],
   "outputs": [
    {
     "name": "stdout",
     "output_type": "stream",
     "text": [
      "torch.Size([16226, 3])\n"
     ]
    }
   ],
   "execution_count": 14
  },
  {
   "cell_type": "code",
   "id": "5deab9ee",
   "metadata": {
    "ExecuteTime": {
     "end_time": "2024-08-21T08:42:42.621161Z",
     "start_time": "2024-08-21T08:42:42.568173Z"
    }
   },
   "source": [
    "# compute distance\n",
    "t010 = torch.zeros(config[\"twiker_kernel_size\"])\n",
    "t010[config[\"twiker_kernel_size\"] // 2] = 1.\n",
    "dist010 = torch.norm(wv - t010, dim=1)"
   ],
   "outputs": [],
   "execution_count": 15
  },
  {
   "cell_type": "markdown",
   "id": "94fdadf2-e415-4a5b-b195-409151ef4242",
   "metadata": {},
   "source": [
    "### Filter by `counts`"
   ]
  },
  {
   "cell_type": "code",
   "id": "01308049-d4f6-4f1c-80d5-a91d94dc432e",
   "metadata": {
    "ExecuteTime": {
     "end_time": "2024-08-21T08:42:44.668112Z",
     "start_time": "2024-08-21T08:42:44.653312Z"
    }
   },
   "source": [
    "filter = counts >= 5\n",
    "\n",
    "book_ids_counts = book_ids_unique[filter]\n",
    "book_tokens_counts = book_tokens_unique[filter]\n",
    "classes_counts = classes[filter]\n",
    "dist010_counts = dist010[filter]\n",
    "\n",
    "print(len(dist010_counts))"
   ],
   "outputs": [
    {
     "name": "stdout",
     "output_type": "stream",
     "text": [
      "6734\n"
     ]
    }
   ],
   "execution_count": 16
  },
  {
   "cell_type": "code",
   "id": "4c466e98-004e-43aa-b428-cdb2b7979d77",
   "metadata": {
    "ExecuteTime": {
     "end_time": "2024-08-21T08:42:45.920598Z",
     "start_time": "2024-08-21T08:42:45.914849Z"
    }
   },
   "source": [
    "# statistics on all\n",
    "\n",
    "argsort = torch.argsort(dist010_counts, descending=True)\n",
    "book_tokens_counts[argsort[:100]]"
   ],
   "outputs": [
    {
     "data": {
      "text/plain": [
       "array(['Ġi', 'Ġthe', '.', 'Ġto', 'Ġof', 'Ġand', 'Ġa', ',', 'Ġit', 'Ġfor',\n",
       "       'Ġmy', \"'s\", 'Ġin', 'Ġyou', 'Ġyour', 'Ġone', 'Ġnot', 'Ġon',\n",
       "       'Ġthat', 'Ġwill', 'Ġis', 'Ġor', 'Ġour', 'Ġas', 'Ġblack', 'Ġan',\n",
       "       'Ġbe', 'Ġd', 'Ġsh', 'Ġr', 'Ġbut', 'Ġwas', 'Ġblue', 'Ġsuch',\n",
       "       'Ġnever', 'Ġtw', 'I', 'Ġlive', 'Ġlonely', 'Ġalways', 'Ġgreen',\n",
       "       'Ġwhen', 'Ġknow', 'Ġloving', 'Ġdont', 'Ġme', 'Ġcruel', 'Ġmon',\n",
       "       'Ġre', 'tw', 'Ġlove', 'Ġflying', 'Ġbeautiful', 'Ġspring', 'Ġsoft',\n",
       "       'Ġsympathy', 'Ġtill', 'Ġp', 'Ġconf', 'Ġinto', 'Ġgo', 'Ġsun',\n",
       "       'Ġwarm', 'Ġsad', 'Ġdark', 'Ġgood', \"'re\", 'Ġtear', 'Ġsweet',\n",
       "       'Ġnew', 'Ġchild', 'Ġ\"', 'Ġwe', 'Ġcold', 'Ġsin', 's', 'Ġhuman',\n",
       "       'Ġcrying', 'Ġwould', 'Ġcrowded', 'Ġher', 'Ġgentle', 'Ġcl', 'Ġbird',\n",
       "       'Ġhave', 'Ġsecret', 'Ġrainbow', 'Ġflowers', 'Ġshall', 'Ġdance',\n",
       "       'Ġdim', 'Ġdancing', 'Ġend', 'Ġthey', 'A', 'Ġwrist', 'Ġdeath',\n",
       "       'Ġtells', 'Ġming', 'Res'], dtype='<U17')"
      ]
     },
     "execution_count": 17,
     "metadata": {},
     "output_type": "execute_result"
    }
   ],
   "execution_count": 17
  },
  {
   "cell_type": "markdown",
   "id": "2613a89d-c846-434f-9f4e-40b2e97aa66b",
   "metadata": {},
   "source": [
    "### Filter by `class`"
   ]
  },
  {
   "cell_type": "code",
   "id": "37fc7fec-5114-402a-9f2e-a813a9d25d60",
   "metadata": {
    "ExecuteTime": {
     "end_time": "2024-08-21T08:42:48.792698Z",
     "start_time": "2024-08-21T08:42:48.786334Z"
    }
   },
   "source": [
    "# statistics on role\n",
    "\n",
    "cls_mean = []\n",
    "for cls in super_classes:\n",
    "    filter = (classes_counts == cls)\n",
    "    book_ids_cls = book_ids_counts[filter]\n",
    "    book_tokens_cls = book_tokens_counts[filter]\n",
    "    dist010_cls = dist010_counts[filter]\n",
    "    mean = dist010_cls.mean()\n",
    "    cls_mean.append(mean)"
   ],
   "outputs": [],
   "execution_count": 18
  },
  {
   "cell_type": "code",
   "id": "71d605ce-f5d6-4d2b-85e3-a2b3aae2fceb",
   "metadata": {
    "ExecuteTime": {
     "end_time": "2024-08-21T08:42:50.152270Z",
     "start_time": "2024-08-21T08:42:50.020512Z"
    }
   },
   "source": [
    "plt.bar(super_classes, cls_mean)\n"
   ],
   "outputs": [
    {
     "data": {
      "text/plain": [
       "<BarContainer object of 10 artists>"
      ]
     },
     "execution_count": 19,
     "metadata": {},
     "output_type": "execute_result"
    },
    {
     "data": {
      "text/plain": [
       "<Figure size 640x480 with 1 Axes>"
      ],
      "image/png": "[encoded data removed]"
     },
     "metadata": {},
     "output_type": "display_data"
    }
   ],
   "execution_count": 19
  },
  {
   "cell_type": "code",
   "execution_count": null,
   "id": "e6a408a4-cb84-4deb-9262-b52e35364502",
   "metadata": {},
   "outputs": [],
   "source": []
  },
  {
   "cell_type": "code",
   "execution_count": null,
   "id": "993c2b5b-00e2-40d3-9cd9-79b09130b535",
   "metadata": {},
   "outputs": [],
   "source": []
  }
 ],
 "metadata": {
  "kernelspec": {
   "display_name": "Python 3 (ipykernel)",
   "language": "python",
   "name": "python3"
  },
  "language_info": {
   "codemirror_mode": {
    "name": "ipython",
    "version": 3
   },
   "file_extension": ".py",
   "mimetype": "text/x-python",
   "name": "python",
   "nbconvert_exporter": "python",
   "pygments_lexer": "ipython3",
   "version": "3.11.8"
  }
 },
 "nbformat": 4,
 "nbformat_minor": 5
}
