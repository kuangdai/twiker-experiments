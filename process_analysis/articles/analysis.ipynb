{
 "cells": [
  {
   "cell_type": "markdown",
   "id": "8f001e30-f050-4c4c-9a52-511e9bf51523",
   "metadata": {},
   "source": [
    "# Tokenize full book"
   ]
  },
  {
   "cell_type": "code",
   "id": "2c818cc1-4980-4d95-b05e-576b9db6bd0a",
   "metadata": {
    "ExecuteTime": {
     "end_time": "2024-08-21T08:25:54.973907Z",
     "start_time": "2024-08-21T08:25:53.045251Z"
    }
   },
   "source": [
    "from transformers import GPT2Tokenizer\n",
    "\n",
    "tokenizer = GPT2Tokenizer.from_pretrained('gpt2')"
   ],
   "outputs": [
    {
     "name": "stderr",
     "output_type": "stream",
     "text": [
      "/home/ubuntu/miniconda3/envs/transformers-twiker/lib/python3.8/site-packages/huggingface_hub/file_download.py:1132: FutureWarning: `resume_download` is deprecated and will be removed in version 1.0.0. Downloads always resume when possible. If you want to force a new download, use `force_download=True`.\n",
      "  warnings.warn(\n"
     ]
    }
   ],
   "execution_count": 1
  },
  {
   "cell_type": "code",
   "id": "755204ef-a90d-4ef0-8347-a16c77c2b93f",
   "metadata": {
    "ExecuteTime": {
     "end_time": "2024-08-21T08:25:58.976890Z",
     "start_time": "2024-08-21T08:25:58.967459Z"
    }
   },
   "source": [
    "with open(\"data_files/full.txt\", 'r') as fs:\n",
    "    book_text = fs.read()"
   ],
   "outputs": [],
   "execution_count": 2
  },
  {
   "cell_type": "code",
   "id": "b3253db7-363e-4493-907a-84be589a2dad",
   "metadata": {
    "ExecuteTime": {
     "end_time": "2024-08-21T08:26:06.021090Z",
     "start_time": "2024-08-21T08:26:02.170535Z"
    }
   },
   "source": [
    "import numpy as np\n",
    "\n",
    "book_tokens = np.array(tokenizer.tokenize(book_text))\n",
    "book_ids = np.array(tokenizer.convert_tokens_to_ids(book_tokens))"
   ],
   "outputs": [],
   "execution_count": 3
  },
  {
   "cell_type": "code",
   "id": "180946a4-f547-4605-a4e3-61202ae9df84",
   "metadata": {
    "ExecuteTime": {
     "end_time": "2024-08-21T08:26:09.028796Z",
     "start_time": "2024-08-21T08:26:08.977180Z"
    }
   },
   "source": [
    "# unique\n",
    "book_ids_unique, index, counts = np.unique(book_ids, return_index=True, return_counts=True)\n",
    "book_tokens_unique = book_tokens[index]\n",
    "\n",
    "print(\"Total\", len(book_ids))\n",
    "print(\"Unique\", len(book_ids_unique))"
   ],
   "outputs": [
    {
     "name": "stdout",
     "output_type": "stream",
     "text": [
      "Total 561913\n",
      "Unique 27273\n"
     ]
    }
   ],
   "execution_count": 4
  },
  {
   "cell_type": "markdown",
   "id": "93aca3f0-b857-4303-a9a6-0419e35913b0",
   "metadata": {},
   "source": [
    "# For linguistic analysis, we need to add these properties to `book_ids_unique`:\n",
    "\n",
    "* Counts of appearance: already found above\n",
    "* Class as one of follows: noun, verb, adjective, ..., punctuation, affix, letter, num, other"
   ]
  },
  {
   "cell_type": "code",
   "id": "dbd4d493-a98c-4bc8-9d15-f545d644ad34",
   "metadata": {
    "ExecuteTime": {
     "end_time": "2024-08-21T08:26:14.018942Z",
     "start_time": "2024-08-21T08:26:13.863750Z"
    }
   },
   "source": [
    "def find_non_ascii_characters(input_string):\n",
    "    non_ascii_characters = [char for char in input_string if ord(char) > 127]\n",
    "    return np.unique(non_ascii_characters)\n",
    "\n",
    "# Example usage\n",
    "non_ascii_characters = find_non_ascii_characters(book_text)\n",
    "print(\"Non-ASCII characters:\", non_ascii_characters)"
   ],
   "outputs": [
    {
     "name": "stdout",
     "output_type": "stream",
     "text": [
      "Non-ASCII characters: ['£' '§' '©' '°' '»' '½' '¿' 'Â' 'É' 'Ó' '×' 'à' 'á' 'â' 'ç' 'è' 'é' 'ê'\n",
      " 'í' 'î' 'ï' 'ñ' 'ó' 'ô' 'ö' 'ø' 'ú' 'ü' 'ý' 'ć' 'ı' 'ŵ' 'Б' 'В' 'М' 'Н'\n",
      " 'О' 'П' 'Р' 'С' 'Т' 'Ф' 'Ш' 'Э' 'Ю' 'а' 'б' 'в' 'г' 'д' 'е' 'ж' 'з' 'и'\n",
      " 'й' 'к' 'л' 'м' 'н' 'о' 'п' 'р' 'с' 'т' 'у' 'ф' 'х' 'ц' 'ч' 'ш' 'щ' 'ы'\n",
      " 'ь' 'э' 'ю' 'я' 'ё' '\\u200b' '\\u200e' '–' '—' '‘' '’' '“' '”' '•' '…' '€'\n",
      " '™' '■' '�']\n"
     ]
    }
   ],
   "execution_count": 5
  },
  {
   "cell_type": "code",
   "id": "5594b219-45b6-4e4d-81a1-9a646ed22c84",
   "metadata": {
    "ExecuteTime": {
     "end_time": "2024-08-21T08:26:17.886123Z",
     "start_time": "2024-08-21T08:26:16.147867Z"
    }
   },
   "source": [
    "import string\n",
    "import spacy, nltk\n",
    "from nltk.corpus import words\n",
    "\n",
    "# punctuation\n",
    "def is_punctuation(char):\n",
    "    return char in string.punctuation or char in non_ascii_characters\n",
    "\n",
    "# pos of word\n",
    "nlp = spacy.load(\"en_core_web_sm\")\n",
    "def get_pos(word):\n",
    "    doc = nlp(word)\n",
    "    for token in doc:\n",
    "        return token.pos_\n",
    "\n",
    "# common word\n",
    "nltk.download('words')\n",
    "common_words = set(words.words())\n",
    "def common_word(word):\n",
    "    return word.lower() in common_words"
   ],
   "outputs": [
    {
     "name": "stderr",
     "output_type": "stream",
     "text": [
      "[nltk_data] Downloading package words to /home/ubuntu/nltk_data...\n",
      "[nltk_data]   Package words is already up-to-date!\n"
     ]
    }
   ],
   "execution_count": 6
  },
  {
   "cell_type": "code",
   "id": "a2f9c78f-9d13-4b1b-acd9-4e0afc97d7ad",
   "metadata": {
    "ExecuteTime": {
     "end_time": "2024-08-21T08:27:07.459865Z",
     "start_time": "2024-08-21T08:26:30.166636Z"
    }
   },
   "source": [
    "classes = []\n",
    "\n",
    "for tok in book_tokens_unique:\n",
    "    if len(tok) == 1:\n",
    "        if is_punctuation(tok):\n",
    "            classes.append(\"punctuation\")\n",
    "        elif tok.isalpha():\n",
    "            classes.append(\"letter\")\n",
    "        elif tok.isdigit():\n",
    "            classes.append(\"num\")\n",
    "        else:\n",
    "            classes.append(\"other\")\n",
    "        continue\n",
    "    \n",
    "    if tok[0] != \"Ġ\":\n",
    "        classes.append(\"affix\")\n",
    "        continue\n",
    "\n",
    "    tok = tok[1:]\n",
    "    if len(tok) == 1:\n",
    "        if is_punctuation(tok):\n",
    "            classes.append(\"punctuation\")\n",
    "            continue\n",
    "        if tok.isalpha() and tok not in [\"I\", \"a\", \"A\"]:  # here we check single-char words\n",
    "            classes.append(\"letter\")\n",
    "            continue\n",
    "        elif tok.isdigit():\n",
    "            classes.append(\"num\")\n",
    "            continue\n",
    "    if not common_word(tok):\n",
    "        classes.append(\"affix\")\n",
    "        continue\n",
    "    classes.append(get_pos(tok).lower())\n",
    "classes = np.array(classes)"
   ],
   "outputs": [],
   "execution_count": 7
  },
  {
   "cell_type": "code",
   "id": "d31dcf89-f52a-4a40-9816-6c8f382c3388",
   "metadata": {
    "ExecuteTime": {
     "end_time": "2024-08-21T08:27:09.615012Z",
     "start_time": "2024-08-21T08:27:09.598492Z"
    }
   },
   "source": [
    "# let's take a look\n",
    "classes_unique = np.unique(classes)\n",
    "\n",
    "for cls in classes_unique:\n",
    "    print(cls, len(np.where(classes == cls)[0]))\n",
    "    print(book_tokens_unique[classes == cls][:100])\n",
    "    print()"
   ],
   "outputs": [
    {
     "name": "stdout",
     "output_type": "stream",
     "text": [
      "adj 1616\n",
      "['Ġpro' 'Ġother' 'Ġnew' 'Ġmany' 'Ġsuch' 'Ġown' 'Ġgood' 'Ġlast' 'ĠNew'\n",
      " 'Ġsame' 'Ġhigh' 'ĠPro' 'Ġgreat' 'Ġreal' 'Ġpublic' 'Ġfew' 'Ġdifferent'\n",
      " 'Ġbig' 'Ġbest' 'Ġlittle' 'Ġtri' 'Ġfull' 'Ġtop' 'Ġmain' 'Ġsmall'\n",
      " 'Ġcurrent' 'Ġold' 'Ġfree' 'Ġable' 'Ġleast' 'Ġlarge' 'Ġimportant' 'Ġclear'\n",
      " 'Ġlight' 'Ġmajor' 'Ġavailable' 'Ġcertain' 'Ġpossible' 'Ġproper' 'Ġshort'\n",
      " 'Ġseveral' 'Ġcomplete' 'Ġyoung' 'Ġlow' 'Ġant' 'Ġstrong' 'Ġsocial'\n",
      " 'Ġparticular' 'Ġlocal' 'Ġpolitical' 'Ġformer' 'Ġkey' 'Ġanal' 'Ġspecial'\n",
      " 'Ġblack' 'Ġsingle' 'Ġquick' 'Ġtrue' 'Ġbad' 'Ġsimilar' 'Ġentire'\n",
      " 'Ġspecific' 'Ġprevious' 'Ġwhole' 'Ġcommon' 'Ġdue' 'Ġnational' 'Ġrecent'\n",
      " 'Ġgeneral' 'ĠRed' 'Ġmass' 'ĠNational' 'Ġthird' 'Ġsignificant'\n",
      " 'Ġdifficult' 'Ġhigher' 'Ġfinal' 'ĠSouth' 'Ġeasy' 'Ġpersonal' 'ĠBlack'\n",
      " 'ĠWhite' 'Ġdead' 'Ġwrong' 'Ġoriginal' 'ĠGerman' 'Ġprim' 'Ġsoft'\n",
      " 'Ġserious' 'Ġlegal' 'Ġill' 'Ġaverage' 'Ġperfect' 'Ġsimple' 'Ġprivate'\n",
      " 'Ġworth' 'Ġselect' 'Ġcandid' 'Ġpopular' 'Ġvarious']\n",
      "\n",
      "adp 102\n",
      "['Ġof' 'Ġin' 'Ġon' 'Ġfor' 'Ġwith' 'Ġas' 'Ġat' 'Ġby' 'Ġfrom' 'ĠIn' 'Ġper'\n",
      " 'Ġthan' 'Ġover' 'Ġinto' 'Ġafter' 'Ġunder' 'ĠRe' 'Ġthrough' 'Ġbefore'\n",
      " 'Ġbetween' 'Ġagainst' 'ĠAs' 'ĠFor' 'Ġduring' 'Ġwithout' 'Ġnear' 'ĠOn'\n",
      " 'Ġuntil' 'Ġwithin' 'ĠAt' 'Ġes' 'Ġalong' 'Ġamong' 'Ġacross' 'Ġabove'\n",
      " 'ĠWith' 'Ġbehind' 'Ġbelow' 'ĠAfter' 'ĠPer' 'Ġinside' 'ĠBy' 'Ġvia' 'ĠOf'\n",
      " 'ĠOff' 'ĠIN' 'Ġtowards' 'ĠFrom' 'Ġbeyond' 'Ġthroughout' 'Ġtoward' 'ĠOver'\n",
      " 'ĠOF' 'Ġonto' 'ĠLike' 'ĠUnder' 'Ġunlike' 'ĠTO' 'ĠDuring' 'Ġast' 'ĠAS'\n",
      " 'ĠBefore' 'ĠFOR' 'Ġalongside' 'Ġversus' 'ĠWithout' 'ĠThrough' 'ĠAmong'\n",
      " 'Ġamid' 'ĠCos' 'Ġbeneath' 'Ġamongst' 'ĠUnlike' 'ĠBeyond' 'Ġna' 'ĠWithin'\n",
      " 'ĠAgainst' 'ĠWITH' 'Ġbeside' 'ĠUntil' 'ĠBetween' 'ĠInside' 'ĠDue' 'ĠWa'\n",
      " 'Ġaboard' 'ĠOUT' 'Ġnearest' 'ĠAlong' 'ĠInto' 'Ġatop' 'Ġminus' 'ĠBehind'\n",
      " 'ĠAbove' 'ĠThroughout' 'Ġnotwithstanding' 'Ġamidst' 'Ġgown' 'ĠUNDER'\n",
      " 'Ġie' 'ĠAmid']\n",
      "\n",
      "adv 709\n",
      "['Ġout' 'Ġup' 'Ġmore' 'Ġso' 'Ġabout' 'Ġen' 'Ġoff' 'Ġthere' 'Ġalso' 'Ġjust'\n",
      " 'Ġonly' 'Ġfirst' 'Ġback' 'Ġmost' 'Ġagain' 'Ġeven' 'Ġnow' 'Ġthen' 'Ġass'\n",
      " 'Ġvery' 'Ġdown' 'Ġmuch' 'Ġlong' 'Ġstill' 'Ġhere' 'Ġaround' 'Ġreally'\n",
      " 'Ġtoo' 'Ġsecond' 'Ġnever' 'Ġfar' 'Ġnext' 'ĠThere' 'Ġhard' 'Ġless'\n",
      " 'Ġbetter' 'ĠSo' 'Ġalways' 'Ġaway' 'Ġalready' 'Ġlater' 'Ġenough' 'Ġsure'\n",
      " 'ĠTe' 'Ġactually' 'Ġever' 'Ġoften' 'Ġonce' 'Ġyet' 'Ġlikely' 'Ġearly'\n",
      " 'Ġtogether' 'Ġeither' 'ĠEn' 'Ġalmost' 'Ġelse' 'Ġago' 'ĠHowever' 'Ġrather'\n",
      " 'Ġhowever' 'Ġprobably' 'Ġfurther' 'Ġmatter' 'ĠJust' 'Ġoutside' 'Ġsimply'\n",
      " 'Ġlonger' 'Ġquite' 'Ġinstead' 'Ġpretty' 'Ġsoon' 'Ġespecially' 'Ġforward'\n",
      " 'ĠNow' 'Ġlate' 'Ġdeep' 'Ġlower' 'Ġround' 'Ġrecently' 'Ġquickly' 'Ġnearly'\n",
      " 'Ġcurrently' 'Ġwide' 'ĠMore' 'Ġprior' 'Ġcompletely' 'ĠUp' 'Ġusually'\n",
      " 'ĠThen' 'Ġdirectly' 'ĠFirst' 'Ġsometimes' 'Ġimmediately' 'ĠEven' 'ĠHere'\n",
      " 'Ġalone' 'Ġfinally' 'Ġexactly' 'Ġeasily' 'Ġparticularly']\n",
      "\n",
      "affix 15094\n",
      "['he' 'in' 're' 'on' 'er' 'at' 'en' 'it' 'is' 'an' 'or' 'es' 'ed' 'ing'\n",
      " 'ou' 'al' 'ar' 'ic' 'as' 'le' 'ion' 'om' 'll' 'ent' 'st' 've' 'ro' 'ly'\n",
      " 'ct' 'id' 'ot' 'ut' 'et' 'im' 'am' 'ow' 'ay' 'ad' 'se' 'ig' 'ac' 'ver'\n",
      " 'ur' 'ld' \"'s\" 'ation' 'ith' 'ir' 'ce' 'il' 'Ġwh' 'ol' 'ter' 'ch' 'nd'\n",
      " 'ill' 'if' 'ag' 'ers' 'ke' 'em' 'her' 'od' 'ul' 'ate' 'ri' 'pp' 'ore'\n",
      " 'us' 'um' 'ain' 'and' 'igh' 'est' 'ist' 'ab' 'rom' 'th' 'Ġcom' 'un' 'op'\n",
      " '00' 'ess' 'res' 'ew' 'ity' 'ant' 'el' 'os' 'ort' 'oc' 'qu' 'Ġsu' 'ive'\n",
      " 'ould' 'nt' 'ra' 'pe' 'ight' 'art']\n",
      "\n",
      "aux 41\n",
      "['Ġbe' 'Ġis' 'Ġwas' 'Ġare' 'Ġcan' 'Ġwill' 'Ġwere' 'Ġwould' 'Ġbeen'\n",
      " 'Ġcould' 'Ġam' 'Ġmay' 'Ġshould' 'Ġbeing' 'ĠIs' 'Ġmight' 'Ġca' 'Ġmust'\n",
      " 'ĠBe' 'ĠCan' 'ĠAm' 'ĠMay' 'Ġshall' 'Ġcannot' 'ĠWill' 'ĠIS' 'ĠAre' 'ĠCa'\n",
      " 'ĠWas' 'ĠBE' 'ĠCould' 'ĠShould' 'ĠWould' 'ĠBeing' 'ĠMust' 'ĠCant' 'ĠMUST'\n",
      " 'ĠWAS' 'ĠMight' 'Ġwo' 'Ġwont']\n",
      "\n",
      "cconj 14\n",
      "['Ġand' 'Ġor' 'Ġbut' 'ĠAnd' 'ĠBut' 'ĠOr' 'Ġrat' 'Ġnor' 'ĠAND' 'ĠNor'\n",
      " 'Ġplus' 'Ġneither' 'ĠOR' 'ĠPlus']\n",
      "\n",
      "det 1\n",
      "['Ġwhose']\n",
      "\n",
      "intj 66\n",
      "['Ġha' 'ĠSt' 'Ġlike' 'Ġno' 'Ġpo' 'Ġright' 'Ġwell' 'Ġmon' 'ĠDe' 'ĠNo' 'Ġer'\n",
      " 'Ġwa' 'ĠEm' 'Ġaw' 'ĠYes' 'Ġplease' 'Ġyes' 'ĠWell' 'ĠOh' 'ĠPlease' 'ĠEr'\n",
      " 'ĠPac' 'ĠBoy' 'ĠRight' 'ĠMat' 'Ġtur' 'ĠAh' 'ĠAst' 'Ġla' 'ĠHa' 'ĠYeah'\n",
      " 'Ġquote' 'Ġyeah' 'ĠBud' 'ĠSure' 'ĠArena' 'ĠBY' 'Ġoh' 'ĠWy' 'ĠAy' 'ĠHey'\n",
      " 'Ġhey' 'ĠFine' 'ĠHello' 'ĠHolocaust' 'ĠUm' 'Ġya' 'ĠEy' 'ĠPep' 'ĠWow'\n",
      " 'ĠBun' 'ĠLis' 'Ġwow' 'ĠDob' 'ĠEh' 'ĠDag' 'Ġeh' 'Ġblah' 'Ġfarewell'\n",
      " 'Ġunknow' 'ĠWim' 'ĠAlright' 'Ġyr' 'Ġmockery' 'ĠYelp' 'ĠAlas']\n",
      "\n",
      "letter 129\n",
      "['A' 'B' 'C' 'D' 'E' 'F' 'G' 'H' 'I' 'J' 'K' 'L' 'M' 'N' 'O' 'P' 'Q' 'R'\n",
      " 'S' 'T' 'U' 'V' 'W' 'X' 'Y' 'Z' 'a' 'b' 'c' 'd' 'e' 'f' 'g' 'h' 'i' 'j'\n",
      " 'k' 'l' 'm' 'n' 'o' 'p' 'q' 'r' 's' 't' 'u' 'v' 'w' 'x' 'y' 'z' 'µ' 'º'\n",
      " 'Ã' 'Å' 'Ð' 'Ñ' 'Ċ' 'Ġ' 'Ħ' 'ħ' 'Ĩ' 'ĩ' 'Ī' 'ī' 'į' 'İ' 'ĳ' 'Ĵ' 'ĵ' 'ĺ'\n",
      " 'Ļ' 'ľ' 'Ŀ' 'ŀ' 'Ł' 'ł' 'Ń' 'Ġt' 'Ġs' 'Ġw' 'Ġo' 'Ġc' 'Ġb' 'Ġf' 'Ġp' 'Ġm'\n",
      " 'Ġd' 'Ġh' 'Ġn' 'Ġl' 'Ġe' 'Ġg' 'ĠT' 'ĠS' 'ĠC' 'Ġy' 'Ġu' 'ĠM']\n",
      "\n",
      "noun 5012\n",
      "['Ġex' 'Ġad' 'Ġman' 'Ġyear' 'Ġpart' 'Ġtime' 'Ġpeople' 'Ġwork' 'Ġpol'\n",
      " 'Ġway' 'Ġend' 'ĠSh' 'ĠAr' 'Ġmin' 'Ġgame' 'Ġreport' 'Ġworld' 'Ġspec'\n",
      " 'Ġear' 'Ġperson' 'Ġser' 'Ġteam' 'Ġsystem' 'Ġcar' 'Ġlaw' 'Ġsupport'\n",
      " 'Ġfact' 'Ġday' 'Ġcor' 'Ġwar' 'Ġpower' 'Ġstate' 'Ġhead' 'Ġchild' 'Ġlife'\n",
      " 'ĠAd' 'Ġdisc' 'Ġmonth' 'Ġgovernment' 'Ġleg' 'Ġlevel' 'Ġart' 'Ġeffect'\n",
      " 'Ġcent' 'Ġlot' 'Ġfun' 'Ġnumber' 'Ġpost' 'Ġweek' 'Ġplace' 'Ġsoc' 'Ġmark'\n",
      " 'Ġinformation' 'Ġbus' 'Ġimport' 'Ġtest' 'Ġrest' 'Ġcase' 'Ġlist' 'Ġhome'\n",
      " 'Ġdata' 'Ġinterest' 'Ġclass' 'Ġplan' 'Ġpercent' 'Ġcamp' 'Ġprocess'\n",
      " 'Ġprogram' 'Ġname' 'Ġgroup' 'Ġmen' 'Ġcap' 'ĠCon' 'Ġbook' 'Ġcountry'\n",
      " 'Ġorder' 'Ġthing' 'Ġschool' 'Ġdays' 'Ġhealth' 'Ġfriend' 'Ġhist' 'Ġview'\n",
      " 'Ġword' 'Ġpar' 'Ġbusiness' 'Ġpast' 'Ġdev' 'Ġstory' 'Ġseason' 'Ġline'\n",
      " 'Ġproject' 'Ġcontrol' 'Ġair' 'Ġmoney' 'Ġfamily' 'Ġbit' 'Ġpolice' 'Ġwater'\n",
      " 'Ġtimes']\n",
      "\n",
      "num 67\n",
      "['0' '1' '2' '3' '4' '5' '6' '7' '8' '9' '²' '³' '¹' 'Ġ1' 'Ġ2' 'Ġ3' 'Ġone'\n",
      " 'Ġ4' 'Ġ5' 'Ġ0' 'Ġ6' 'Ġtwo' 'Ġ7' 'Ġ8' 'Ġ9' 'Ġthree' 'Ġfour' 'Ġmillion'\n",
      " 'ĠOne' 'Ġfive' 'Ġsix' 'Ġbillion' 'Ġhundred' 'Ġten' 'Ġseven' 'Ġeight'\n",
      " 'ĠTwo' 'Ġnine' 'Ġzero' 'ĠFour' 'Ġthousand' 'ĠThree' 'Ġtwenty' 'ĠTen'\n",
      " 'ĠSix' 'ĠFive' 'Ġthirty' 'Ġtrillion' 'ĠSeven' 'Ġtwelve' 'Ġfifty' 'ĠONE'\n",
      " 'ĠNine' 'Ġforty' 'Ġfifteen' 'ĠEight' 'Ġeleven' 'ĠTwenty' 'ĠMillion'\n",
      " 'Ġsixty' 'Ġsixteen' 'Ġeighteen' 'Ġfourteen' 'ĠFifty' 'ĠBillion' 'Ġeighty'\n",
      " 'Ġninety']\n",
      "\n",
      "other 12\n",
      "['¡' '¢' '¤' '¨' '®' '±' '´' '¶' '·' '¸' '¼' '¾']\n",
      "\n",
      "part 5\n",
      "['Ġto' 'Ġnot' 'ĠTo' 'ĠNot' 'ĠNOT']\n",
      "\n",
      "pron 118\n",
      "['Ġa' 'Ġthe' 'Ġan' 'ĠI' 'ĠA' 'Ġthat' 'Ġhe' 'Ġit' 'Ġyou' 'Ġwe' 'ĠThe' 'Ġsh'\n",
      " 'Ġthis' 'Ġhis' 'Ġall' 'Ġthey' 'Ġme' 'Ġwho' 'Ġtheir' 'Ġus' 'Ġyour'\n",
      " 'Ġwhich' 'Ġany' 'Ġthem' 'Ġher' 'Ġmy' 'Ġsome' 'ĠIt' 'Ġwhat' 'Ġits' 'Ġshe'\n",
      " 'Ġour' 'ĠHe' 'Ġhim' 'ĠThis' 'ĠWe' 'Ġthese' 'Ġevery' 'Ġem' 'Ġthose' 'ĠYou'\n",
      " 'ĠAn' 'Ġboth' 'ĠThey' 'Ġeach' 'Ġanother' 'Ġsomething' 'Ġtra' 'ĠThat'\n",
      " 'ĠShe' 'ĠAll' 'ĠWhat' 'Ġanything' 'ĠMy' 'Ġsomeone' 'Ġnothing' 'ĠMe'\n",
      " 'Ġhimself' 'Ġeverything' 'ĠThese' 'ĠHer' 'Ġitself' 'ĠHis' 'Ġthemselves'\n",
      " 'Ġeveryone' 'Ġanyone' 'ĠSome' 'ĠTHE' 'ĠYour' 'Ġyourself' 'ĠAN' 'Ġmyself'\n",
      " 'ĠEvery' 'ĠOur' 'ĠUs' 'Ġwhom' 'Ġwhatever' 'ĠAny' 'Ġherself' 'ĠTheir'\n",
      " 'ĠWho' 'ĠEach' 'ĠBoth' 'ĠThose' 'ĠAnother' 'Ġmine' 'ĠIts' 'Ġourselves'\n",
      " 'ĠIT' 'Ġeverybody' 'Ġnobody' 'Ġsomebody' 'ĠWhich' 'Ġanybody' 'ĠNothing'\n",
      " 'ĠEveryone' 'ĠALL' 'ĠEverything' 'ĠWE' 'ĠSomething']\n",
      "\n",
      "propn 1196\n",
      "['Ġst' 'Ġcon' 'Ġse' 'Ġal' 'Ġsa' 'Ġne' 'Ġun' 'Ġte' 'Ġdis' 'ĠUn' 'Ġsec'\n",
      " 'Ġrel' 'Ġdon' 'Ġreg' 'Ġbel' 'Ġstud' 'Ġcol' 'Ġfin' 'Ġsur' 'ĠAl' 'ĠSe'\n",
      " 'Ġret' 'Ġref' 'Ġcur' 'Ġche' 'Ġrep' 'Ġchar' 'Ġresp' 'Ġel' 'ĠUS' 'Ġpur'\n",
      " 'ĠRep' 'ĠEx' 'Ġbo' 'ĠMar' 'Ġann' 'Ġprof' 'ĠUnited' 'Ġbas' 'ĠCol' 'Ġmar'\n",
      " 'Ġhuman' 'Ġlim' 'ĠGod' 'ĠMin' 'Ġprob' 'ĠSec' 'Ġviol' 'Ġmult' 'ĠPresident'\n",
      " 'ĠDon' 'ĠHouse' 'Ġmor' 'Ġmag' 'ĠPol' 'ĠAct' 'ĠAss' 'Ġred' 'ĠGe' 'Ġwhite'\n",
      " 'ĠSept' 'Ġlo' 'Ġgen' 'ĠBrit' 'Ġrad' 'ĠPar' 'Ġjud' 'ĠChe' 'Ġdiv'\n",
      " 'Ġfederal' 'ĠJune' 'ĠMarch' 'ĠChina' 'Ġtou' 'ĠJapan' 'ĠAugust' 'Ġboy'\n",
      " 'ĠMark' 'ĠMag' 'Ġfather' 'Ġlat' 'Ġbox' 'ĠSuper' 'Ġprep' 'ĠCongress'\n",
      " 'ĠDis' 'ĠPal' 'ĠChar' 'ĠPat' 'ĠPark' 'ĠRussia' 'ĠWed' 'ĠCanada' 'ĠMet'\n",
      " 'Ġdeg' 'Ġreb' 'ĠMor' 'ĠGreen' 'Ġinn' 'Ġstra']\n",
      "\n",
      "punct 1\n",
      "['Ġneo']\n",
      "\n",
      "punctuation 50\n",
      "['!' '\"' '$' '%' '&' \"'\" '(' ')' '+' ',' '-' '.' '/' ':' ';' '?' '@' '['\n",
      " ']' '_' '`' '}' '°' '»' '½' '¿' 'Â' 'Ġ(' 'Ġ\"' 'Ġ-' 'Ġ[' \"Ġ'\" 'Ġ$' 'Ġ.'\n",
      " 'Ġ=' 'Ġ,' 'Ġ|' 'Ġ:' 'Ġ/' 'Ġ&' 'Ġ)' 'Ġ#' 'Ġ+' 'Ġ{' 'ĠÂ' 'Ġ*' 'Ġ]' 'Ġ@'\n",
      " 'Ġ!' 'Ġ?']\n",
      "\n",
      "sconj 44\n",
      "['Ġif' 'Ġwhen' 'Ġhow' 'Ġbecause' 'Ġwhere' 'Ġwhile' 'Ġthough' 'ĠIf'\n",
      " 'Ġsince' 'ĠHow' 'Ġwhy' 'ĠWhen' 'Ġwhether' 'Ġupon' 'Ġexcept' 'ĠWhile'\n",
      " 'Ġalthough' 'Ġdespite' 'ĠWhy' 'ĠBecause' 'Ġunless' 'ĠSince' 'ĠAlthough'\n",
      " 'ĠWhere' 'ĠThough' 'ĠDespite' 'Ġwhenever' 'Ġwhereas' 'ĠWhether' 'Ġtill'\n",
      " 'Ġbesides' 'ĠUpon' 'Ġwherever' 'Ġwhilst' 'ĠBesides' 'ĠUnless' 'ĠTill'\n",
      " 'ĠExcept' 'ĠWhenever' 'Ġtil' 'Ġwherein' 'Ġwhereby' 'ĠWhereas' 'ĠWhilst']\n",
      "\n",
      "verb 2986\n",
      "['Ġth' 'Ġre' 'Ġhave' 'Ġdo' 'Ġgo' 'Ġsaid' 'ĠTh' 'Ġhad' 'Ġar' 'Ġget' 'Ġplay'\n",
      " 'Ġact' 'Ġbet' 'Ġdid' 'Ġadd' 'Ġknow' 'Ġneed' 'Ġwant' 'Ġsee' 'Ġuse' 'Ġmake'\n",
      " 'Ġlook' 'Ġbu' 'Ġimp' 'Ġsub' 'Ġdoes' 'Ġcall' 'Ġthink' 'Ġset' 'Ġshow'\n",
      " 'Ġsay' 'Ġstart' 'Ġmade' 'Ġcount' 'Ġpoint' 'Ġused' 'Ġinter' 'Ġtake'\n",
      " 'Ġgoing' 'Ġhand' 'Ġhelp' 'Ġfound' 'Ġsign' 'Ġrun' 'Ġfollow' 'Ġfind'\n",
      " 'Ġlead' 'Ġgovern' 'Ġread' 'Ġmet' 'Ġprog' 'Ġdevelop' 'Ġpass' 'Ġturn'\n",
      " 'Ġput' 'Ġallow' 'Ġfeel' 'Ġresult' 'Ġask' 'Ġdirect' 'Ġopen' 'Ġcome'\n",
      " 'Ġseem' 'Ġform' 'Ġtold' 'ĠTrump' 'Ġstand' 'Ġlet' 'Ġinvest' 'Ġcare'\n",
      " 'Ġleft' 'Ġattack' 'Ġbuild' 'Ġgot' 'Ġkeep' 'Ġpay' 'Ġreturn' 'Ġmove' 'Ġpat'\n",
      " 'Ġpop' 'Ġdesign' 'Ġchange' 'Ġkill' 'ĠGo' 'Ġtell' 'Ġtalk' 'Ġcost' 'Ġgive'\n",
      " 'Ġwin' 'Ġexpect' 'Ġkind' 'Ġmean' 'Ġorgan' 'Ġperform' 'Ġclaim' 'Ġcame'\n",
      " 'Ġmaking' 'Ġhappen' 'Ġsit' 'Ġappear']\n",
      "\n",
      "x 10\n",
      "['Ġde' 'Ġfe' 'Ġvis' 'Ġsuper' 'Ġanti' 'Ġcrypt' 'ĠNOR' 'Ġtoddler' 'Ġdiner'\n",
      " 'Ġzipper']\n",
      "\n"
     ]
    }
   ],
   "execution_count": 8
  },
  {
   "cell_type": "code",
   "id": "f254d387-fc57-4178-8590-8cfdc7c8f7a9",
   "metadata": {
    "ExecuteTime": {
     "end_time": "2024-08-21T08:27:12.200447Z",
     "start_time": "2024-08-21T08:27:12.193147Z"
    }
   },
   "source": [
    "# this looks reasonable, but classes are too many\n",
    "# so we select the most meaningful ones\n",
    "super_classes = [\"adj\", \"adp\", \"adv\", \"aux\", \"verb\", \"cconj\", \"noun\", \"pron\", \"sconj\", \"verb\"]\n",
    "\n",
    "# show some stats\n",
    "class_counts_unique = []\n",
    "class_counts_total = []\n",
    "\n",
    "for cls in super_classes:\n",
    "    idx = np.where(classes == cls)[0]\n",
    "    class_counts_unique.append(len(idx))\n",
    "    class_counts_total.append(counts[idx].sum())"
   ],
   "outputs": [],
   "execution_count": 9
  },
  {
   "cell_type": "code",
   "id": "5e29db13-e1c7-4c8d-97f3-bf0520c4fc35",
   "metadata": {
    "ExecuteTime": {
     "end_time": "2024-08-21T08:27:15.207297Z",
     "start_time": "2024-08-21T08:27:14.370441Z"
    }
   },
   "source": [
    "import matplotlib.pyplot as plt\n",
    "\n",
    "fig, ax = plt.subplots(1, 2, figsize=(15, 3))\n",
    "ax[0].bar(super_classes, class_counts_unique)\n",
    "ax[0].set_title(\"Unique count\")\n",
    "ax[1].bar(super_classes, class_counts_total)\n",
    "ax[1].set_title(\"Total count\")\n",
    "plt.show()"
   ],
   "outputs": [
    {
     "data": {
      "text/plain": [
       "<Figure size 1500x300 with 2 Axes>"
      ],
      "image/png": "[encoded data removed]"
     },
     "metadata": {},
     "output_type": "display_data"
    }
   ],
   "execution_count": 10
  },
  {
   "cell_type": "markdown",
   "id": "ce2ae069-5266-4414-8a22-4b9f2ff80e16",
   "metadata": {},
   "source": [
    "# Summary"
   ]
  },
  {
   "cell_type": "code",
   "id": "bf88415c-53c0-4fbb-b80c-c0ddfaac5648",
   "metadata": {
    "ExecuteTime": {
     "end_time": "2024-08-21T08:27:18.523894Z",
     "start_time": "2024-08-21T08:27:18.517897Z"
    }
   },
   "source": [
    "# use `book_ids_unique` to retrieve kernels from trained model\n",
    "print(len(book_ids_unique), book_ids_unique)\n",
    "\n",
    "# use `book_tokens_unique` to see word\n",
    "print(len(book_tokens_unique), book_tokens_unique)\n",
    "\n",
    "# use `counts` to filter out low-frequency tokens\n",
    "print(len(counts), counts)\n",
    "\n",
    "# use `classes` to find the type of words\n",
    "print(len(classes), classes)"
   ],
   "outputs": [
    {
     "name": "stdout",
     "output_type": "stream",
     "text": [
      "27273 [    0     1     3 ... 50243 50244 50246]\n",
      "27273 ['!' '\"' '$' ... 'Ġharsher' 'Ġdesolate' 'Commission']\n",
      "27273 [ 82 486   9 ...   2   2   2]\n",
      "27273 ['punctuation' 'punctuation' 'punctuation' ... 'affix' 'verb' 'affix']\n"
     ]
    }
   ],
   "execution_count": 11
  },
  {
   "cell_type": "markdown",
   "id": "7d993ec3",
   "metadata": {},
   "source": [
    "# Analysis"
   ]
  },
  {
   "cell_type": "code",
   "id": "33fee929",
   "metadata": {
    "ExecuteTime": {
     "end_time": "2024-08-21T08:27:25.062969Z",
     "start_time": "2024-08-21T08:27:24.135863Z"
    }
   },
   "source": [
    "import torch\n",
    "from transformers import GPT2LMHeadModel\n",
    "import json"
   ],
   "outputs": [],
   "execution_count": 12
  },
  {
   "cell_type": "code",
   "id": "60fb3836-2cda-48e6-9f7b-a4afc216afec",
   "metadata": {
    "ExecuteTime": {
     "end_time": "2024-08-21T08:27:40.455368Z",
     "start_time": "2024-08-21T08:27:40.449546Z"
    }
   },
   "source": [
    "# Specify the path to the checkpoint file\n",
    "checkpoint_path = '../../results/gpt2/articles/train_twiker'\n",
    "\n",
    "# Specify key or value\n",
    "analyze_value = True"
   ],
   "outputs": [],
   "execution_count": 13
  },
  {
   "cell_type": "code",
   "id": "8caafb32",
   "metadata": {
    "ExecuteTime": {
     "end_time": "2024-08-21T08:27:49.503375Z",
     "start_time": "2024-08-21T08:27:47.450455Z"
    }
   },
   "source": [
    "# load config\n",
    "with open(f'{checkpoint_path}/config.json', 'r') as file:\n",
    "    config = json.load(file)\n",
    "\n",
    "# Load the model with the checkpoint\n",
    "model = GPT2LMHeadModel.from_pretrained(checkpoint_path)\n",
    "\n",
    "# weight\n",
    "embedding_weights = model.transformer.twiker_model.embedding.weight.detach()\n",
    "\n",
    "# reshape\n",
    "n_head = 1 if config[\"twiker_head_invariant\"] else config[\"n_head\"]\n",
    "n_layer = 1 if config[\"twiker_layer_invariant\"] or config[\"twiker_only_first_layer\"] else config[\"n_layer\"]\n",
    "embedding_weights = embedding_weights.reshape(-1, n_layer, 2, n_head, config[\"twiker_kernel_size\"])\n",
    "\n",
    "# soft max\n",
    "embedding_weights = torch.softmax(embedding_weights / 0.4, dim=-1)\n",
    "\n",
    "# mean over head and layer\n",
    "embedding_weights = embedding_weights.mean(dim=1).mean(dim=2)\n",
    "\n",
    "# extract for book\n",
    "embedding_weights = embedding_weights[book_ids_unique]\n",
    "\n",
    "# extract for value\n",
    "wv = embedding_weights[:, 1, :] if analyze_value else embedding_weights[:, 0, :]\n",
    "print(wv.shape)"
   ],
   "outputs": [
    {
     "name": "stdout",
     "output_type": "stream",
     "text": [
      "torch.Size([27273, 3])\n"
     ]
    }
   ],
   "execution_count": 14
  },
  {
   "cell_type": "code",
   "id": "5deab9ee",
   "metadata": {
    "ExecuteTime": {
     "end_time": "2024-08-21T08:27:50.693662Z",
     "start_time": "2024-08-21T08:27:50.643308Z"
    }
   },
   "source": [
    "# compute distance\n",
    "t010 = torch.zeros(config[\"twiker_kernel_size\"])\n",
    "t010[config[\"twiker_kernel_size\"] // 2] = 1.\n",
    "dist010 = torch.norm(wv - t010, dim=1)"
   ],
   "outputs": [],
   "execution_count": 15
  },
  {
   "cell_type": "markdown",
   "id": "94fdadf2-e415-4a5b-b195-409151ef4242",
   "metadata": {},
   "source": [
    "### Filter by `counts`"
   ]
  },
  {
   "cell_type": "code",
   "id": "01308049-d4f6-4f1c-80d5-a91d94dc432e",
   "metadata": {
    "ExecuteTime": {
     "end_time": "2024-08-21T08:27:52.783125Z",
     "start_time": "2024-08-21T08:27:52.746360Z"
    }
   },
   "source": [
    "filter = counts >= 5\n",
    "\n",
    "book_ids_counts = book_ids_unique[filter]\n",
    "book_tokens_counts = book_tokens_unique[filter]\n",
    "classes_counts = classes[filter]\n",
    "dist010_counts = dist010[filter]\n",
    "\n",
    "print(len(dist010_counts))"
   ],
   "outputs": [
    {
     "name": "stdout",
     "output_type": "stream",
     "text": [
      "10881\n"
     ]
    }
   ],
   "execution_count": 16
  },
  {
   "cell_type": "code",
   "id": "4c466e98-004e-43aa-b428-cdb2b7979d77",
   "metadata": {
    "ExecuteTime": {
     "end_time": "2024-08-21T08:27:54.035726Z",
     "start_time": "2024-08-21T08:27:54.027254Z"
    }
   },
   "source": [
    "# statistics on all\n",
    "\n",
    "argsort = torch.argsort(dist010_counts, descending=True)\n",
    "book_tokens_counts[argsort[:100]]"
   ],
   "outputs": [
    {
     "data": {
      "text/plain": [
       "array(['Ġto', 'Ġa', \"'s\", '.', '(', ',', ':', 'Ġand', 'Ġthe', 'Ġof',\n",
       "       'ĠThe', 'Ġwith', 'Ġin', 'Ġon', 'Ġis', 'Ŀ', '-', 'Ġby', 'Ļ', 'Ġnot',\n",
       "       'Ġ(', 'Ġ\"', 'Ġthat', 'ĠI', 'Ġfirst', 'Ġan', 'Ġalso', 'Ġfor',\n",
       "       'Ġthis', 'âĢ', 'ĠCNN', 'Ġwe', 'Ġnever', 'Ġcan', 'Ġ--', 'ĠWorld',\n",
       "       'ĠLord', 'Ġbeen', 'ĠObamacare', \"'\", 'ĠÂ£', 'Ġhe', 'The', 'Ġwere',\n",
       "       'ĠYork', 'Ġfrom', 'Ġas', \"Ġ'\", 'ĠHe', 'Ġarrested', 'ĠJustice',\n",
       "       'ĠB', 'Ġsaid', 'Ġtheir', 'ĠCl', 'ĺ', 'ĠDaily', 'Ġwould', 'ĠPeter',\n",
       "       '\"', 'Ġmy', 'Ġbig', 'ĠLondon', 'ĠD', 'Ġwho', 'ĠBut', 'Ġless',\n",
       "       'ĠFBI', 'Ġfederal', 'Ġvery', 'Ġat', 'ĠThis', 'Ġreal', 'Ġstrong',\n",
       "       'Ġcould', 'ĠSouth', 'Ġ.', 'ĠAndy', 'ĠYon', 'Ġcriminal',\n",
       "       'Ġfootballer', 'Ġusing', 'Ġattorney', 'Ġwill', 'ĠW', 'Ġlarge',\n",
       "       'ĠHis', 'Ġearly', 'Ġworking', 'ĠFour', 'Ġpress', 'ĠIt', 'Ġmoney',\n",
       "       'Ġdifferent', 'ĠLaw', 'ĠIsrael', 'Ġpenalty', 'Ġhad', 'Ġmessage',\n",
       "       ').'], dtype='<U19')"
      ]
     },
     "execution_count": 17,
     "metadata": {},
     "output_type": "execute_result"
    }
   ],
   "execution_count": 17
  },
  {
   "cell_type": "markdown",
   "id": "2613a89d-c846-434f-9f4e-40b2e97aa66b",
   "metadata": {},
   "source": [
    "### Filter by `class`"
   ]
  },
  {
   "cell_type": "code",
   "id": "37fc7fec-5114-402a-9f2e-a813a9d25d60",
   "metadata": {
    "ExecuteTime": {
     "end_time": "2024-08-21T08:27:56.670713Z",
     "start_time": "2024-08-21T08:27:56.662598Z"
    }
   },
   "source": [
    "# statistics on role\n",
    "\n",
    "cls_mean = []\n",
    "for cls in super_classes:\n",
    "    filter = (classes_counts == cls)\n",
    "    book_ids_cls = book_ids_counts[filter]\n",
    "    book_tokens_cls = book_tokens_counts[filter]\n",
    "    dist010_cls = dist010_counts[filter]\n",
    "    mean = dist010_cls.mean()\n",
    "    cls_mean.append(mean)"
   ],
   "outputs": [],
   "execution_count": 18
  },
  {
   "cell_type": "code",
   "id": "71d605ce-f5d6-4d2b-85e3-a2b3aae2fceb",
   "metadata": {
    "ExecuteTime": {
     "end_time": "2024-08-21T08:27:58.211397Z",
     "start_time": "2024-08-21T08:27:58.086843Z"
    }
   },
   "source": [
    "plt.bar(super_classes, cls_mean)\n"
   ],
   "outputs": [
    {
     "data": {
      "text/plain": [
       "<BarContainer object of 10 artists>"
      ]
     },
     "execution_count": 19,
     "metadata": {},
     "output_type": "execute_result"
    },
    {
     "data": {
      "text/plain": [
       "<Figure size 640x480 with 1 Axes>"
      ],
      "image/png": "[encoded data removed]"
     },
     "metadata": {},
     "output_type": "display_data"
    }
   ],
   "execution_count": 19
  },
  {
   "cell_type": "code",
   "execution_count": null,
   "id": "e6a408a4-cb84-4deb-9262-b52e35364502",
   "metadata": {},
   "outputs": [],
   "source": []
  },
  {
   "cell_type": "code",
   "execution_count": null,
   "id": "993c2b5b-00e2-40d3-9cd9-79b09130b535",
   "metadata": {},
   "outputs": [],
   "source": []
  }
 ],
 "metadata": {
  "kernelspec": {
   "display_name": "Python 3 (ipykernel)",
   "language": "python",
   "name": "python3"
  },
  "language_info": {
   "codemirror_mode": {
    "name": "ipython",
    "version": 3
   },
   "file_extension": ".py",
   "mimetype": "text/x-python",
   "name": "python",
   "nbconvert_exporter": "python",
   "pygments_lexer": "ipython3",
   "version": "3.11.8"
  }
 },
 "nbformat": 4,
 "nbformat_minor": 5
}
