{
 "cells": [
  {
   "cell_type": "markdown",
   "id": "8f001e30-f050-4c4c-9a52-511e9bf51523",
   "metadata": {},
   "source": [
    "# Tokenize full book"
   ]
  },
  {
   "cell_type": "code",
   "id": "2c818cc1-4980-4d95-b05e-576b9db6bd0a",
   "metadata": {
    "ExecuteTime": {
     "end_time": "2024-08-22T10:31:44.707817Z",
     "start_time": "2024-08-22T10:31:42.718605Z"
    }
   },
   "source": [
    "from transformers import GPT2Tokenizer\n",
    "\n",
    "tokenizer = GPT2Tokenizer.from_pretrained('gpt2')"
   ],
   "outputs": [
    {
     "name": "stderr",
     "output_type": "stream",
     "text": [
      "/home/ubuntu/miniconda3/envs/transformers-twiker/lib/python3.8/site-packages/huggingface_hub/file_download.py:1132: FutureWarning: `resume_download` is deprecated and will be removed in version 1.0.0. Downloads always resume when possible. If you want to force a new download, use `force_download=True`.\n",
      "  warnings.warn(\n"
     ]
    }
   ],
   "execution_count": 1
  },
  {
   "cell_type": "code",
   "id": "755204ef-a90d-4ef0-8347-a16c77c2b93f",
   "metadata": {
    "ExecuteTime": {
     "end_time": "2024-08-22T10:31:46.242950Z",
     "start_time": "2024-08-22T10:31:45.995856Z"
    }
   },
   "source": [
    "with open(\"data_files/full.txt\", 'r') as fs:\n",
    "    book_text = fs.read()"
   ],
   "outputs": [],
   "execution_count": 2
  },
  {
   "cell_type": "code",
   "id": "b3253db7-363e-4493-907a-84be589a2dad",
   "metadata": {
    "ExecuteTime": {
     "end_time": "2024-08-22T10:32:56.113818Z",
     "start_time": "2024-08-22T10:31:47.324925Z"
    }
   },
   "source": [
    "import numpy as np\n",
    "\n",
    "book_tokens = np.array(tokenizer.tokenize(book_text))\n",
    "book_ids = np.array(tokenizer.convert_tokens_to_ids(book_tokens))"
   ],
   "outputs": [],
   "execution_count": 3
  },
  {
   "cell_type": "code",
   "id": "180946a4-f547-4605-a4e3-61202ae9df84",
   "metadata": {
    "ExecuteTime": {
     "end_time": "2024-08-22T11:12:08.218701Z",
     "start_time": "2024-08-22T11:12:06.466861Z"
    }
   },
   "source": [
    "# unique\n",
    "book_ids_unique, index, counts = np.unique(book_ids, return_index=True, return_counts=True)\n",
    "book_tokens_unique = book_tokens[index]\n",
    "\n",
    "print(\"Total\", len(book_ids))\n",
    "print(\"Unique\", len(book_ids_unique))"
   ],
   "outputs": [
    {
     "name": "stdout",
     "output_type": "stream",
     "text": [
      "Total 14088656\n",
      "Unique 40155\n"
     ]
    }
   ],
   "execution_count": 4
  },
  {
   "cell_type": "markdown",
   "id": "93aca3f0-b857-4303-a9a6-0419e35913b0",
   "metadata": {},
   "source": [
    "# For linguistic analysis, we need to add these properties to `book_ids_unique`:\n",
    "\n",
    "* Counts of appearance: already found above\n",
    "* Class as one of follows: noun, verb, adjective, ..., punctuation, affix, letter, num, other"
   ]
  },
  {
   "cell_type": "code",
   "id": "dbd4d493-a98c-4bc8-9d15-f545d644ad34",
   "metadata": {
    "ExecuteTime": {
     "end_time": "2024-08-22T11:12:15.686425Z",
     "start_time": "2024-08-22T11:12:12.365495Z"
    }
   },
   "source": [
    "def find_non_ascii_characters(input_string):\n",
    "    non_ascii_characters = [char for char in input_string if ord(char) > 127]\n",
    "    return np.unique(non_ascii_characters)\n",
    "\n",
    "# Example usage\n",
    "non_ascii_characters = find_non_ascii_characters(book_text)\n",
    "print(\"Non-ASCII characters:\", non_ascii_characters)"
   ],
   "outputs": [
    {
     "name": "stdout",
     "output_type": "stream",
     "text": [
      "Non-ASCII characters: ['\\x88' '\\x92' '\\x94' '¡' '¢' '¤' '©' '«' '®' '°' '±' 'À' 'Ç' 'É' 'Ô' 'Ö'\n",
      " '×' 'Ü' 'à' 'á' 'â' 'ä' 'ç' 'è' 'é' 'ê' 'ë' 'í' 'î' 'ï' 'ñ' 'ó' 'ô' 'ö'\n",
      " 'ø' 'ú' 'û' 'ü' 'ā' 'č' 'ē' 'ę' 'ń' 'ŕ' 'Ś' 'Š' '–' '‘' '’' '“' '”' '•'\n",
      " '…' '′' '™' '♦' '�']\n"
     ]
    }
   ],
   "execution_count": 5
  },
  {
   "cell_type": "code",
   "id": "5594b219-45b6-4e4d-81a1-9a646ed22c84",
   "metadata": {
    "ExecuteTime": {
     "end_time": "2024-08-22T11:12:18.438213Z",
     "start_time": "2024-08-22T11:12:16.856727Z"
    }
   },
   "source": [
    "import string\n",
    "import spacy, nltk\n",
    "from nltk.corpus import words\n",
    "\n",
    "# punctuation\n",
    "def is_punctuation(char):\n",
    "    return char in string.punctuation or char in non_ascii_characters\n",
    "\n",
    "# pos of word\n",
    "nlp = spacy.load(\"en_core_web_sm\")\n",
    "def get_pos(word):\n",
    "    doc = nlp(word)\n",
    "    for token in doc:\n",
    "        return token.pos_\n",
    "\n",
    "# common word\n",
    "nltk.download('words')\n",
    "common_words = set(words.words())\n",
    "def common_word(word):\n",
    "    return word.lower() in common_words"
   ],
   "outputs": [
    {
     "name": "stderr",
     "output_type": "stream",
     "text": [
      "[nltk_data] Downloading package words to /home/ubuntu/nltk_data...\n",
      "[nltk_data]   Package words is already up-to-date!\n"
     ]
    }
   ],
   "execution_count": 6
  },
  {
   "cell_type": "code",
   "id": "a2f9c78f-9d13-4b1b-acd9-4e0afc97d7ad",
   "metadata": {
    "ExecuteTime": {
     "end_time": "2024-08-22T11:13:18.076270Z",
     "start_time": "2024-08-22T11:12:26.080249Z"
    }
   },
   "source": [
    "classes = []\n",
    "\n",
    "for tok in book_tokens_unique:\n",
    "    if len(tok) == 1:\n",
    "        if is_punctuation(tok):\n",
    "            classes.append(\"punctuation\")\n",
    "        elif tok.isalpha():\n",
    "            classes.append(\"letter\")\n",
    "        elif tok.isdigit():\n",
    "            classes.append(\"num\")\n",
    "        else:\n",
    "            classes.append(\"other\")\n",
    "        continue\n",
    "    \n",
    "    if tok[0] != \"Ġ\":\n",
    "        classes.append(\"affix\")\n",
    "        continue\n",
    "\n",
    "    tok = tok[1:]\n",
    "    if len(tok) == 1:\n",
    "        if is_punctuation(tok):\n",
    "            classes.append(\"punctuation\")\n",
    "            continue\n",
    "        if tok.isalpha() and tok not in [\"I\", \"a\", \"A\"]:  # here we check single-char words\n",
    "            classes.append(\"letter\")\n",
    "            continue\n",
    "        elif tok.isdigit():\n",
    "            classes.append(\"num\")\n",
    "            continue\n",
    "    if not common_word(tok):\n",
    "        classes.append(\"affix\")\n",
    "        continue\n",
    "    classes.append(get_pos(tok).lower())\n",
    "classes = np.array(classes)"
   ],
   "outputs": [],
   "execution_count": 7
  },
  {
   "cell_type": "code",
   "id": "d31dcf89-f52a-4a40-9816-6c8f382c3388",
   "metadata": {
    "ExecuteTime": {
     "end_time": "2024-08-22T11:14:16.981841Z",
     "start_time": "2024-08-22T11:14:16.959896Z"
    }
   },
   "source": [
    "# let's take a look\n",
    "classes_unique = np.unique(classes)\n",
    "\n",
    "for cls in classes_unique:\n",
    "    print(cls, len(np.where(classes == cls)[0]))\n",
    "    print(book_tokens_unique[classes == cls][:100])\n",
    "    print()"
   ],
   "outputs": [
    {
     "name": "stdout",
     "output_type": "stream",
     "text": [
      "adj 2126\n",
      "['Ġpro' 'Ġother' 'Ġnew' 'Ġmany' 'Ġsuch' 'Ġown' 'Ġgood' 'Ġlast' 'ĠNew'\n",
      " 'Ġsame' 'Ġhigh' 'ĠPro' 'Ġgreat' 'Ġreal' 'Ġpublic' 'Ġfew' 'Ġdifferent'\n",
      " 'Ġbig' 'Ġbest' 'Ġlittle' 'Ġtri' 'Ġfull' 'Ġtop' 'Ġmain' 'Ġsmall' 'Ġide'\n",
      " 'Ġcurrent' 'Ġold' 'Ġfree' 'Ġable' 'Ġleast' 'Ġlarge' 'Ġimportant' 'Ġclear'\n",
      " 'Ġlight' 'Ġmajor' 'Ġavailable' 'Ġcertain' 'Ġpossible' 'Ġproper' 'Ġshort'\n",
      " 'Ġseveral' 'Ġcomplete' 'Ġyoung' 'Ġlow' 'Ġant' 'Ġstrong' 'Ġsocial'\n",
      " 'Ġparticular' 'Ġlocal' 'Ġpolitical' 'Ġformer' 'Ġkey' 'Ġanal' 'Ġspecial'\n",
      " 'Ġblack' 'Ġsingle' 'Ġquick' 'Ġtrue' 'Ġbad' 'Ġsimilar' 'Ġentire'\n",
      " 'Ġspecific' 'Ġprevious' 'Ġwhole' 'Ġcommon' 'Ġdue' 'Ġnational' 'Ġrecent'\n",
      " 'Ġgeneral' 'ĠRed' 'Ġmass' 'ĠNational' 'Ġthird' 'Ġsignificant'\n",
      " 'Ġdifficult' 'Ġhigher' 'Ġfinal' 'ĠSouth' 'Ġeasy' 'Ġpersonal' 'ĠBlack'\n",
      " 'ĠWhite' 'Ġdead' 'Ġwrong' 'Ġoriginal' 'ĠGerman' 'Ġprim' 'Ġsoft'\n",
      " 'Ġserious' 'Ġlegal' 'Ġill' 'Ġaverage' 'Ġperfect' 'Ġsimple' 'Ġprivate'\n",
      " 'Ġworth' 'Ġselect' 'Ġcandid' 'Ġpopular']\n",
      "\n",
      "adp 113\n",
      "['Ġof' 'Ġin' 'Ġon' 'Ġfor' 'Ġwith' 'Ġas' 'Ġat' 'Ġby' 'Ġfrom' 'ĠIn' 'Ġper'\n",
      " 'Ġthan' 'Ġover' 'Ġinto' 'Ġafter' 'Ġunder' 'ĠRe' 'Ġthrough' 'Ġbefore'\n",
      " 'Ġbetween' 'Ġagainst' 'ĠAs' 'ĠFor' 'Ġduring' 'Ġwithout' 'Ġnear' 'ĠOn'\n",
      " 'Ġuntil' 'Ġwithin' 'ĠAt' 'Ġes' 'Ġalong' 'Ġamong' 'Ġacross' 'Ġabove'\n",
      " 'ĠWith' 'Ġbehind' 'Ġbelow' 'ĠAfter' 'ĠPer' 'Ġinside' 'ĠBy' 'Ġvia' 'ĠOf'\n",
      " 'ĠOff' 'ĠIN' 'Ġtowards' 'Ġut' 'ĠFrom' 'Ġbeyond' 'Ġthroughout' 'Ġtoward'\n",
      " 'ĠOver' 'ĠOF' 'Ġonto' 'ĠLike' 'ĠUnder' 'Ġunlike' 'ĠTO' 'ĠDuring' 'Ġast'\n",
      " 'ĠAS' 'ĠBefore' 'ĠFOR' 'Ġalongside' 'Ġversus' 'ĠWithout' 'ĠThrough'\n",
      " 'ĠAmong' 'Ġamid' 'ĠCos' 'Ġbeneath' 'Ġamongst' 'ĠUnlike' 'ĠBeyond' 'Ġna'\n",
      " 'ĠWithin' 'Ġunto' 'ĠAgainst' 'ĠWITH' 'Ġbeside' 'ĠUntil' 'ĠBetween'\n",
      " 'ĠInside' 'ĠDue' 'ĠWa' 'Ġaboard' 'ĠFROM' 'ĠOUT' 'Ġnearest' 'ĠAlong'\n",
      " 'ĠThan' 'ĠInto' 'Ġatop' 'ĠNear' 'Ġminus' 'Ġta' 'ĠBehind' 'ĠAbove'\n",
      " 'Ġclown']\n",
      "\n",
      "adv 926\n",
      "['Ġout' 'Ġup' 'Ġmore' 'Ġso' 'Ġabout' 'Ġen' 'Ġoff' 'Ġthere' 'Ġalso' 'Ġjust'\n",
      " 'Ġonly' 'Ġfirst' 'Ġback' 'Ġmost' 'Ġagain' 'Ġeven' 'Ġnow' 'Ġthen' 'Ġass'\n",
      " 'Ġvery' 'Ġdown' 'Ġmuch' 'Ġlong' 'Ġstill' 'Ġhere' 'Ġaround' 'Ġreally'\n",
      " 'Ġtoo' 'Ġsecond' 'Ġnever' 'Ġfar' 'Ġnext' 'ĠThere' 'Ġhard' 'Ġless'\n",
      " 'Ġbetter' 'ĠSo' 'Ġalways' 'Ġaway' 'Ġalready' 'Ġlater' 'Ġenough' 'Ġsure'\n",
      " 'ĠTe' 'Ġactually' 'Ġever' 'Ġoften' 'Ġonce' 'Ġyet' 'Ġlikely' 'Ġearly'\n",
      " 'Ġtogether' 'Ġeither' 'ĠEn' 'Ġalmost' 'Ġelse' 'Ġago' 'ĠHowever' 'Ġrather'\n",
      " 'Ġhowever' 'Ġprobably' 'Ġfurther' 'Ġmatter' 'ĠJust' 'Ġoutside' 'Ġsimply'\n",
      " 'Ġlonger' 'Ġquite' 'Ġinstead' 'Ġpretty' 'Ġsoon' 'Ġespecially' 'Ġforward'\n",
      " 'ĠNow' 'Ġlate' 'Ġdeep' 'Ġlower' 'Ġround' 'Ġrecently' 'Ġquickly' 'Ġnearly'\n",
      " 'Ġcurrently' 'Ġwide' 'ĠMore' 'Ġprior' 'Ġcompletely' 'ĠUp' 'Ġusually'\n",
      " 'ĠThen' 'Ġdirectly' 'ĠFirst' 'Ġsometimes' 'Ġimmediately' 'ĠEven' 'ĠHere'\n",
      " 'Ġalone' 'Ġfinally' 'Ġexactly' 'Ġeasily' 'Ġparticularly']\n",
      "\n",
      "affix 23322\n",
      "['he' 'in' 're' 'on' 'er' 'at' 'en' 'it' 'is' 'an' 'or' 'es' 'ed' 'ing'\n",
      " 'ou' 'al' 'ar' 'ic' 'as' 'le' 'ion' 'om' 'll' 'ent' 'st' 've' 'ro' 'ly'\n",
      " 'ct' 'id' 'ot' 'ut' 'et' 'im' 'am' 'ow' 'ay' 'ad' 'se' 'ig' 'ac' 'ver'\n",
      " 'ur' 'ld' \"'s\" 'ation' 'ith' 'ir' 'ce' 'il' 'Ġwh' 'ol' 'ter' 'ch' 'nd'\n",
      " 'ill' 'if' 'ag' 'ers' 'ke' 'em' 'her' 'od' 'ul' 'ate' 'ri' 'pp' 'ore'\n",
      " 'us' 'um' 'ain' 'and' 'igh' 'est' 'ist' 'ab' 'rom' 'th' 'Ġcom' 'un' 'op'\n",
      " '00' 'ess' 'res' 'ew' 'ity' 'ant' 'el' 'os' 'ort' 'oc' 'qu' 'Ġsu' 'ive'\n",
      " 'ould' 'nt' 'ra' 'pe' 'ight' 'art']\n",
      "\n",
      "aux 48\n",
      "['Ġbe' 'Ġis' 'Ġwas' 'Ġare' 'Ġcan' 'Ġwill' 'Ġwere' 'Ġwould' 'Ġbeen'\n",
      " 'Ġcould' 'Ġam' 'Ġmay' 'Ġshould' 'Ġbeing' 'ĠIs' 'Ġmight' 'Ġca' 'Ġmust'\n",
      " 'ĠBe' 'ĠCan' 'ĠAm' 'ĠMay' 'Ġshall' 'Ġcannot' 'ĠWill' 'ĠIS' 'ĠAre' 'ĠCa'\n",
      " 'ĠWas' 'ĠBE' 'ĠCould' 'ĠShould' 'Ġought' 'ĠWould' 'ĠBeing' 'ĠMust'\n",
      " 'ĠWere' 'ĠARE' 'ĠCant' 'ĠMUST' 'Ġcant' 'ĠWAS' 'ĠMight' 'Ġwo' 'ĠCannot'\n",
      " 'Ġwont' 'Ġmould' 'ĠBeen']\n",
      "\n",
      "cconj 17\n",
      "['Ġand' 'Ġor' 'Ġbut' 'ĠAnd' 'ĠBut' 'ĠOr' 'Ġrat' 'Ġnor' 'ĠAND' 'ĠNor'\n",
      " 'Ġplus' 'Ġneither' 'ĠOR' 'ĠPlus' 'ĠBUT' 'Ġhither' 'Ġgland']\n",
      "\n",
      "det 1\n",
      "['Ġwhose']\n",
      "\n",
      "intj 89\n",
      "['Ġha' 'ĠSt' 'Ġlike' 'Ġno' 'Ġpo' 'Ġright' 'Ġwell' 'Ġmon' 'ĠDe' 'ĠNo' 'Ġer'\n",
      " 'Ġwa' 'ĠEm' 'Ġess' 'Ġaw' 'ĠYes' 'Ġplease' 'Ġyes' 'ĠWell' 'ĠOh' 'ĠPlease'\n",
      " 'ĠEr' 'ĠAw' 'ĠPac' 'ĠBoy' 'ĠRight' 'ĠMat' 'Ġtur' 'ĠAh' 'ĠNO' 'ĠAst' 'Ġla'\n",
      " 'ĠHa' 'ĠYeah' 'Ġquote' 'Ġyeah' 'ĠBud' 'ĠSure' 'ĠArena' 'ĠBY' 'Ġoh' 'ĠWy'\n",
      " 'ĠAy' 'ĠER' 'ĠHey' 'ĠHi' 'Ġhey' 'ĠFine' 'ĠHello' 'Ġgoodness' 'ĠUm' 'Ġya'\n",
      " 'ĠYES' 'ĠEy' 'Ġhello' 'Ġum' 'ĠFut' 'ĠPep' 'ĠWow' 'Ġhuh' 'Ġorc' 'ĠBun'\n",
      " 'ĠLis' 'Ġos' 'Ġwow' 'Ġah' 'Ġamen' 'ĠDob' 'ĠEh' 'ĠHeck' 'ĠDag' 'ĠHep'\n",
      " 'Ġeh' 'Ġblah' 'Ġfarewell' 'Ġbye' 'ĠAmen' 'ĠFra' 'Ġunknow' 'ĠNope' 'ĠWim'\n",
      " 'ĠDamn' 'ĠPoke' 'Ġyr' 'Ġmockery' 'ĠAlas' 'Ġalas' 'ĠBirch' 'ĠTeg']\n",
      "\n",
      "letter 125\n",
      "['A' 'B' 'C' 'D' 'E' 'F' 'G' 'H' 'I' 'J' 'K' 'L' 'M' 'N' 'O' 'P' 'Q' 'R'\n",
      " 'S' 'T' 'U' 'V' 'W' 'X' 'Y' 'Z' 'a' 'b' 'c' 'd' 'e' 'f' 'g' 'h' 'i' 'j'\n",
      " 'k' 'l' 'm' 'n' 'o' 'p' 'q' 'r' 's' 't' 'u' 'v' 'w' 'x' 'y' 'z' 'Â' 'Ã'\n",
      " 'Ä' 'Å' 'Ċ' 'Ġ' 'Ģ' 'Ħ' 'ĩ' 'Ī' 'Ĵ' 'Ķ' 'ķ' 'ĸ' 'ĺ' 'Ļ' 'ļ' 'ľ' 'Ŀ' 'ł'\n",
      " 'Ġt' 'Ġs' 'Ġw' 'Ġo' 'Ġc' 'Ġb' 'Ġf' 'Ġp' 'Ġm' 'Ġd' 'Ġh' 'Ġn' 'Ġl' 'Ġe'\n",
      " 'Ġg' 'ĠT' 'ĠS' 'ĠC' 'Ġy' 'Ġu' 'ĠM' 'ĠB' 'ĠP' 'ĠD' 'ĠH' 'ĠW' 'ĠR' 'Ġr']\n",
      "\n",
      "noun 7012\n",
      "['Ġex' 'Ġad' 'Ġman' 'Ġyear' 'Ġpart' 'Ġtime' 'Ġpeople' 'Ġwork' 'Ġpol'\n",
      " 'Ġway' 'Ġend' 'ĠSh' 'ĠAr' 'Ġmin' 'Ġgame' 'Ġreport' 'Ġworld' 'Ġspec'\n",
      " 'Ġear' 'Ġperson' 'Ġser' 'Ġteam' 'Ġsystem' 'Ġcar' 'Ġlaw' 'Ġsupport'\n",
      " 'Ġfact' 'Ġday' 'Ġcor' 'Ġwar' 'Ġpower' 'Ġstate' 'Ġhead' 'Ġposs' 'Ġchild'\n",
      " 'Ġlife' 'ĠAd' 'Ġdisc' 'Ġmonth' 'Ġgovernment' 'Ġleg' 'Ġquest' 'Ġlevel'\n",
      " 'Ġart' 'Ġeffect' 'Ġcent' 'Ġbelie' 'Ġlot' 'Ġfun' 'Ġnumber' 'Ġpost' 'Ġweek'\n",
      " 'Ġplace' 'Ġsoc' 'Ġmark' 'Ġinformation' 'Ġbus' 'Ġimport' 'Ġtest' 'Ġrest'\n",
      " 'Ġcase' 'Ġlist' 'Ġhome' 'Ġdata' 'Ġinterest' 'Ġclass' 'Ġplan' 'Ġpercent'\n",
      " 'Ġcamp' 'Ġprocess' 'Ġprogram' 'Ġname' 'Ġgroup' 'Ġmen' 'Ġcap' 'ĠCon'\n",
      " 'Ġbook' 'Ġcountry' 'Ġorder' 'Ġthing' 'Ġschool' 'Ġdays' 'Ġhealth' 'Ġsol'\n",
      " 'Ġfriend' 'Ġhist' 'Ġview' 'Ġword' 'Ġpar' 'Ġbusiness' 'Ġpast' 'Ġdev'\n",
      " 'Ġstory' 'Ġseason' 'Ġline' 'Ġproject' 'Ġcontrol' 'Ġair' 'Ġmoney'\n",
      " 'Ġfamily']\n",
      "\n",
      "num 74\n",
      "['0' '1' '2' '3' '4' '5' '6' '7' '8' '9' 'Ġ1' 'Ġ2' 'Ġ3' 'Ġone' 'Ġ4' 'Ġ5'\n",
      " 'Ġ0' 'Ġ6' 'Ġtwo' 'Ġ7' 'Ġ8' 'Ġ9' 'Ġthree' 'Ġfour' 'Ġmillion' 'ĠOne'\n",
      " 'Ġfive' 'Ġsix' 'Ġbillion' 'Ġhundred' 'Ġten' 'Ġseven' 'Ġeight' 'ĠTwo'\n",
      " 'Ġnine' 'Ġzero' 'ĠFour' 'Ġthousand' 'ĠThree' 'Ġtwenty' 'ĠTen' 'ĠSix'\n",
      " 'ĠFive' 'ĠZero' 'Ġthirty' 'Ġtrillion' 'ĠSeven' 'Ġtwelve' 'Ġfifty' 'ĠONE'\n",
      " 'ĠNine' 'Ġforty' 'Ġfifteen' 'ĠEight' 'Ġeleven' 'ĠTwenty' 'ĠMillion'\n",
      " 'Ġsixty' 'Ġsixteen' 'Ġthirteen' 'Ġeighteen' 'Ġfourteen' 'ĠTwelve'\n",
      " 'Ġseventy' 'Ġtreacher' 'ĠTWO' 'ĠFifty' 'ĠBillion' 'Ġeighty' 'Ġninety'\n",
      " 'ĠThousand' 'ĠHundred' 'Ġnineteen' 'ĠTHREE']\n",
      "\n",
      "other 3\n",
      "['¦' '§' '¼']\n",
      "\n",
      "part 5\n",
      "['Ġto' 'Ġnot' 'ĠTo' 'ĠNot' 'ĠNOT']\n",
      "\n",
      "pron 140\n",
      "['Ġa' 'Ġthe' 'Ġan' 'ĠI' 'ĠA' 'Ġthat' 'Ġhe' 'Ġit' 'Ġyou' 'Ġwe' 'ĠThe' 'Ġsh'\n",
      " 'Ġthis' 'Ġhis' 'Ġall' 'Ġthey' 'Ġme' 'Ġwho' 'Ġtheir' 'Ġus' 'Ġyour'\n",
      " 'Ġwhich' 'Ġany' 'Ġthem' 'Ġher' 'Ġmy' 'Ġsome' 'ĠIt' 'Ġwhat' 'Ġits' 'Ġshe'\n",
      " 'Ġour' 'ĠHe' 'Ġhim' 'ĠThis' 'ĠWe' 'Ġthese' 'Ġevery' 'Ġem' 'Ġthose' 'ĠYou'\n",
      " 'ĠAn' 'Ġboth' 'ĠThey' 'Ġeach' 'Ġanother' 'Ġsomething' 'Ġtra' 'ĠThat'\n",
      " 'ĠShe' 'ĠAll' 'ĠWhat' 'Ġanything' 'ĠMy' 'Ġsomeone' 'Ġnothing' 'ĠMe'\n",
      " 'Ġhimself' 'Ġeverything' 'ĠThese' 'ĠHer' 'Ġitself' 'ĠHis' 'Ġthemselves'\n",
      " 'Ġeveryone' 'Ġanyone' 'ĠSome' 'ĠTHE' 'ĠYour' 'Ġyourself' 'ĠAN' 'Ġmyself'\n",
      " 'ĠEvery' 'ĠOur' 'ĠUs' 'Ġwhom' 'Ġwhatever' 'ĠAny' 'Ġherself' 'ĠTheir'\n",
      " 'ĠWho' 'ĠEach' 'ĠBoth' 'ĠThose' 'ĠAnother' 'Ġmine' 'ĠIts' 'Ġourselves'\n",
      " 'ĠYOU' 'ĠIT' 'Ġeverybody' 'Ġnobody' 'Ġsomebody' 'ĠWhich' 'Ġanybody'\n",
      " 'ĠNothing' 'ĠHim' 'ĠEveryone' 'ĠALL' 'ĠHE']\n",
      "\n",
      "propn 1955\n",
      "['Ġst' 'Ġcon' 'Ġse' 'Ġal' 'Ġsa' 'Ġne' 'Ġun' 'Ġte' 'Ġdis' 'ĠUn' 'Ġsec'\n",
      " 'Ġrel' 'Ġdon' 'Ġreg' 'Ġbel' 'Ġstud' 'Ġcol' 'Ġfin' 'Ġsur' 'ĠAl' 'ĠSe'\n",
      " 'Ġret' 'Ġref' 'Ġmem' 'Ġcur' 'Ġche' 'Ġrep' 'Ġfam' 'Ġchar' 'Ġresp' 'Ġel'\n",
      " 'ĠUS' 'Ġpur' 'Ġhum' 'ĠRep' 'Ġmil' 'ĠEx' 'Ġchang' 'Ġbo' 'ĠMar' 'Ġann'\n",
      " 'Ġprof' 'ĠUnited' 'Ġbas' 'ĠCol' 'Ġmar' 'Ġhuman' 'Ġhop' 'Ġlim' 'ĠGod'\n",
      " 'ĠMin' 'Ġprob' 'ĠSec' 'Ġben' 'Ġviol' 'Ġmult' 'ĠPresident' 'ĠDon' 'ĠHouse'\n",
      " 'Ġmor' 'Ġmag' 'ĠPol' 'Ġra' 'ĠAct' 'ĠAss' 'Ġdoc' 'Ġred' 'ĠGe' 'ĠTH'\n",
      " 'Ġwhite' 'ĠSept' 'Ġlo' 'Ġgen' 'ĠIntern' 'ĠBrit' 'Ġrad' 'Ġjo' 'ĠPar'\n",
      " 'Ġjud' 'ĠChe' 'Ġdiv' 'Ġfederal' 'ĠJune' 'ĠMarch' 'ĠChina' 'Ġtou' 'Ġpict'\n",
      " 'ĠJapan' 'ĠAugust' 'Ġboy' 'ĠMark' 'ĠMag' 'Ġfather' 'Ġbott' 'Ġlat' 'Ġbox'\n",
      " 'ĠSuper' 'Ġprep' 'ĠCongress' 'ĠDis']\n",
      "\n",
      "punct 1\n",
      "['Ġneo']\n",
      "\n",
      "punctuation 57\n",
      "['!' '\"' '#' '$' '%' '&' \"'\" '(' ')' '*' '+' ',' '-' '.' '/' ':' ';' '='\n",
      " '?' '@' '[' '\\\\' ']' '^' '_' '`' '{' '}' '~' '¡' '¢' '¤' 'Ġ(' 'Ġ\"' 'Ġ-'\n",
      " 'Ġ[' \"Ġ'\" 'Ġ$' 'Ġ.' 'Ġ=' 'Ġ,' 'Ġ:' 'Ġ/' 'Ġ&' 'Ġ)' 'Ġ#' 'Ġ+' 'Ġ*' 'Ġ;'\n",
      " 'Ġ]' 'Ġ@' 'Ġ\\\\' 'Ġ`' 'Ġ_' 'Ġ!' 'Ġ~' 'Ġ?']\n",
      "\n",
      "sconj 47\n",
      "['Ġif' 'Ġwhen' 'Ġhow' 'Ġbecause' 'Ġwhere' 'Ġwhile' 'Ġthough' 'ĠIf'\n",
      " 'Ġsince' 'ĠHow' 'Ġwhy' 'ĠWhen' 'Ġwhether' 'Ġupon' 'Ġexcept' 'ĠWhile'\n",
      " 'Ġalthough' 'Ġdespite' 'ĠWhy' 'ĠBecause' 'Ġunless' 'ĠSince' 'ĠAlthough'\n",
      " 'ĠWhere' 'ĠThough' 'ĠDespite' 'Ġwhenever' 'Ġwhereas' 'ĠWhether' 'Ġtill'\n",
      " 'Ġbesides' 'ĠUpon' 'Ġwherever' 'Ġwhilst' 'ĠBesides' 'ĠIF' 'ĠUnless'\n",
      " 'ĠTill' 'ĠExcept' 'Ġalbeit' 'ĠWhenever' 'Ġtil' 'Ġwherein' 'ĠHOW' 'ĠWHERE'\n",
      " 'ĠWHEN' 'ĠWHY']\n",
      "\n",
      "verb 4080\n",
      "['Ġth' 'Ġre' 'Ġhave' 'Ġdo' 'Ġgo' 'Ġsaid' 'ĠTh' 'Ġhad' 'Ġar' 'Ġget' 'Ġplay'\n",
      " 'Ġact' 'Ġbet' 'Ġdid' 'Ġadd' 'Ġknow' 'Ġneed' 'Ġwant' 'Ġsee' 'Ġuse' 'Ġmake'\n",
      " 'Ġlook' 'Ġbu' 'Ġimp' 'Ġsub' 'Ġdoes' 'Ġcall' 'Ġthink' 'Ġset' 'Ġshow'\n",
      " 'Ġsay' 'Ġstart' 'Ġmade' 'Ġcount' 'Ġpoint' 'Ġused' 'Ġinter' 'Ġtake'\n",
      " 'Ġgoing' 'Ġhand' 'Ġhelp' 'Ġfound' 'Ġsign' 'Ġrun' 'Ġfollow' 'Ġfind'\n",
      " 'Ġlead' 'Ġgovern' 'Ġread' 'Ġmet' 'Ġprog' 'Ġdevelop' 'Ġpass' 'Ġturn'\n",
      " 'Ġput' 'Ġallow' 'Ġfeel' 'Ġresult' 'Ġask' 'Ġdirect' 'Ġopen' 'Ġcome'\n",
      " 'Ġseem' 'Ġform' 'Ġtold' 'ĠTrump' 'Ġstand' 'Ġlet' 'Ġinvest' 'Ġcare'\n",
      " 'Ġleft' 'Ġattack' 'Ġbuild' 'Ġgot' 'Ġkeep' 'Ġpay' 'Ġreturn' 'Ġmove' 'Ġpat'\n",
      " 'Ġpop' 'Ġdesign' 'Ġchange' 'Ġkill' 'ĠGo' 'Ġtell' 'Ġtalk' 'Ġcost' 'Ġgive'\n",
      " 'Ġwin' 'Ġexpect' 'Ġkind' 'Ġmean' 'Ġorgan' 'Ġperform' 'Ġclaim' 'Ġcame'\n",
      " 'Ġmaking' 'Ġhappen' 'Ġsit' 'Ġappear']\n",
      "\n",
      "x 14\n",
      "['Ġde' 'Ġfe' 'Ġvis' 'Ġsuper' 'Ġanti' 'Ġfra' 'Ġcrypt' 'ĠNOR' 'ĠMAG'\n",
      " 'Ġtoddler' 'Ġseventeen' 'Ġtho' 'Ġdiner' 'Ġzipper']\n",
      "\n"
     ]
    }
   ],
   "execution_count": 8
  },
  {
   "cell_type": "code",
   "id": "f254d387-fc57-4178-8590-8cfdc7c8f7a9",
   "metadata": {
    "ExecuteTime": {
     "end_time": "2024-08-22T11:14:18.427844Z",
     "start_time": "2024-08-22T11:14:18.421043Z"
    }
   },
   "source": [
    "# this looks reasonable, but classes are too many\n",
    "# so we select the most meaningful ones\n",
    "super_classes = [\"adj\", \"adp\", \"adv\", \"aux\", \"verb\", \"cconj\", \"noun\", \"pron\", \"sconj\", \"verb\"]\n",
    "\n",
    "# show some stats\n",
    "class_counts_unique = []\n",
    "class_counts_total = []\n",
    "\n",
    "for cls in super_classes:\n",
    "    idx = np.where(classes == cls)[0]\n",
    "    class_counts_unique.append(len(idx))\n",
    "    class_counts_total.append(counts[idx].sum())"
   ],
   "outputs": [],
   "execution_count": 9
  },
  {
   "cell_type": "code",
   "id": "5e29db13-e1c7-4c8d-97f3-bf0520c4fc35",
   "metadata": {
    "ExecuteTime": {
     "end_time": "2024-08-22T11:14:21.001766Z",
     "start_time": "2024-08-22T11:14:20.180651Z"
    }
   },
   "source": [
    "import matplotlib.pyplot as plt\n",
    "\n",
    "fig, ax = plt.subplots(1, 2, figsize=(15, 3))\n",
    "ax[0].bar(super_classes, class_counts_unique)\n",
    "ax[0].set_title(\"Unique count\")\n",
    "ax[1].bar(super_classes, class_counts_total)\n",
    "ax[1].set_title(\"Total count\")\n",
    "plt.show()"
   ],
   "outputs": [
    {
     "data": {
      "text/plain": [
       "<Figure size 1500x300 with 2 Axes>"
      ],
      "image/png": "[encoded data removed]"
     },
     "metadata": {},
     "output_type": "display_data"
    }
   ],
   "execution_count": 10
  },
  {
   "cell_type": "markdown",
   "id": "ce2ae069-5266-4414-8a22-4b9f2ff80e16",
   "metadata": {},
   "source": [
    "# Summary"
   ]
  },
  {
   "cell_type": "code",
   "id": "bf88415c-53c0-4fbb-b80c-c0ddfaac5648",
   "metadata": {
    "ExecuteTime": {
     "end_time": "2024-08-22T11:14:23.582759Z",
     "start_time": "2024-08-22T11:14:23.577160Z"
    }
   },
   "source": [
    "# use `book_ids_unique` to retrieve kernels from trained model\n",
    "print(len(book_ids_unique), book_ids_unique)\n",
    "\n",
    "# use `book_tokens_unique` to see word\n",
    "print(len(book_tokens_unique), book_tokens_unique)\n",
    "\n",
    "# use `counts` to filter out low-frequency tokens\n",
    "print(len(counts), counts)\n",
    "\n",
    "# use `classes` to find the type of words\n",
    "print(len(classes), classes)"
   ],
   "outputs": [
    {
     "name": "stdout",
     "output_type": "stream",
     "text": [
      "40155 [    0     1     2 ... 50251 50252 50255]\n",
      "40155 ['!' '\"' '#' ... 'ominated' 'Ġregress' 'Ġgazed']\n",
      "40155 [29833   367     1 ...    12     2   116]\n",
      "40155 ['punctuation' 'punctuation' 'punctuation' ... 'affix' 'verb' 'affix']\n"
     ]
    }
   ],
   "execution_count": 11
  },
  {
   "cell_type": "markdown",
   "id": "7d993ec3",
   "metadata": {},
   "source": [
    "# Analysis"
   ]
  },
  {
   "cell_type": "code",
   "id": "33fee929",
   "metadata": {
    "ExecuteTime": {
     "end_time": "2024-08-22T11:14:27.246967Z",
     "start_time": "2024-08-22T11:14:26.360830Z"
    }
   },
   "source": [
    "import torch\n",
    "from transformers import GPT2LMHeadModel\n",
    "import json"
   ],
   "outputs": [],
   "execution_count": 12
  },
  {
   "cell_type": "code",
   "id": "60fb3836-2cda-48e6-9f7b-a4afc216afec",
   "metadata": {
    "ExecuteTime": {
     "end_time": "2024-08-22T11:14:35.439432Z",
     "start_time": "2024-08-22T11:14:35.435394Z"
    }
   },
   "source": [
    "# Specify the path to the checkpoint file\n",
    "checkpoint_path = '/home/ubuntu/Downloads/twiker-experiments/results/gpt2/Stephen/train_twiker'\n",
    "\n",
    "# Specify key or value\n",
    "analyze_value = True"
   ],
   "outputs": [],
   "execution_count": 13
  },
  {
   "cell_type": "code",
   "id": "8caafb32",
   "metadata": {
    "ExecuteTime": {
     "end_time": "2024-08-22T11:14:38.040238Z",
     "start_time": "2024-08-22T11:14:35.925693Z"
    }
   },
   "source": [
    "# load config\n",
    "with open(f'{checkpoint_path}/config.json', 'r') as file:\n",
    "    config = json.load(file)\n",
    "\n",
    "# Load the model with the checkpoint\n",
    "model = GPT2LMHeadModel.from_pretrained(checkpoint_path)\n",
    "\n",
    "# weight\n",
    "embedding_weights = model.transformer.twiker_model.embedding.weight.detach()\n",
    "\n",
    "# reshape\n",
    "n_head = 1 if config[\"twiker_head_invariant\"] else config[\"n_head\"]\n",
    "n_layer = 1 if config[\"twiker_layer_invariant\"] or config[\"twiker_only_first_layer\"] else config[\"n_layer\"]\n",
    "embedding_weights = embedding_weights.reshape(-1, n_layer, 2, n_head, config[\"twiker_kernel_size\"])\n",
    "\n",
    "# soft max\n",
    "embedding_weights = torch.softmax(embedding_weights / 0.4, dim=-1)\n",
    "\n",
    "# mean over head and layer\n",
    "embedding_weights = embedding_weights.mean(dim=1).mean(dim=2)\n",
    "\n",
    "# extract for book\n",
    "embedding_weights = embedding_weights[book_ids_unique]\n",
    "\n",
    "# extract for value\n",
    "wv = embedding_weights[:, 1, :] if analyze_value else embedding_weights[:, 0, :]\n",
    "print(wv.shape)"
   ],
   "outputs": [
    {
     "name": "stdout",
     "output_type": "stream",
     "text": [
      "torch.Size([40155, 3])\n"
     ]
    }
   ],
   "execution_count": 14
  },
  {
   "cell_type": "code",
   "id": "5deab9ee",
   "metadata": {
    "ExecuteTime": {
     "end_time": "2024-08-22T11:14:38.085002Z",
     "start_time": "2024-08-22T11:14:38.042613Z"
    }
   },
   "source": [
    "# compute distance\n",
    "t010 = torch.zeros(config[\"twiker_kernel_size\"])\n",
    "t010[config[\"twiker_kernel_size\"] // 2] = 1.\n",
    "dist010 = torch.norm(wv - t010, dim=1)"
   ],
   "outputs": [],
   "execution_count": 15
  },
  {
   "cell_type": "markdown",
   "id": "94fdadf2-e415-4a5b-b195-409151ef4242",
   "metadata": {},
   "source": [
    "### Filter by `counts`"
   ]
  },
  {
   "cell_type": "code",
   "id": "01308049-d4f6-4f1c-80d5-a91d94dc432e",
   "metadata": {
    "ExecuteTime": {
     "end_time": "2024-08-22T11:14:41.016264Z",
     "start_time": "2024-08-22T11:14:40.955324Z"
    }
   },
   "source": [
    "filter = counts >= 5\n",
    "\n",
    "book_ids_counts = book_ids_unique[filter]\n",
    "book_tokens_counts = book_tokens_unique[filter]\n",
    "classes_counts = classes[filter]\n",
    "dist010_counts = dist010[filter]\n",
    "\n",
    "print(len(dist010_counts))"
   ],
   "outputs": [
    {
     "name": "stdout",
     "output_type": "stream",
     "text": [
      "30688\n"
     ]
    }
   ],
   "execution_count": 16
  },
  {
   "cell_type": "code",
   "id": "4c466e98-004e-43aa-b428-cdb2b7979d77",
   "metadata": {
    "ExecuteTime": {
     "end_time": "2024-08-22T11:14:42.111620Z",
     "start_time": "2024-08-22T11:14:42.101628Z"
    }
   },
   "source": [
    "# statistics on all\n",
    "\n",
    "argsort = torch.argsort(dist010_counts, descending=True)\n",
    "book_tokens_counts[argsort[:100]]"
   ],
   "outputs": [
    {
     "data": {
      "text/plain": [
       "array(['Ġnearly', 'Ġcompletely', 'Ġhorrible', 'Ġgigantic', 'Ġenormous',\n",
       "       'Ġugly', 'Ġbare', 'Ġdusty', 'Ġutterly', 'Ġexotic', 'Ġdear',\n",
       "       'shaped', 'Ġentirely', 'Ġvelvet', 'Ġrusty', 'Ġlittle', 'Ġstrong',\n",
       "       'Ġplastic', 'wood', 'Ġdirty', 'Ġgentle', 'Ġdeeply', 'Ġhideous',\n",
       "       'Ġalmost', 'Ġstrange', 'Ġlate', 'Ġbadly', 'Ġvery', 'Ġmakeshift',\n",
       "       'Ġupper', 'Ġtangled', 'Ġsudden', 'Ġtotally', 'Ġempty', 'Ġbattered',\n",
       "       'Ġnarrow', 'Ġweary', 'Ġvague', 'Ġflat', 'Ġwire', 'Ġterribly',\n",
       "       'Ġfresh', 'Ġleftover', 'Ġclumsy', 'Ġmonstrous', 'Ġgreen',\n",
       "       'Ġsticky', 'less', 'Ġfallen', 'Ġbent', 'Ġown', 'Ġhuge', 'Ġalready',\n",
       "       'Ġpainfully', 'Ġkick', 'Ġsuddenly', 'Ġsilent', 'Ġsomehow',\n",
       "       'Ġawful', 'Ġrough', 'Ġceramic', 'Ġpartially', 'Ġcollar',\n",
       "       'Ġeternal', 'Ġmagazines', 'Ġautomatic', 'ie', 'Ġdelicate',\n",
       "       'Ġoversized', 'Ġslowly', 'Ġinvisible', 'Ġbrief', 'ĠIndian',\n",
       "       'Ġoddly', 'Ġbroad', 'Ġloose', 'Ġvast', 'Ġolder', 'Ġswollen',\n",
       "       'Ġwild', 'Ġabruptly', 'Ġswallowed', 'Ġsmall', 'linger', 'Ġreally',\n",
       "       'Ġfascinated', 'Ġtall', 'Ġscrim', 'Ġbigger', 'Ġdesperate',\n",
       "       'Ġbrilliant', 'Ġprecious', 'Ġbecame', 'Ġthighs', 'Ġpurple',\n",
       "       'Ġconcrete', 'ering', 'Ġneatly', 'ĠBob', 'Ġlow'], dtype='<U19')"
      ]
     },
     "execution_count": 17,
     "metadata": {},
     "output_type": "execute_result"
    }
   ],
   "execution_count": 17
  },
  {
   "cell_type": "markdown",
   "id": "2613a89d-c846-434f-9f4e-40b2e97aa66b",
   "metadata": {},
   "source": [
    "### Filter by `class`"
   ]
  },
  {
   "cell_type": "code",
   "id": "37fc7fec-5114-402a-9f2e-a813a9d25d60",
   "metadata": {
    "ExecuteTime": {
     "end_time": "2024-08-22T11:14:44.570355Z",
     "start_time": "2024-08-22T11:14:44.509977Z"
    }
   },
   "source": [
    "# statistics on role\n",
    "\n",
    "cls_mean = []\n",
    "for cls in super_classes:\n",
    "    filter = (classes_counts == cls)\n",
    "    book_ids_cls = book_ids_counts[filter]\n",
    "    book_tokens_cls = book_tokens_counts[filter]\n",
    "    dist010_cls = dist010_counts[filter]\n",
    "    mean = dist010_cls.mean()\n",
    "    cls_mean.append(mean)"
   ],
   "outputs": [],
   "execution_count": 18
  },
  {
   "cell_type": "code",
   "id": "71d605ce-f5d6-4d2b-85e3-a2b3aae2fceb",
   "metadata": {
    "ExecuteTime": {
     "end_time": "2024-08-22T11:14:45.951266Z",
     "start_time": "2024-08-22T11:14:45.807143Z"
    }
   },
   "source": [
    "plt.bar(super_classes, cls_mean)\n"
   ],
   "outputs": [
    {
     "data": {
      "text/plain": [
       "<BarContainer object of 10 artists>"
      ]
     },
     "execution_count": 19,
     "metadata": {},
     "output_type": "execute_result"
    },
    {
     "data": {
      "text/plain": [
       "<Figure size 640x480 with 1 Axes>"
      ],
      "image/png": "[encoded data removed]"
     },
     "metadata": {},
     "output_type": "display_data"
    }
   ],
   "execution_count": 19
  },
  {
   "cell_type": "code",
   "execution_count": null,
   "id": "e6a408a4-cb84-4deb-9262-b52e35364502",
   "metadata": {},
   "outputs": [],
   "source": []
  },
  {
   "cell_type": "code",
   "execution_count": null,
   "id": "993c2b5b-00e2-40d3-9cd9-79b09130b535",
   "metadata": {},
   "outputs": [],
   "source": []
  }
 ],
 "metadata": {
  "kernelspec": {
   "display_name": "Python 3 (ipykernel)",
   "language": "python",
   "name": "python3"
  },
  "language_info": {
   "codemirror_mode": {
    "name": "ipython",
    "version": 3
   },
   "file_extension": ".py",
   "mimetype": "text/x-python",
   "name": "python",
   "nbconvert_exporter": "python",
   "pygments_lexer": "ipython3",
   "version": "3.11.8"
  }
 },
 "nbformat": 4,
 "nbformat_minor": 5
}
