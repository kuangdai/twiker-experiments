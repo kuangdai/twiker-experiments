{
 "cells": [
  {
   "cell_type": "markdown",
   "id": "8f001e30-f050-4c4c-9a52-511e9bf51523",
   "metadata": {},
   "source": [
    "# Tokenize full book"
   ]
  },
  {
   "cell_type": "code",
   "id": "2c818cc1-4980-4d95-b05e-576b9db6bd0a",
   "metadata": {
    "ExecuteTime": {
     "end_time": "2024-08-21T08:28:40.233651Z",
     "start_time": "2024-08-21T08:28:38.425001Z"
    }
   },
   "source": [
    "from transformers import GPT2Tokenizer\n",
    "\n",
    "tokenizer = GPT2Tokenizer.from_pretrained('gpt2')"
   ],
   "outputs": [
    {
     "name": "stderr",
     "output_type": "stream",
     "text": [
      "/home/ubuntu/miniconda3/envs/transformers-twiker/lib/python3.8/site-packages/huggingface_hub/file_download.py:1132: FutureWarning: `resume_download` is deprecated and will be removed in version 1.0.0. Downloads always resume when possible. If you want to force a new download, use `force_download=True`.\n",
      "  warnings.warn(\n"
     ]
    }
   ],
   "execution_count": 1
  },
  {
   "cell_type": "code",
   "id": "755204ef-a90d-4ef0-8347-a16c77c2b93f",
   "metadata": {
    "ExecuteTime": {
     "end_time": "2024-08-21T08:28:42.102764Z",
     "start_time": "2024-08-21T08:28:42.096944Z"
    }
   },
   "source": [
    "with open(\"data_files/full.txt\", 'r') as fs:\n",
    "    book_text = fs.read()"
   ],
   "outputs": [],
   "execution_count": 2
  },
  {
   "cell_type": "code",
   "id": "b3253db7-363e-4493-907a-84be589a2dad",
   "metadata": {
    "ExecuteTime": {
     "end_time": "2024-08-21T08:28:45.364918Z",
     "start_time": "2024-08-21T08:28:43.644902Z"
    }
   },
   "source": [
    "import numpy as np\n",
    "\n",
    "book_tokens = np.array(tokenizer.tokenize(book_text))\n",
    "book_ids = np.array(tokenizer.convert_tokens_to_ids(book_tokens))"
   ],
   "outputs": [],
   "execution_count": 3
  },
  {
   "cell_type": "code",
   "id": "180946a4-f547-4605-a4e3-61202ae9df84",
   "metadata": {
    "ExecuteTime": {
     "end_time": "2024-08-21T08:29:38.473988Z",
     "start_time": "2024-08-21T08:29:38.448292Z"
    }
   },
   "source": [
    "# unique\n",
    "book_ids_unique, index, counts = np.unique(book_ids, return_index=True, return_counts=True)\n",
    "book_tokens_unique = book_tokens[index]\n",
    "\n",
    "print(\"Total\", len(book_ids))\n",
    "print(\"Unique\", len(book_ids_unique))"
   ],
   "outputs": [
    {
     "name": "stdout",
     "output_type": "stream",
     "text": [
      "Total 292703\n",
      "Unique 10308\n"
     ]
    }
   ],
   "execution_count": 4
  },
  {
   "cell_type": "markdown",
   "id": "93aca3f0-b857-4303-a9a6-0419e35913b0",
   "metadata": {},
   "source": [
    "# For linguistic analysis, we need to add these properties to `book_ids_unique`:\n",
    "\n",
    "* Counts of appearance: already found above\n",
    "* Class as one of follows: noun, verb, adjective, ..., punctuation, affix, letter, num, other"
   ]
  },
  {
   "cell_type": "code",
   "id": "dbd4d493-a98c-4bc8-9d15-f545d644ad34",
   "metadata": {
    "ExecuteTime": {
     "end_time": "2024-08-21T08:29:43.169752Z",
     "start_time": "2024-08-21T08:29:43.093078Z"
    }
   },
   "source": [
    "def find_non_ascii_characters(input_string):\n",
    "    non_ascii_characters = [char for char in input_string if ord(char) > 127]\n",
    "    return np.unique(non_ascii_characters)\n",
    "\n",
    "# Example usage\n",
    "non_ascii_characters = find_non_ascii_characters(book_text)\n",
    "print(\"Non-ASCII characters:\", non_ascii_characters)"
   ],
   "outputs": [
    {
     "name": "stdout",
     "output_type": "stream",
     "text": [
      "Non-ASCII characters: ['à' 'ä' 'æ' 'ç' 'è' 'é' 'ê' 'î' 'ï' 'ô' 'ö' 'ü' '—' '‘' '’' '“' '”']\n"
     ]
    }
   ],
   "execution_count": 5
  },
  {
   "cell_type": "code",
   "id": "5594b219-45b6-4e4d-81a1-9a646ed22c84",
   "metadata": {
    "ExecuteTime": {
     "end_time": "2024-08-21T08:29:46.370463Z",
     "start_time": "2024-08-21T08:29:44.410354Z"
    }
   },
   "source": [
    "import string\n",
    "import spacy, nltk\n",
    "from nltk.corpus import words\n",
    "\n",
    "# punctuation\n",
    "def is_punctuation(char):\n",
    "    return char in string.punctuation or char in non_ascii_characters\n",
    "\n",
    "# pos of word\n",
    "nlp = spacy.load(\"en_core_web_sm\")\n",
    "def get_pos(word):\n",
    "    doc = nlp(word)\n",
    "    for token in doc:\n",
    "        return token.pos_\n",
    "\n",
    "# common word\n",
    "nltk.download('words')\n",
    "common_words = set(words.words())\n",
    "def common_word(word):\n",
    "    return word.lower() in common_words"
   ],
   "outputs": [
    {
     "name": "stderr",
     "output_type": "stream",
     "text": [
      "[nltk_data] Downloading package words to /home/ubuntu/nltk_data...\n",
      "[nltk_data]   Package words is already up-to-date!\n"
     ]
    }
   ],
   "execution_count": 6
  },
  {
   "cell_type": "code",
   "id": "a2f9c78f-9d13-4b1b-acd9-4e0afc97d7ad",
   "metadata": {
    "ExecuteTime": {
     "end_time": "2024-08-21T08:30:11.703954Z",
     "start_time": "2024-08-21T08:29:54.047636Z"
    }
   },
   "source": [
    "classes = []\n",
    "\n",
    "for tok in book_tokens_unique:\n",
    "    if len(tok) == 1:\n",
    "        if is_punctuation(tok):\n",
    "            classes.append(\"punctuation\")\n",
    "        elif tok.isalpha():\n",
    "            classes.append(\"letter\")\n",
    "        elif tok.isdigit():\n",
    "            classes.append(\"num\")\n",
    "        else:\n",
    "            classes.append(\"other\")\n",
    "        continue\n",
    "    \n",
    "    if tok[0] != \"Ġ\":\n",
    "        classes.append(\"affix\")\n",
    "        continue\n",
    "\n",
    "    tok = tok[1:]\n",
    "    if len(tok) == 1:\n",
    "        if is_punctuation(tok):\n",
    "            classes.append(\"punctuation\")\n",
    "            continue\n",
    "        if tok.isalpha() and tok not in [\"I\", \"a\", \"A\"]:  # here we check single-char words\n",
    "            classes.append(\"letter\")\n",
    "            continue\n",
    "        elif tok.isdigit():\n",
    "            classes.append(\"num\")\n",
    "            continue\n",
    "    if not common_word(tok):\n",
    "        classes.append(\"affix\")\n",
    "        continue\n",
    "    classes.append(get_pos(tok).lower())\n",
    "classes = np.array(classes)"
   ],
   "outputs": [],
   "execution_count": 7
  },
  {
   "cell_type": "code",
   "id": "d31dcf89-f52a-4a40-9816-6c8f382c3388",
   "metadata": {
    "ExecuteTime": {
     "end_time": "2024-08-21T08:30:11.722811Z",
     "start_time": "2024-08-21T08:30:11.708535Z"
    }
   },
   "source": [
    "# let's take a look\n",
    "classes_unique = np.unique(classes)\n",
    "\n",
    "for cls in classes_unique:\n",
    "    print(cls, len(np.where(classes == cls)[0]))\n",
    "    print(book_tokens_unique[classes == cls][:100])\n",
    "    print()"
   ],
   "outputs": [
    {
     "name": "stdout",
     "output_type": "stream",
     "text": [
      "adj 757\n",
      "['Ġpro' 'Ġother' 'Ġnew' 'Ġmany' 'Ġsuch' 'Ġown' 'Ġgood' 'Ġlast' 'ĠNew'\n",
      " 'Ġsame' 'Ġhigh' 'ĠPro' 'Ġgreat' 'Ġreal' 'Ġpublic' 'Ġfew' 'Ġdifferent'\n",
      " 'Ġbig' 'Ġbest' 'Ġlittle' 'Ġtri' 'Ġfull' 'Ġtop' 'Ġmain' 'Ġsmall'\n",
      " 'Ġcurrent' 'Ġold' 'Ġfree' 'Ġable' 'Ġleast' 'Ġlarge' 'Ġimportant' 'Ġclear'\n",
      " 'Ġlight' 'Ġmajor' 'Ġcertain' 'Ġpossible' 'Ġproper' 'Ġshort' 'Ġseveral'\n",
      " 'Ġcomplete' 'Ġyoung' 'Ġlow' 'Ġant' 'Ġstrong' 'Ġsocial' 'Ġparticular'\n",
      " 'Ġpolitical' 'Ġformer' 'Ġkey' 'Ġspecial' 'Ġblack' 'Ġsingle' 'Ġquick'\n",
      " 'Ġtrue' 'Ġbad' 'Ġsimilar' 'Ġprevious' 'Ġwhole' 'Ġcommon' 'Ġdue'\n",
      " 'Ġnational' 'Ġrecent' 'Ġgeneral' 'ĠRed' 'Ġmass' 'Ġthird' 'Ġsignificant'\n",
      " 'Ġdifficult' 'Ġhigher' 'Ġfinal' 'Ġeasy' 'Ġpersonal' 'Ġdead' 'Ġwrong'\n",
      " 'Ġoriginal' 'ĠGerman' 'Ġsoft' 'Ġserious' 'Ġlegal' 'Ġill' 'Ġaverage'\n",
      " 'Ġperfect' 'Ġsimple' 'Ġprivate' 'Ġworth' 'Ġcandid' 'Ġvarious' 'Ġprofess'\n",
      " 'Ġhot' 'Ġcivil' 'Ġeconomic' 'Ġslow' 'Ġfair' 'Ġbroad' 'Ġfinancial'\n",
      " 'Ġsecret' 'Ġforeign' 'Ġregular' 'Ġdark']\n",
      "\n",
      "adp 72\n",
      "['Ġof' 'Ġin' 'Ġon' 'Ġfor' 'Ġwith' 'Ġas' 'Ġat' 'Ġby' 'Ġfrom' 'ĠIn' 'Ġper'\n",
      " 'Ġthan' 'Ġover' 'Ġinto' 'Ġafter' 'Ġunder' 'ĠRe' 'Ġthrough' 'Ġbefore'\n",
      " 'Ġbetween' 'Ġagainst' 'ĠAs' 'ĠFor' 'Ġduring' 'Ġwithout' 'Ġnear' 'ĠOn'\n",
      " 'Ġuntil' 'Ġwithin' 'ĠAt' 'Ġes' 'Ġalong' 'Ġamong' 'Ġacross' 'Ġabove'\n",
      " 'ĠWith' 'Ġbehind' 'Ġbelow' 'ĠAfter' 'ĠPer' 'Ġinside' 'ĠBy' 'ĠOf'\n",
      " 'Ġtowards' 'ĠFrom' 'Ġbeyond' 'Ġthroughout' 'ĠOver' 'ĠLike' 'ĠUnder'\n",
      " 'Ġunlike' 'ĠDuring' 'Ġast' 'ĠBefore' 'ĠWithout' 'ĠThrough' 'ĠAmong'\n",
      " 'Ġamid' 'Ġbeneath' 'Ġamongst' 'Ġna' 'Ġunto' 'ĠAgainst' 'Ġbeside'\n",
      " 'Ġnearest' 'ĠNear' 'ĠBehind' 'ĠAbove' 'Ġclown' 'Ġamidst' 'Ġgown'\n",
      " 'ĠTowards']\n",
      "\n",
      "adv 474\n",
      "['Ġout' 'Ġup' 'Ġmore' 'Ġso' 'Ġabout' 'Ġen' 'Ġoff' 'Ġthere' 'Ġalso' 'Ġjust'\n",
      " 'Ġonly' 'Ġfirst' 'Ġback' 'Ġmost' 'Ġagain' 'Ġeven' 'Ġnow' 'Ġthen' 'Ġass'\n",
      " 'Ġvery' 'Ġdown' 'Ġmuch' 'Ġlong' 'Ġstill' 'Ġhere' 'Ġaround' 'Ġreally'\n",
      " 'Ġtoo' 'Ġsecond' 'Ġnever' 'Ġfar' 'Ġnext' 'ĠThere' 'Ġhard' 'Ġless'\n",
      " 'Ġbetter' 'ĠSo' 'Ġalways' 'Ġaway' 'Ġalready' 'Ġlater' 'Ġenough' 'Ġsure'\n",
      " 'Ġactually' 'Ġever' 'Ġoften' 'Ġonce' 'Ġyet' 'Ġlikely' 'Ġearly'\n",
      " 'Ġtogether' 'Ġeither' 'Ġalmost' 'Ġelse' 'Ġago' 'ĠHowever' 'Ġrather'\n",
      " 'Ġhowever' 'Ġprobably' 'Ġfurther' 'Ġmatter' 'ĠJust' 'Ġoutside' 'Ġsimply'\n",
      " 'Ġlonger' 'Ġquite' 'Ġinstead' 'Ġpretty' 'Ġsoon' 'Ġespecially' 'Ġforward'\n",
      " 'ĠNow' 'Ġlate' 'Ġdeep' 'Ġlower' 'Ġround' 'Ġrecently' 'Ġquickly' 'Ġnearly'\n",
      " 'Ġwide' 'ĠMore' 'Ġcompletely' 'Ġusually' 'ĠThen' 'Ġdirectly' 'ĠFirst'\n",
      " 'Ġsometimes' 'Ġimmediately' 'ĠEven' 'ĠHere' 'Ġalone' 'Ġfinally'\n",
      " 'Ġexactly' 'Ġeasily' 'Ġparticularly' 'Ġcertainly' 'Ġperhaps' 'ĠOut'\n",
      " 'Ġmaybe' 'Ġstraight']\n",
      "\n",
      "affix 4677\n",
      "['he' 'in' 're' 'on' 'er' 'at' 'en' 'it' 'is' 'an' 'or' 'es' 'ed' 'ing'\n",
      " 'ou' 'al' 'ar' 'ic' 'as' 'le' 'ion' 'om' 'll' 'ent' 'st' 've' 'ro' 'ly'\n",
      " 'id' 'ot' 'ut' 'et' 'im' 'am' 'ow' 'ay' 'ad' 'se' 'ig' 'ac' 'ver' 'ur'\n",
      " 'ation' 'ith' 'ir' 'ce' 'il' 'Ġwh' 'ol' 'ter' 'ch' 'ill' 'if' 'ag' 'ers'\n",
      " 'ke' 'em' 'her' 'od' 'ul' 'ate' 'ri' 'pp' 'ore' 'us' 'um' 'ain' 'and'\n",
      " 'est' 'ist' 'ab' 'th' 'Ġcom' 'un' 'op' 'ess' 'res' 'ew' 'ity' 'ant' 'el'\n",
      " 'os' 'ort' 'oc' 'qu' 'Ġsu' 'ive' 'ra' 'pe' 'ight' 'art' 'ment' 'ust'\n",
      " 'end' 'all' 'ack' 'Ġch' 'Ġle' 'ies' 'red']\n",
      "\n",
      "aux 33\n",
      "['Ġbe' 'Ġis' 'Ġwas' 'Ġare' 'Ġcan' 'Ġwill' 'Ġwere' 'Ġwould' 'Ġbeen'\n",
      " 'Ġcould' 'Ġam' 'Ġmay' 'Ġshould' 'Ġbeing' 'ĠIs' 'Ġmight' 'Ġca' 'Ġmust'\n",
      " 'ĠBe' 'ĠCan' 'ĠAm' 'ĠMay' 'Ġshall' 'Ġcannot' 'ĠWill' 'ĠAre' 'ĠWas'\n",
      " 'ĠCould' 'ĠShould' 'Ġought' 'ĠWould' 'ĠWere' 'Ġwo']\n",
      "\n",
      "cconj 11\n",
      "['Ġand' 'Ġor' 'Ġbut' 'ĠAnd' 'ĠBut' 'ĠOr' 'Ġrat' 'Ġnor' 'ĠAND' 'ĠNor'\n",
      " 'Ġneither']\n",
      "\n",
      "det 1\n",
      "['Ġwhose']\n",
      "\n",
      "intj 35\n",
      "['Ġha' 'ĠSt' 'Ġlike' 'Ġno' 'Ġpo' 'Ġright' 'Ġwell' 'Ġmon' 'ĠNo' 'Ġwa' 'Ġaw'\n",
      " 'ĠYes' 'Ġplease' 'Ġyes' 'ĠWell' 'ĠOh' 'ĠPlease' 'ĠMat' 'Ġtur' 'ĠAh' 'Ġla'\n",
      " 'ĠHa' 'Ġoh' 'ĠHey' 'ĠHi' 'Ġhey' 'Ġgoodness' 'Ġah' 'ĠEh' 'ĠDag' 'Ġeh'\n",
      " 'Ġfarewell' 'ĠDamn' 'Ġmockery' 'Ġalas']\n",
      "\n",
      "letter 101\n",
      "['A' 'B' 'C' 'D' 'E' 'F' 'G' 'H' 'I' 'K' 'L' 'M' 'N' 'O' 'P' 'R' 'S' 'T'\n",
      " 'U' 'V' 'W' 'Y' 'Z' 'a' 'b' 'c' 'd' 'e' 'f' 'g' 'h' 'i' 'j' 'k' 'l' 'm'\n",
      " 'n' 'o' 'p' 'q' 'r' 's' 't' 'u' 'v' 'w' 'x' 'y' 'z' 'Ċ' 'Ġ' 'ĺ' 'Ļ' 'ľ'\n",
      " 'Ŀ' 'Ġt' 'Ġs' 'Ġw' 'Ġo' 'Ġc' 'Ġb' 'Ġf' 'Ġp' 'Ġm' 'Ġd' 'Ġh' 'Ġn' 'Ġl' 'Ġe'\n",
      " 'Ġg' 'ĠT' 'ĠS' 'ĠC' 'Ġy' 'Ġu' 'ĠM' 'ĠB' 'ĠP' 'ĠD' 'ĠH' 'ĠW' 'ĠR' 'Ġr'\n",
      " 'ĠF' 'ĠN' 'ĠG' 'ĠL' 'Ġv' 'ĠE' 'ĠO' 'ĠJ' 'ĠU' 'Ġj' 'Ġk' 'ĠK' 'ĠV' 'ĠY'\n",
      " 'ĠZ' 'ĠX' 'Ġz']\n",
      "\n",
      "noun 1918\n",
      "['Ġex' 'Ġad' 'Ġman' 'Ġyear' 'Ġpart' 'Ġtime' 'Ġpeople' 'Ġwork' 'Ġway'\n",
      " 'Ġend' 'ĠSh' 'Ġmin' 'Ġgame' 'Ġreport' 'Ġworld' 'Ġspec' 'Ġear' 'Ġperson'\n",
      " 'Ġser' 'Ġsystem' 'Ġcar' 'Ġlaw' 'Ġsupport' 'Ġfact' 'Ġday' 'Ġwar' 'Ġpower'\n",
      " 'Ġstate' 'Ġhead' 'Ġchild' 'Ġlife' 'Ġdisc' 'Ġmonth' 'Ġgovernment' 'Ġleg'\n",
      " 'Ġlevel' 'Ġart' 'Ġeffect' 'Ġcent' 'Ġlot' 'Ġfun' 'Ġnumber' 'Ġpost' 'Ġweek'\n",
      " 'Ġplace' 'Ġmark' 'Ġinformation' 'Ġbus' 'Ġtest' 'Ġrest' 'Ġcase' 'Ġlist'\n",
      " 'Ġhome' 'Ġdata' 'Ġinterest' 'Ġclass' 'Ġplan' 'Ġpercent' 'Ġprocess'\n",
      " 'Ġname' 'Ġgroup' 'Ġmen' 'Ġcap' 'ĠCon' 'Ġbook' 'Ġcountry' 'Ġorder'\n",
      " 'Ġthing' 'Ġschool' 'Ġdays' 'Ġhealth' 'Ġsol' 'Ġfriend' 'Ġview' 'Ġword'\n",
      " 'Ġpar' 'Ġbusiness' 'Ġpast' 'Ġdev' 'Ġstory' 'Ġline' 'Ġproject' 'Ġcontrol'\n",
      " 'Ġair' 'Ġmoney' 'Ġfamily' 'Ġbit' 'Ġpolice' 'Ġwater' 'Ġtimes' 'Ġcompany'\n",
      " 'Ġexample' 'Ġfore' 'Ġjob' 'Ġnews' 'Ġhour' 'Ġsex' 'Ġproduct' 'Ġnon'\n",
      " 'Ġdeal']\n",
      "\n",
      "num 41\n",
      "['Ġ3' 'Ġone' 'Ġ5' 'Ġtwo' 'Ġ8' 'Ġ9' 'Ġthree' 'Ġfour' 'Ġmillion' 'ĠOne'\n",
      " 'Ġfive' 'Ġsix' 'Ġhundred' 'Ġten' 'Ġseven' 'Ġeight' 'ĠTwo' 'Ġnine'\n",
      " 'Ġthousand' 'ĠThree' 'Ġtwenty' 'ĠTen' 'ĠSix' 'ĠFive' 'Ġthirty' 'ĠSeven'\n",
      " 'Ġtwelve' 'Ġfifty' 'Ġforty' 'Ġfifteen' 'Ġeleven' 'Ġsixty' 'Ġsixteen'\n",
      " 'Ġthirteen' 'Ġeighteen' 'Ġfourteen' 'Ġseventy' 'Ġtreacher' 'Ġeighty'\n",
      " 'Ġninety' 'Ġnineteen']\n",
      "\n",
      "other 1\n",
      "['¦']\n",
      "\n",
      "part 4\n",
      "['Ġto' 'Ġnot' 'ĠTo' 'ĠNot']\n",
      "\n",
      "pron 107\n",
      "['Ġa' 'Ġthe' 'Ġan' 'ĠI' 'ĠA' 'Ġthat' 'Ġhe' 'Ġit' 'Ġyou' 'Ġwe' 'ĠThe' 'Ġsh'\n",
      " 'Ġthis' 'Ġhis' 'Ġall' 'Ġthey' 'Ġme' 'Ġwho' 'Ġtheir' 'Ġus' 'Ġyour'\n",
      " 'Ġwhich' 'Ġany' 'Ġthem' 'Ġher' 'Ġmy' 'Ġsome' 'ĠIt' 'Ġwhat' 'Ġits' 'Ġshe'\n",
      " 'Ġour' 'ĠHe' 'Ġhim' 'ĠThis' 'ĠWe' 'Ġthese' 'Ġevery' 'Ġem' 'Ġthose' 'ĠYou'\n",
      " 'ĠAn' 'Ġboth' 'ĠThey' 'Ġeach' 'Ġanother' 'Ġsomething' 'ĠThat' 'ĠShe'\n",
      " 'ĠAll' 'ĠWhat' 'Ġanything' 'ĠMy' 'Ġsomeone' 'Ġnothing' 'ĠMe' 'Ġhimself'\n",
      " 'Ġeverything' 'ĠThese' 'ĠHer' 'Ġitself' 'ĠHis' 'Ġthemselves' 'Ġeveryone'\n",
      " 'Ġanyone' 'ĠSome' 'ĠYour' 'Ġyourself' 'Ġmyself' 'ĠEvery' 'ĠOur' 'Ġwhom'\n",
      " 'Ġwhatever' 'ĠAny' 'Ġherself' 'ĠTheir' 'ĠWho' 'ĠEach' 'ĠBoth' 'ĠThose'\n",
      " 'ĠAnother' 'Ġmine' 'Ġourselves' 'Ġeverybody' 'Ġnobody' 'Ġsomebody'\n",
      " 'ĠWhich' 'Ġanybody' 'ĠNothing' 'ĠHim' 'ĠEveryone' 'ĠEverything'\n",
      " 'ĠSomething' 'ĠNobody' 'ĠWhatever' 'ĠNeither' 'Ġwhoever' 'ĠAnyone'\n",
      " 'ĠSomeone' 'ĠAnything']\n",
      "\n",
      "propn 309\n",
      "['Ġst' 'Ġcon' 'Ġse' 'Ġal' 'Ġsa' 'Ġun' 'Ġte' 'Ġdis' 'Ġrel' 'Ġdon' 'Ġreg'\n",
      " 'Ġbel' 'Ġstud' 'Ġfin' 'Ġsur' 'Ġret' 'Ġref' 'Ġcur' 'Ġche' 'Ġrep' 'Ġchar'\n",
      " 'Ġel' 'Ġpur' 'Ġhum' 'Ġmil' 'ĠEx' 'Ġbo' 'ĠMar' 'Ġprof' 'ĠUnited' 'Ġbas'\n",
      " 'Ġmar' 'Ġhuman' 'ĠGod' 'ĠDon' 'ĠHouse' 'Ġmor' 'ĠPol' 'Ġra' 'Ġred'\n",
      " 'Ġwhite' 'Ġlo' 'Ġgen' 'Ġrad' 'ĠPar' 'ĠChe' 'Ġdiv' 'ĠJune' 'Ġpict' 'Ġboy'\n",
      " 'Ġfather' 'Ġlat' 'Ġbox' 'Ġprep' 'ĠPal' 'ĠPark' 'ĠRussia' 'Ġreb' 'Ġinn'\n",
      " 'ĠJack' 'ĠDark' 'ĠSenate' 'Ġrob' 'Ġcry' 'Ġjournal' 'Ġsun' 'Ġspirit'\n",
      " 'ĠLord' 'ĠMiss' 'Ġstreet' 'Ġid' 'Ġstring' 'Ġbutton' 'ĠId' 'ĠLin' 'ĠDam'\n",
      " 'ĠRad' 'ĠMary' 'Ġing' 'Ġbon' 'Ġdim' 'Ġalcohol' 'Ġgay' 'Ġvan' 'Ġmir'\n",
      " 'Ġgod' 'Ġsam' 'Ġcloud' 'ĠSon' 'Ġmal' 'ĠReview' 'ĠLo' 'Ġpin' 'Ġassert'\n",
      " 'ĠPot' 'Ġbuff' 'Ġmo' 'Ġjourney' 'Ġconfront' 'ĠHoly']\n",
      "\n",
      "punctuation 14\n",
      "['!' '(' ')' '*' ',' '-' '.' ':' ';' '?' '[' ']' 'Ġ(' 'Ġ)']\n",
      "\n",
      "sconj 34\n",
      "['Ġif' 'Ġwhen' 'Ġhow' 'Ġbecause' 'Ġwhere' 'Ġwhile' 'Ġthough' 'ĠIf'\n",
      " 'Ġsince' 'ĠHow' 'Ġwhy' 'ĠWhen' 'Ġwhether' 'Ġupon' 'Ġexcept' 'ĠWhile'\n",
      " 'Ġalthough' 'ĠWhy' 'ĠBecause' 'Ġunless' 'ĠSince' 'ĠAlthough' 'ĠWhere'\n",
      " 'ĠThough' 'Ġwhenever' 'ĠWhether' 'Ġtill' 'Ġbesides' 'ĠUpon' 'Ġwherever'\n",
      " 'Ġwhilst' 'ĠBesides' 'ĠTill' 'ĠExcept']\n",
      "\n",
      "verb 1714\n",
      "['Ġth' 'Ġre' 'Ġhave' 'Ġdo' 'Ġgo' 'Ġsaid' 'Ġhad' 'Ġar' 'Ġget' 'Ġplay'\n",
      " 'Ġact' 'Ġbet' 'Ġdid' 'Ġadd' 'Ġknow' 'Ġneed' 'Ġwant' 'Ġsee' 'Ġuse' 'Ġmake'\n",
      " 'Ġlook' 'Ġbu' 'Ġimp' 'Ġsub' 'Ġdoes' 'Ġcall' 'Ġthink' 'Ġset' 'Ġshow'\n",
      " 'Ġsay' 'Ġstart' 'Ġmade' 'Ġcount' 'Ġpoint' 'Ġused' 'Ġinter' 'Ġtake'\n",
      " 'Ġgoing' 'Ġhand' 'Ġhelp' 'Ġfound' 'Ġsign' 'Ġrun' 'Ġfollow' 'Ġfind'\n",
      " 'Ġlead' 'Ġgovern' 'Ġread' 'Ġmet' 'Ġpass' 'Ġturn' 'Ġput' 'Ġallow' 'Ġfeel'\n",
      " 'Ġresult' 'Ġask' 'Ġdirect' 'Ġopen' 'Ġcome' 'Ġseem' 'Ġform' 'Ġtold'\n",
      " 'Ġstand' 'Ġlet' 'Ġcare' 'Ġleft' 'Ġattack' 'Ġbuild' 'Ġgot' 'Ġkeep' 'Ġpay'\n",
      " 'Ġreturn' 'Ġmove' 'Ġpat' 'Ġdesign' 'Ġchange' 'Ġkill' 'ĠGo' 'Ġtell'\n",
      " 'Ġtalk' 'Ġcost' 'Ġgive' 'Ġwin' 'Ġexpect' 'Ġkind' 'Ġmean' 'Ġorgan'\n",
      " 'Ġperform' 'Ġclaim' 'Ġcame' 'Ġmaking' 'Ġhappen' 'Ġsit' 'Ġappear' 'Ġgrow'\n",
      " 'Ġsing' 'Ġfollowing' 'Ġbecome' 'Ġtook' 'Ġelect']\n",
      "\n",
      "x 5\n",
      "['Ġde' 'Ġfe' 'Ġvis' 'Ġsuper' 'Ġseventeen']\n",
      "\n"
     ]
    }
   ],
   "execution_count": 8
  },
  {
   "cell_type": "code",
   "id": "f254d387-fc57-4178-8590-8cfdc7c8f7a9",
   "metadata": {
    "ExecuteTime": {
     "end_time": "2024-08-21T08:30:31.696090Z",
     "start_time": "2024-08-21T08:30:31.687796Z"
    }
   },
   "source": [
    "# this looks reasonable, but classes are too many\n",
    "# so we select the most meaningful ones\n",
    "super_classes = [\"adj\", \"adp\", \"adv\", \"aux\", \"verb\", \"cconj\", \"noun\", \"pron\", \"sconj\", \"verb\"]\n",
    "\n",
    "# show some stats\n",
    "class_counts_unique = []\n",
    "class_counts_total = []\n",
    "\n",
    "for cls in super_classes:\n",
    "    idx = np.where(classes == cls)[0]\n",
    "    class_counts_unique.append(len(idx))\n",
    "    class_counts_total.append(counts[idx].sum())"
   ],
   "outputs": [],
   "execution_count": 9
  },
  {
   "cell_type": "code",
   "id": "5e29db13-e1c7-4c8d-97f3-bf0520c4fc35",
   "metadata": {
    "ExecuteTime": {
     "end_time": "2024-08-21T08:30:34.723766Z",
     "start_time": "2024-08-21T08:30:33.884044Z"
    }
   },
   "source": [
    "import matplotlib.pyplot as plt\n",
    "\n",
    "fig, ax = plt.subplots(1, 2, figsize=(15, 3))\n",
    "ax[0].bar(super_classes, class_counts_unique)\n",
    "ax[0].set_title(\"Unique count\")\n",
    "ax[1].bar(super_classes, class_counts_total)\n",
    "ax[1].set_title(\"Total count\")\n",
    "plt.show()"
   ],
   "outputs": [
    {
     "data": {
      "text/plain": [
       "<Figure size 1500x300 with 2 Axes>"
      ],
      "image/png": "[encoded data removed]"
     },
     "metadata": {},
     "output_type": "display_data"
    }
   ],
   "execution_count": 10
  },
  {
   "cell_type": "markdown",
   "id": "ce2ae069-5266-4414-8a22-4b9f2ff80e16",
   "metadata": {},
   "source": [
    "# Summary"
   ]
  },
  {
   "cell_type": "code",
   "id": "bf88415c-53c0-4fbb-b80c-c0ddfaac5648",
   "metadata": {
    "ExecuteTime": {
     "end_time": "2024-08-21T08:30:38.831533Z",
     "start_time": "2024-08-21T08:30:38.825819Z"
    }
   },
   "source": [
    "# use `book_ids_unique` to retrieve kernels from trained model\n",
    "print(len(book_ids_unique), book_ids_unique)\n",
    "\n",
    "# use `book_tokens_unique` to see word\n",
    "print(len(book_tokens_unique), book_tokens_unique)\n",
    "\n",
    "# use `counts` to filter out low-frequency tokens\n",
    "print(len(counts), counts)\n",
    "\n",
    "# use `classes` to find the type of words\n",
    "print(len(classes), classes)"
   ],
   "outputs": [
    {
     "name": "stdout",
     "output_type": "stream",
     "text": [
      "10308 [    0     7     8 ... 50234 50251 50255]\n",
      "10308 ['!' '(' ')' ... 'Ġgazing' 'ominated' 'Ġgazed']\n",
      "10308 [2352    2   49 ...   19    1   43]\n",
      "10308 ['punctuation' 'punctuation' 'punctuation' ... 'verb' 'affix' 'affix']\n"
     ]
    }
   ],
   "execution_count": 11
  },
  {
   "cell_type": "markdown",
   "id": "7d993ec3",
   "metadata": {},
   "source": [
    "# Analysis"
   ]
  },
  {
   "cell_type": "code",
   "id": "33fee929",
   "metadata": {
    "ExecuteTime": {
     "end_time": "2024-08-21T08:30:43.439907Z",
     "start_time": "2024-08-21T08:30:42.720721Z"
    }
   },
   "source": [
    "import torch\n",
    "from transformers import GPT2LMHeadModel\n",
    "import json"
   ],
   "outputs": [],
   "execution_count": 12
  },
  {
   "cell_type": "code",
   "id": "60fb3836-2cda-48e6-9f7b-a4afc216afec",
   "metadata": {
    "ExecuteTime": {
     "end_time": "2024-08-21T08:30:49.140347Z",
     "start_time": "2024-08-21T08:30:49.135163Z"
    }
   },
   "source": [
    "# Specify the path to the checkpoint file\n",
    "checkpoint_path = '../../results/gpt2/CRIMEandPUNISHMENT/train_twiker'\n",
    "\n",
    "# Specify key or value\n",
    "analyze_value = True"
   ],
   "outputs": [],
   "execution_count": 13
  },
  {
   "cell_type": "code",
   "id": "8caafb32",
   "metadata": {
    "ExecuteTime": {
     "end_time": "2024-08-21T08:30:52.933033Z",
     "start_time": "2024-08-21T08:30:50.610768Z"
    }
   },
   "source": [
    "# load config\n",
    "with open(f'{checkpoint_path}/config.json', 'r') as file:\n",
    "    config = json.load(file)\n",
    "\n",
    "# Load the model with the checkpoint\n",
    "model = GPT2LMHeadModel.from_pretrained(checkpoint_path)\n",
    "\n",
    "# weight\n",
    "embedding_weights = model.transformer.twiker_model.embedding.weight.detach()\n",
    "\n",
    "# reshape\n",
    "n_head = 1 if config[\"twiker_head_invariant\"] else config[\"n_head\"]\n",
    "n_layer = 1 if config[\"twiker_layer_invariant\"] or config[\"twiker_only_first_layer\"] else config[\"n_layer\"]\n",
    "embedding_weights = embedding_weights.reshape(-1, n_layer, 2, n_head, config[\"twiker_kernel_size\"])\n",
    "\n",
    "# soft max\n",
    "embedding_weights = torch.softmax(embedding_weights / 0.4, dim=-1)\n",
    "\n",
    "# mean over head and layer\n",
    "embedding_weights = embedding_weights.mean(dim=1).mean(dim=2)\n",
    "\n",
    "# extract for book\n",
    "embedding_weights = embedding_weights[book_ids_unique]\n",
    "\n",
    "# extract for value\n",
    "wv = embedding_weights[:, 1, :] if analyze_value else embedding_weights[:, 0, :]\n",
    "print(wv.shape)"
   ],
   "outputs": [
    {
     "name": "stdout",
     "output_type": "stream",
     "text": [
      "torch.Size([10308, 3])\n"
     ]
    }
   ],
   "execution_count": 14
  },
  {
   "cell_type": "code",
   "id": "5deab9ee",
   "metadata": {
    "ExecuteTime": {
     "end_time": "2024-08-21T08:30:53.961403Z",
     "start_time": "2024-08-21T08:30:53.955989Z"
    }
   },
   "source": [
    "# compute distance\n",
    "t010 = torch.zeros(config[\"twiker_kernel_size\"])\n",
    "t010[config[\"twiker_kernel_size\"] // 2] = 1.\n",
    "dist010 = torch.norm(wv - t010, dim=1)"
   ],
   "outputs": [],
   "execution_count": 15
  },
  {
   "cell_type": "markdown",
   "id": "94fdadf2-e415-4a5b-b195-409151ef4242",
   "metadata": {},
   "source": [
    "### Filter by `counts`"
   ]
  },
  {
   "cell_type": "code",
   "id": "01308049-d4f6-4f1c-80d5-a91d94dc432e",
   "metadata": {
    "ExecuteTime": {
     "end_time": "2024-08-21T08:30:56.469960Z",
     "start_time": "2024-08-21T08:30:56.446565Z"
    }
   },
   "source": [
    "filter = counts >= 5\n",
    "\n",
    "book_ids_counts = book_ids_unique[filter]\n",
    "book_tokens_counts = book_tokens_unique[filter]\n",
    "classes_counts = classes[filter]\n",
    "dist010_counts = dist010[filter]\n",
    "\n",
    "print(len(dist010_counts))"
   ],
   "outputs": [
    {
     "name": "stdout",
     "output_type": "stream",
     "text": [
      "3850\n"
     ]
    }
   ],
   "execution_count": 16
  },
  {
   "cell_type": "code",
   "id": "4c466e98-004e-43aa-b428-cdb2b7979d77",
   "metadata": {
    "ExecuteTime": {
     "end_time": "2024-08-21T08:30:57.679990Z",
     "start_time": "2024-08-21T08:30:57.662825Z"
    }
   },
   "source": [
    "# statistics on all\n",
    "\n",
    "argsort = torch.argsort(dist010_counts, descending=True)\n",
    "book_tokens_counts[argsort[:100]]"
   ],
   "outputs": [
    {
     "data": {
      "text/plain": [
       "array([',', 'âĢ', 'Ġand', '.', 'Ġthe', 'Ġa', 'Ġto', 'ĠI', 'Ġin', 'Ġthat',\n",
       "       'Ġof', 'Ġwas', 'Ġit', 'Ġhe', '?', 'Ġat', 'Ġnot', 'Ġbut', 'Ġyou',\n",
       "       'Ġhis', 'Ġwhat', 'ask', 'ľ', 'ĠD', 'Ġtoo', 'Ġrou', 'ĠHe', 'Ġshall',\n",
       "       'Ġso', 'Ġher', 'Ġbegan', 'oln', 'Ġfor', 'Ġsuddenly', 'ĠâĢ', 'ĠPul',\n",
       "       'Ġmy', '-', 't', 'Ġqueer', 'Ġknow', 'Ġhad', 'And', 'Ġvery',\n",
       "       'Ġsudden', 'Ġround', 'Ġis', 'Ġdid', 'Ġsimply', 'Ġoff', 'You', ';',\n",
       "       'Ġlaughing', 've', 'Ġsuch', 'Ġturned', 'Ġlooked', 'bles', 'Ġhim',\n",
       "       'Ġinqu', 'Ġstill', 'Ġjust', 'Ġas', 'Ġold', 'Ġangry', 'Ġlittle',\n",
       "       'Ġhaste', 'Ŀ', 'Ġbe', 'Ġalways', 'Ġonly', 'ĠLiz', 'Ġsome', 'ĺ',\n",
       "       'Ġthey', 'Ġclothes', 'Ġfever', 'Ġcould', 'Ġhead', 'Ġtwo', 'Ġother',\n",
       "       'Ġgloomy', 'ĠPas', 'um', '!', 'nat', 'ĠThe', 'Ġviolent', 'Ġminute',\n",
       "       'Ġno', 'ĠPav', 'Ġpainting', 'Ġheard', 'Ġlistened', 'Ġstrange',\n",
       "       'Ġutterly', 'ĠRaz', 'Ġclumsy', 'Ġhum', 'Ġshameful'], dtype='<U19')"
      ]
     },
     "execution_count": 17,
     "metadata": {},
     "output_type": "execute_result"
    }
   ],
   "execution_count": 17
  },
  {
   "cell_type": "markdown",
   "id": "2613a89d-c846-434f-9f4e-40b2e97aa66b",
   "metadata": {},
   "source": [
    "### Filter by `class`"
   ]
  },
  {
   "cell_type": "code",
   "id": "37fc7fec-5114-402a-9f2e-a813a9d25d60",
   "metadata": {
    "ExecuteTime": {
     "end_time": "2024-08-21T08:30:59.804156Z",
     "start_time": "2024-08-21T08:30:59.797403Z"
    }
   },
   "source": [
    "# statistics on role\n",
    "\n",
    "cls_mean = []\n",
    "for cls in super_classes:\n",
    "    filter = (classes_counts == cls)\n",
    "    book_ids_cls = book_ids_counts[filter]\n",
    "    book_tokens_cls = book_tokens_counts[filter]\n",
    "    dist010_cls = dist010_counts[filter]\n",
    "    mean = dist010_cls.mean()\n",
    "    cls_mean.append(mean)"
   ],
   "outputs": [],
   "execution_count": 18
  },
  {
   "cell_type": "code",
   "id": "71d605ce-f5d6-4d2b-85e3-a2b3aae2fceb",
   "metadata": {
    "ExecuteTime": {
     "end_time": "2024-08-21T08:31:01.071638Z",
     "start_time": "2024-08-21T08:31:00.935367Z"
    }
   },
   "source": [
    "plt.bar(super_classes, cls_mean)\n"
   ],
   "outputs": [
    {
     "data": {
      "text/plain": [
       "<BarContainer object of 10 artists>"
      ]
     },
     "execution_count": 19,
     "metadata": {},
     "output_type": "execute_result"
    },
    {
     "data": {
      "text/plain": [
       "<Figure size 640x480 with 1 Axes>"
      ],
      "image/png": "[encoded data removed]"
     },
     "metadata": {},
     "output_type": "display_data"
    }
   ],
   "execution_count": 19
  },
  {
   "cell_type": "code",
   "execution_count": null,
   "id": "e6a408a4-cb84-4deb-9262-b52e35364502",
   "metadata": {},
   "outputs": [],
   "source": []
  },
  {
   "cell_type": "code",
   "execution_count": null,
   "id": "993c2b5b-00e2-40d3-9cd9-79b09130b535",
   "metadata": {},
   "outputs": [],
   "source": []
  }
 ],
 "metadata": {
  "kernelspec": {
   "display_name": "Python 3 (ipykernel)",
   "language": "python",
   "name": "python3"
  },
  "language_info": {
   "codemirror_mode": {
    "name": "ipython",
    "version": 3
   },
   "file_extension": ".py",
   "mimetype": "text/x-python",
   "name": "python",
   "nbconvert_exporter": "python",
   "pygments_lexer": "ipython3",
   "version": "3.11.8"
  }
 },
 "nbformat": 4,
 "nbformat_minor": 5
}
