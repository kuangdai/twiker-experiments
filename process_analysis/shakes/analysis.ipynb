{
 "cells": [
  {
   "cell_type": "markdown",
   "id": "8f001e30-f050-4c4c-9a52-511e9bf51523",
   "metadata": {},
   "source": [
    "# Tokenize full book"
   ]
  },
  {
   "cell_type": "code",
   "id": "2c818cc1-4980-4d95-b05e-576b9db6bd0a",
   "metadata": {
    "ExecuteTime": {
     "end_time": "2024-08-12T13:36:55.902947Z",
     "start_time": "2024-08-12T13:36:55.666314Z"
    }
   },
   "source": [
    "from transformers import GPT2Tokenizer\n",
    "\n",
    "tokenizer = GPT2Tokenizer.from_pretrained('gpt2')"
   ],
   "outputs": [
    {
     "name": "stderr",
     "output_type": "stream",
     "text": [
      "/home/ubuntu/miniconda3/envs/transformers-twiker/lib/python3.8/site-packages/huggingface_hub/file_download.py:1132: FutureWarning: `resume_download` is deprecated and will be removed in version 1.0.0. Downloads always resume when possible. If you want to force a new download, use `force_download=True`.\n",
      "  warnings.warn(\n"
     ]
    }
   ],
   "execution_count": 20
  },
  {
   "cell_type": "code",
   "id": "755204ef-a90d-4ef0-8347-a16c77c2b93f",
   "metadata": {
    "ExecuteTime": {
     "end_time": "2024-08-12T13:36:56.955144Z",
     "start_time": "2024-08-12T13:36:56.949682Z"
    }
   },
   "source": [
    "with open(\"/home/ubuntu/Downloads/twiker-experiments/process_analysis/shakes/data_files/full.txt\", 'r') as fs:\n",
    "    book_text = fs.read()"
   ],
   "outputs": [],
   "execution_count": 21
  },
  {
   "cell_type": "code",
   "id": "b3253db7-363e-4493-907a-84be589a2dad",
   "metadata": {
    "ExecuteTime": {
     "end_time": "2024-08-12T13:38:16.056092Z",
     "start_time": "2024-08-12T13:38:13.937553Z"
    }
   },
   "source": [
    "import numpy as np\n",
    "\n",
    "book_tokens = np.array(tokenizer.tokenize(book_text))\n",
    "book_ids = np.array(tokenizer.convert_tokens_to_ids(book_tokens))"
   ],
   "outputs": [],
   "execution_count": 28
  },
  {
   "cell_type": "code",
   "id": "180946a4-f547-4605-a4e3-61202ae9df84",
   "metadata": {
    "ExecuteTime": {
     "end_time": "2024-08-12T13:38:17.236978Z",
     "start_time": "2024-08-12T13:38:17.197435Z"
    }
   },
   "source": [
    "# unique\n",
    "book_ids_unique, index, counts = np.unique(book_ids, return_index=True, return_counts=True)\n",
    "book_tokens_unique = book_tokens[index]\n",
    "\n",
    "print(\"Total\", len(book_ids))\n",
    "print(\"Unique\", len(book_ids_unique))"
   ],
   "outputs": [
    {
     "name": "stdout",
     "output_type": "stream",
     "text": [
      "Total 466222\n",
      "Unique 13889\n"
     ]
    }
   ],
   "execution_count": 29
  },
  {
   "cell_type": "markdown",
   "id": "93aca3f0-b857-4303-a9a6-0419e35913b0",
   "metadata": {},
   "source": [
    "# For linguistic analysis, we need to add these properties to `book_ids_unique`:\n",
    "\n",
    "* Counts of appearance: already found above\n",
    "* Class as one of follows: noun, verb, adjective, ..., punctuation, affix, letter, num, other"
   ]
  },
  {
   "cell_type": "code",
   "id": "dbd4d493-a98c-4bc8-9d15-f545d644ad34",
   "metadata": {
    "ExecuteTime": {
     "end_time": "2024-08-12T13:38:19.249013Z",
     "start_time": "2024-08-12T13:38:19.132654Z"
    }
   },
   "source": [
    "def find_non_ascii_characters(input_string):\n",
    "    non_ascii_characters = [char for char in input_string if ord(char) > 127]\n",
    "    return np.unique(non_ascii_characters)\n",
    "\n",
    "# Example usage\n",
    "non_ascii_characters = find_non_ascii_characters(book_text)\n",
    "print(\"Non-ASCII characters:\", non_ascii_characters)"
   ],
   "outputs": [
    {
     "name": "stdout",
     "output_type": "stream",
     "text": [
      "Non-ASCII characters: []\n"
     ]
    }
   ],
   "execution_count": 30
  },
  {
   "cell_type": "code",
   "id": "5594b219-45b6-4e4d-81a1-9a646ed22c84",
   "metadata": {
    "ExecuteTime": {
     "end_time": "2024-08-12T13:38:20.801968Z",
     "start_time": "2024-08-12T13:38:20.295985Z"
    }
   },
   "source": [
    "import string\n",
    "import spacy, nltk\n",
    "from nltk.corpus import words\n",
    "\n",
    "# punctuation\n",
    "def is_punctuation(char):\n",
    "    return char in string.punctuation or char in non_ascii_characters\n",
    "\n",
    "# pos of word\n",
    "nlp = spacy.load(\"en_core_web_sm\")\n",
    "def get_pos(word):\n",
    "    doc = nlp(word)\n",
    "    for token in doc:\n",
    "        return token.pos_\n",
    "\n",
    "# common word\n",
    "nltk.download('words')\n",
    "common_words = set(words.words())\n",
    "def common_word(word):\n",
    "    return word.lower() in common_words"
   ],
   "outputs": [
    {
     "name": "stderr",
     "output_type": "stream",
     "text": [
      "[nltk_data] Downloading package words to /home/ubuntu/nltk_data...\n",
      "[nltk_data]   Package words is already up-to-date!\n"
     ]
    }
   ],
   "execution_count": 31
  },
  {
   "cell_type": "code",
   "id": "a2f9c78f-9d13-4b1b-acd9-4e0afc97d7ad",
   "metadata": {
    "ExecuteTime": {
     "end_time": "2024-08-12T13:38:44.864967Z",
     "start_time": "2024-08-12T13:38:21.832256Z"
    }
   },
   "source": [
    "# 不是G打头 -- 一定是affix\n",
    "# 是G打头： 1） 单词；2）preffix\n",
    "\n",
    "classes = []\n",
    "\n",
    "for tok in book_tokens_unique:\n",
    "    if len(tok) == 1:\n",
    "        if is_punctuation(tok):\n",
    "            classes.append(\"punctuation\")\n",
    "        elif tok.isalpha():\n",
    "            classes.append(\"letter\")\n",
    "        elif tok.isdigit():\n",
    "            classes.append(\"num\")\n",
    "        else:\n",
    "            classes.append(\"other\")\n",
    "        continue\n",
    "    \n",
    "    if tok[0] != \"Ġ\":\n",
    "        classes.append(\"affix\")\n",
    "        continue\n",
    "\n",
    "    tok = tok[1:]\n",
    "    if len(tok) == 1:\n",
    "        if is_punctuation(tok):\n",
    "            classes.append(\"punctuation\")\n",
    "            continue\n",
    "        if tok.isalpha() and tok not in [\"I\", \"a\", \"A\"]:  # here we check single-char words\n",
    "            classes.append(\"letter\")\n",
    "            continue\n",
    "        elif tok.isdigit():\n",
    "            classes.append(\"num\")\n",
    "            continue\n",
    "    if not common_word(tok):\n",
    "        classes.append(\"affix\")\n",
    "        continue\n",
    "    classes.append(get_pos(tok).lower())\n",
    "classes = np.array(classes)"
   ],
   "outputs": [
    {
     "name": "stderr",
     "output_type": "stream",
     "text": [
      "/tmp/ipykernel_1491438/1880707553.py:7: FutureWarning: elementwise comparison failed; returning scalar instead, but in the future will perform elementwise comparison\n",
      "  return char in string.punctuation or char in non_ascii_characters\n"
     ]
    }
   ],
   "execution_count": 32
  },
  {
   "cell_type": "code",
   "id": "d31dcf89-f52a-4a40-9816-6c8f382c3388",
   "metadata": {
    "ExecuteTime": {
     "end_time": "2024-08-12T13:38:44.880586Z",
     "start_time": "2024-08-12T13:38:44.867820Z"
    }
   },
   "source": [
    "# let's take a look\n",
    "classes_unique = np.unique(classes)\n",
    "\n",
    "for cls in classes_unique:\n",
    "    print(cls, len(np.where(classes == cls)[0]))\n",
    "    print(book_tokens_unique[classes == cls][:100])\n",
    "    print()"
   ],
   "outputs": [
    {
     "name": "stdout",
     "output_type": "stream",
     "text": [
      "adj 797\n",
      "['Ġpro' 'Ġother' 'Ġnew' 'Ġmany' 'Ġsuch' 'Ġown' 'Ġgood' 'Ġlast' 'ĠNew'\n",
      " 'Ġsame' 'Ġhigh' 'ĠPro' 'Ġgreat' 'Ġreal' 'Ġpublic' 'Ġfew' 'Ġdifferent'\n",
      " 'Ġbig' 'Ġbest' 'Ġlittle' 'Ġtri' 'Ġfull' 'Ġtop' 'Ġmain' 'Ġsmall'\n",
      " 'Ġcurrent' 'Ġold' 'Ġfree' 'Ġable' 'Ġleast' 'Ġlarge' 'Ġimportant' 'Ġclear'\n",
      " 'Ġlight' 'Ġmajor' 'Ġcertain' 'Ġpossible' 'Ġproper' 'Ġshort' 'Ġseveral'\n",
      " 'Ġcomplete' 'Ġyoung' 'Ġlow' 'Ġant' 'Ġstrong' 'Ġparticular' 'Ġlocal'\n",
      " 'Ġformer' 'Ġkey' 'Ġspecial' 'Ġblack' 'Ġsingle' 'Ġquick' 'Ġtrue' 'Ġbad'\n",
      " 'Ġentire' 'Ġwhole' 'Ġcommon' 'Ġdue' 'Ġgeneral' 'ĠRed' 'Ġmass' 'Ġthird'\n",
      " 'Ġsignificant' 'Ġhigher' 'ĠSouth' 'Ġeasy' 'Ġpersonal' 'ĠBlack' 'ĠWhite'\n",
      " 'Ġdead' 'Ġwrong' 'Ġoriginal' 'ĠGerman' 'Ġprim' 'Ġsoft' 'Ġserious' 'Ġill'\n",
      " 'Ġperfect' 'Ġsimple' 'Ġprivate' 'Ġworth' 'Ġpopular' 'Ġprofess' 'Ġhot'\n",
      " 'Ġcivil' 'Ġslow' 'Ġfair' 'Ġbroad' 'Ġsecret' 'Ġforeign' 'Ġdark' 'ĠFree'\n",
      " 'Ġhuge' 'Ġextreme' 'Ġnatural' 'Ġnecessary' 'ĠHigh' 'Ġsafe' 'Ġcorrect']\n",
      "\n",
      "adp 91\n",
      "['Ġof' 'Ġin' 'Ġon' 'Ġfor' 'Ġwith' 'Ġas' 'Ġat' 'Ġby' 'Ġfrom' 'ĠIn' 'Ġper'\n",
      " 'Ġthan' 'Ġover' 'Ġinto' 'Ġafter' 'Ġunder' 'ĠRe' 'Ġthrough' 'Ġbefore'\n",
      " 'Ġbetween' 'Ġagainst' 'ĠAs' 'ĠFor' 'Ġduring' 'Ġwithout' 'Ġnear' 'ĠOn'\n",
      " 'Ġuntil' 'Ġwithin' 'ĠAt' 'Ġes' 'Ġalong' 'Ġamong' 'Ġacross' 'Ġabove'\n",
      " 'ĠWith' 'Ġbehind' 'Ġbelow' 'ĠAfter' 'ĠPer' 'Ġinside' 'ĠBy' 'Ġvia' 'ĠOf'\n",
      " 'ĠOff' 'Ġtowards' 'Ġut' 'ĠFrom' 'Ġbeyond' 'Ġthroughout' 'Ġtoward' 'ĠOver'\n",
      " 'ĠLike' 'ĠUnder' 'Ġunlike' 'ĠDuring' 'Ġast' 'ĠBefore' 'ĠFOR' 'ĠWithout'\n",
      " 'ĠThrough' 'ĠAmong' 'Ġamid' 'ĠCos' 'Ġbeneath' 'Ġamongst' 'ĠUnlike'\n",
      " 'ĠBeyond' 'ĠWithin' 'Ġunto' 'ĠAgainst' 'Ġbeside' 'ĠUntil' 'ĠBetween'\n",
      " 'ĠDue' 'Ġaboard' 'Ġnearest' 'ĠAlong' 'ĠThan' 'ĠInto' 'ĠNear' 'Ġta'\n",
      " 'ĠBehind' 'ĠAbove' 'Ġclown' 'Ġlest' 'Ġnotwithstanding' 'Ġgown' 'ĠAmid'\n",
      " 'ĠNotwithstanding' 'ĠTowards']\n",
      "\n",
      "adv 427\n",
      "['Ġout' 'Ġup' 'Ġmore' 'Ġso' 'Ġabout' 'Ġen' 'Ġoff' 'Ġthere' 'Ġalso' 'Ġjust'\n",
      " 'Ġonly' 'Ġfirst' 'Ġback' 'Ġmost' 'Ġagain' 'Ġeven' 'Ġnow' 'Ġthen' 'Ġass'\n",
      " 'Ġvery' 'Ġdown' 'Ġmuch' 'Ġlong' 'Ġstill' 'Ġhere' 'Ġtoo' 'Ġsecond'\n",
      " 'Ġnever' 'Ġfar' 'Ġnext' 'ĠThere' 'Ġhard' 'Ġless' 'Ġbetter' 'ĠSo'\n",
      " 'Ġalways' 'Ġaway' 'Ġalready' 'Ġenough' 'Ġsure' 'ĠTe' 'Ġever' 'Ġoften'\n",
      " 'Ġonce' 'Ġyet' 'Ġlikely' 'Ġearly' 'Ġtogether' 'Ġeither' 'ĠEn' 'Ġalmost'\n",
      " 'Ġelse' 'Ġago' 'ĠHowever' 'Ġrather' 'Ġhowever' 'Ġfurther' 'Ġmatter'\n",
      " 'ĠJust' 'Ġoutside' 'Ġsimply' 'Ġlonger' 'Ġquite' 'Ġinstead' 'Ġpretty'\n",
      " 'Ġsoon' 'Ġespecially' 'Ġforward' 'ĠNow' 'Ġlate' 'Ġdeep' 'Ġlower' 'Ġround'\n",
      " 'Ġquickly' 'Ġnearly' 'Ġwide' 'ĠMore' 'ĠUp' 'ĠThen' 'Ġdirectly' 'ĠFirst'\n",
      " 'Ġsometimes' 'Ġimmediately' 'ĠEven' 'ĠHere' 'Ġalone' 'Ġfinally'\n",
      " 'Ġexactly' 'Ġeasily' 'Ġcertainly' 'Ġperhaps' 'ĠOut' 'Ġstraight' 'Ġfully'\n",
      " 'Ġhighly' 'Ġclearly' 'Ġgenerally' 'Ġthus' 'Ġotherwise' 'Ġtherefore']\n",
      "\n",
      "affix 6739\n",
      "['he' 'in' 're' 'on' 'er' 'at' 'en' 'it' 'is' 'an' 'or' 'es' 'ed' 'ing'\n",
      " 'ou' 'al' 'ar' 'ic' 'as' 'le' 'ion' 'om' 'll' 'ent' 'st' 've' 'ro' 'ly'\n",
      " 'ct' 'id' 'ot' 'ut' 'et' 'im' 'am' 'ow' 'ay' 'ad' 'se' 'ig' 'ac' 'ver'\n",
      " 'ur' 'ld' 'ation' 'ith' 'ir' 'ce' 'il' 'Ġwh' 'ol' 'ter' 'ch' 'nd' 'ill'\n",
      " 'if' 'ag' 'ers' 'ke' 'em' 'her' 'od' 'ul' 'ate' 'ri' 'pp' 'ore' 'us' 'um'\n",
      " 'ain' 'and' 'igh' 'est' 'ist' 'ab' 'rom' 'th' 'Ġcom' 'un' 'op' 'ess'\n",
      " 'res' 'ew' 'ity' 'ant' 'el' 'os' 'ort' 'oc' 'qu' 'Ġsu' 'ive' 'ould' 'nt'\n",
      " 'ra' 'pe' 'ight' 'art' 'ment' 'ust']\n",
      "\n",
      "aux 43\n",
      "['Ġbe' 'Ġis' 'Ġwas' 'Ġare' 'Ġcan' 'Ġwill' 'Ġwere' 'Ġwould' 'Ġbeen'\n",
      " 'Ġcould' 'Ġam' 'Ġmay' 'Ġshould' 'Ġbeing' 'ĠIs' 'Ġmight' 'Ġca' 'Ġmust'\n",
      " 'ĠBe' 'ĠCan' 'ĠAm' 'ĠMay' 'Ġshall' 'Ġcannot' 'ĠWill' 'ĠAre' 'ĠCa' 'ĠWas'\n",
      " 'ĠCould' 'ĠShould' 'Ġought' 'ĠWould' 'ĠBeing' 'ĠMust' 'ĠWere' 'ĠCant'\n",
      " 'Ġcant' 'ĠMight' 'Ġwo' 'ĠCannot' 'Ġwont' 'Ġmould' 'ĠBeen']\n",
      "\n",
      "cconj 11\n",
      "['Ġand' 'Ġor' 'Ġbut' 'ĠAnd' 'ĠBut' 'ĠOr' 'Ġrat' 'Ġnor' 'ĠNor' 'Ġneither'\n",
      " 'Ġhither']\n",
      "\n",
      "det 1\n",
      "['Ġwhose']\n",
      "\n",
      "intj 51\n",
      "['Ġha' 'ĠSt' 'Ġlike' 'Ġno' 'Ġpo' 'Ġright' 'Ġwell' 'Ġmon' 'ĠDe' 'ĠNo' 'Ġer'\n",
      " 'Ġwa' 'ĠEm' 'Ġaw' 'ĠYes' 'Ġplease' 'Ġyes' 'ĠWell' 'ĠOh' 'ĠPlease' 'ĠEr'\n",
      " 'ĠAw' 'ĠBoy' 'ĠRight' 'Ġtur' 'ĠAh' 'ĠAst' 'Ġla' 'ĠHa' 'Ġquote' 'ĠBud'\n",
      " 'ĠSure' 'Ġoh' 'ĠAy' 'ĠHey' 'ĠHi' 'Ġhey' 'ĠFine' 'Ġgoodness' 'ĠPep' 'Ġos'\n",
      " 'Ġah' 'Ġamen' 'ĠDob' 'Ġfarewell' 'ĠAmen' 'ĠFra' 'ĠDamn' 'Ġmockery'\n",
      " 'ĠAlas' 'Ġalas']\n",
      "\n",
      "letter 95\n",
      "['A' 'B' 'C' 'D' 'E' 'F' 'G' 'H' 'I' 'J' 'K' 'L' 'M' 'N' 'O' 'P' 'R' 'S'\n",
      " 'T' 'V' 'W' 'Y' 'a' 'b' 'c' 'd' 'e' 'f' 'g' 'h' 'i' 'j' 'k' 'l' 'm' 'n'\n",
      " 'o' 'p' 'r' 's' 't' 'u' 'v' 'w' 'x' 'y' 'z' 'Ċ' 'Ġ' 'Ġt' 'Ġs' 'Ġw' 'Ġo'\n",
      " 'Ġc' 'Ġb' 'Ġf' 'Ġp' 'Ġm' 'Ġd' 'Ġh' 'Ġn' 'Ġl' 'Ġe' 'Ġg' 'ĠT' 'ĠS' 'ĠC'\n",
      " 'Ġy' 'Ġu' 'ĠM' 'ĠB' 'ĠP' 'ĠD' 'ĠH' 'ĠW' 'ĠR' 'Ġr' 'ĠF' 'ĠN' 'ĠG' 'ĠL'\n",
      " 'Ġv' 'ĠE' 'ĠO' 'ĠJ' 'ĠU' 'Ġj' 'Ġk' 'ĠK' 'ĠV' 'ĠY' 'Ġi' 'ĠX' 'Ġz' 'Ġq']\n",
      "\n",
      "noun 2691\n",
      "['Ġex' 'Ġad' 'Ġman' 'Ġyear' 'Ġpart' 'Ġtime' 'Ġpeople' 'Ġwork' 'Ġway'\n",
      " 'Ġend' 'ĠSh' 'ĠAr' 'Ġmin' 'Ġgame' 'Ġreport' 'Ġworld' 'Ġspec' 'Ġear'\n",
      " 'Ġperson' 'Ġser' 'Ġteam' 'Ġcar' 'Ġlaw' 'Ġsupport' 'Ġfact' 'Ġday' 'Ġcor'\n",
      " 'Ġwar' 'Ġpower' 'Ġstate' 'Ġhead' 'Ġposs' 'Ġchild' 'Ġlife' 'ĠAd' 'Ġdisc'\n",
      " 'Ġmonth' 'Ġgovernment' 'Ġleg' 'Ġquest' 'Ġlevel' 'Ġart' 'Ġeffect' 'Ġbelie'\n",
      " 'Ġnumber' 'Ġpost' 'Ġweek' 'Ġplace' 'Ġsoc' 'Ġmark' 'Ġinformation' 'Ġbus'\n",
      " 'Ġimport' 'Ġtest' 'Ġrest' 'Ġcase' 'Ġlist' 'Ġhome' 'Ġinterest' 'Ġcamp'\n",
      " 'Ġprocess' 'Ġname' 'Ġmen' 'Ġcap' 'ĠCon' 'Ġbook' 'Ġcountry' 'Ġorder'\n",
      " 'Ġthing' 'Ġschool' 'Ġdays' 'Ġhealth' 'Ġsol' 'Ġfriend' 'Ġview' 'Ġword'\n",
      " 'Ġpar' 'Ġbusiness' 'Ġpast' 'Ġdev' 'Ġstory' 'Ġseason' 'Ġline' 'Ġproject'\n",
      " 'Ġcontrol' 'Ġair' 'Ġmoney' 'Ġfamily' 'Ġbit' 'Ġwater' 'Ġtimes' 'Ġcompany'\n",
      " 'Ġexample' 'Ġfore' 'Ġtax' 'Ġrecord' 'Ġnews' 'Ġhour' 'Ġsex' 'Ġnon']\n",
      "\n",
      "num 40\n",
      "['Ġone' 'Ġtwo' 'Ġthree' 'Ġfour' 'Ġmillion' 'ĠOne' 'Ġfive' 'Ġsix'\n",
      " 'Ġhundred' 'Ġten' 'Ġseven' 'Ġeight' 'ĠTwo' 'Ġnine' 'ĠFour' 'Ġthousand'\n",
      " 'ĠThree' 'Ġtwenty' 'ĠTen' 'ĠSix' 'ĠFive' 'Ġthirty' 'ĠSeven' 'Ġtwelve'\n",
      " 'Ġfifty' 'ĠNine' 'Ġforty' 'Ġfifteen' 'ĠEight' 'Ġeleven' 'ĠTwenty'\n",
      " 'Ġsixty' 'Ġsixteen' 'Ġthirteen' 'Ġeighteen' 'Ġfourteen' 'ĠTwelve'\n",
      " 'Ġtreacher' 'ĠHundred' 'Ġnineteen']\n",
      "\n",
      "part 4\n",
      "['Ġto' 'Ġnot' 'ĠTo' 'ĠNot']\n",
      "\n",
      "pron 106\n",
      "['Ġa' 'Ġthe' 'Ġan' 'ĠI' 'ĠA' 'Ġthat' 'Ġhe' 'Ġit' 'Ġyou' 'Ġwe' 'ĠThe' 'Ġsh'\n",
      " 'Ġthis' 'Ġhis' 'Ġall' 'Ġthey' 'Ġme' 'Ġwho' 'Ġtheir' 'Ġus' 'Ġyour'\n",
      " 'Ġwhich' 'Ġany' 'Ġthem' 'Ġher' 'Ġmy' 'Ġsome' 'ĠIt' 'Ġwhat' 'Ġits' 'Ġshe'\n",
      " 'Ġour' 'ĠHe' 'Ġhim' 'ĠThis' 'ĠWe' 'Ġthese' 'Ġevery' 'Ġem' 'Ġthose' 'ĠYou'\n",
      " 'ĠAn' 'Ġboth' 'ĠThey' 'Ġeach' 'Ġanother' 'Ġsomething' 'Ġtra' 'ĠThat'\n",
      " 'ĠShe' 'ĠAll' 'ĠWhat' 'Ġanything' 'ĠMy' 'Ġnothing' 'ĠMe' 'Ġhimself'\n",
      " 'Ġeverything' 'ĠThese' 'ĠHer' 'Ġitself' 'ĠHis' 'Ġthemselves' 'Ġanyone'\n",
      " 'ĠSome' 'ĠTHE' 'ĠYour' 'Ġyourself' 'Ġmyself' 'ĠEvery' 'ĠOur' 'ĠUs'\n",
      " 'Ġwhom' 'Ġwhatever' 'ĠAny' 'Ġherself' 'ĠTheir' 'ĠWho' 'ĠEach' 'ĠBoth'\n",
      " 'ĠThose' 'ĠAnother' 'Ġmine' 'ĠIts' 'Ġourselves' 'Ġnobody' 'Ġsomebody'\n",
      " 'ĠWhich' 'Ġanybody' 'ĠNothing' 'ĠHim' 'ĠSomething' 'ĠNobody' 'ĠWhatever'\n",
      " 'ĠNeither' 'Ġwhoever' 'ĠAnything' 'Ġtheirs' 'ĠWhats' 'Ġthats']\n",
      "\n",
      "propn 592\n",
      "['Ġst' 'Ġcon' 'Ġse' 'Ġal' 'Ġsa' 'Ġne' 'Ġun' 'Ġte' 'Ġdis' 'ĠUn' 'Ġsec'\n",
      " 'Ġrel' 'Ġdon' 'Ġreg' 'Ġbel' 'Ġstud' 'Ġcol' 'Ġfin' 'Ġsur' 'ĠAl' 'ĠSe'\n",
      " 'Ġret' 'Ġref' 'Ġcur' 'Ġche' 'Ġrep' 'Ġfam' 'Ġchar' 'Ġresp' 'Ġel' 'Ġpur'\n",
      " 'Ġhum' 'ĠRep' 'Ġmil' 'ĠEx' 'Ġchang' 'Ġbo' 'ĠMar' 'Ġprof' 'Ġbas' 'ĠCol'\n",
      " 'Ġmar' 'Ġhuman' 'Ġhop' 'Ġlim' 'ĠGod' 'ĠMin' 'Ġben' 'Ġviol' 'Ġmult' 'ĠDon'\n",
      " 'Ġmor' 'Ġmag' 'ĠPol' 'Ġra' 'ĠAct' 'ĠAss' 'Ġred' 'Ġwhite' 'Ġlo' 'Ġgen'\n",
      " 'ĠBrit' 'Ġrad' 'Ġjo' 'ĠPar' 'Ġjud' 'ĠChe' 'Ġdiv' 'ĠMarch' 'ĠChina' 'Ġtou'\n",
      " 'ĠAugust' 'Ġboy' 'ĠMark' 'Ġfather' 'Ġlat' 'Ġbox' 'Ġprep' 'ĠDis' 'ĠPal'\n",
      " 'ĠChar' 'ĠPat' 'ĠPark' 'ĠRussia' 'ĠWed' 'Ġsen' 'ĠMet' 'Ġreb' 'Ġneigh'\n",
      " 'ĠGreen' 'Ġinn' 'Ġstra' 'ĠJack' 'ĠAnt' 'ĠDark' 'Ġrob' 'Ġgrad' 'Ġcry'\n",
      " 'ĠMart' 'Ġjournal']\n",
      "\n",
      "punctuation 9\n",
      "['!' ',' '-' '.' ':' ';' '?' 'Ġ.' 'Ġ:']\n",
      "\n",
      "sconj 42\n",
      "['Ġif' 'Ġwhen' 'Ġhow' 'Ġbecause' 'Ġwhere' 'Ġwhile' 'Ġthough' 'ĠIf'\n",
      " 'Ġsince' 'ĠHow' 'Ġwhy' 'ĠWhen' 'Ġwhether' 'Ġupon' 'Ġexcept' 'ĠWhile'\n",
      " 'Ġalthough' 'Ġdespite' 'ĠWhy' 'ĠBecause' 'Ġunless' 'ĠSince' 'ĠAlthough'\n",
      " 'ĠWhere' 'ĠThough' 'ĠDespite' 'ĠWhether' 'Ġtill' 'Ġbesides' 'ĠUpon'\n",
      " 'Ġwherever' 'Ġwhilst' 'ĠBesides' 'ĠUnless' 'ĠTill' 'ĠExcept' 'Ġalbeit'\n",
      " 'Ġtil' 'Ġwherein' 'Ġwhereby' 'ĠWhereas' 'ĠWhilst']\n",
      "\n",
      "verb 2143\n",
      "['Ġth' 'Ġre' 'Ġhave' 'Ġdo' 'Ġgo' 'Ġsaid' 'ĠTh' 'Ġhad' 'Ġar' 'Ġget' 'Ġplay'\n",
      " 'Ġact' 'Ġbet' 'Ġdid' 'Ġadd' 'Ġknow' 'Ġneed' 'Ġwant' 'Ġsee' 'Ġuse' 'Ġmake'\n",
      " 'Ġlook' 'Ġbu' 'Ġimp' 'Ġsub' 'Ġdoes' 'Ġcall' 'Ġthink' 'Ġset' 'Ġshow'\n",
      " 'Ġsay' 'Ġstart' 'Ġmade' 'Ġcount' 'Ġpoint' 'Ġused' 'Ġinter' 'Ġtake'\n",
      " 'Ġgoing' 'Ġhand' 'Ġhelp' 'Ġfound' 'Ġsign' 'Ġrun' 'Ġfollow' 'Ġfind'\n",
      " 'Ġlead' 'Ġgovern' 'Ġread' 'Ġmet' 'Ġprog' 'Ġpass' 'Ġturn' 'Ġput' 'Ġallow'\n",
      " 'Ġfeel' 'Ġask' 'Ġdirect' 'Ġopen' 'Ġcome' 'Ġseem' 'Ġform' 'Ġtold' 'ĠTrump'\n",
      " 'Ġstand' 'Ġlet' 'Ġinvest' 'Ġcare' 'Ġleft' 'Ġbuild' 'Ġgot' 'Ġkeep' 'Ġpay'\n",
      " 'Ġreturn' 'Ġmove' 'Ġpat' 'Ġdesign' 'Ġchange' 'Ġkill' 'ĠGo' 'Ġtell'\n",
      " 'Ġtalk' 'Ġcost' 'Ġgive' 'Ġwin' 'Ġexpect' 'Ġkind' 'Ġmean' 'Ġorgan'\n",
      " 'Ġperform' 'Ġclaim' 'Ġcame' 'Ġmaking' 'Ġhappen' 'Ġsit' 'Ġappear' 'Ġgrow'\n",
      " 'Ġsing' 'Ġfollowing' 'Ġbecome']\n",
      "\n",
      "x 7\n",
      "['Ġde' 'Ġfe' 'Ġvis' 'Ġsuper' 'Ġfra' 'Ġseventeen' 'Ġtho']\n",
      "\n"
     ]
    }
   ],
   "execution_count": 33
  },
  {
   "cell_type": "code",
   "id": "f254d387-fc57-4178-8590-8cfdc7c8f7a9",
   "metadata": {
    "ExecuteTime": {
     "end_time": "2024-08-12T13:38:48.656424Z",
     "start_time": "2024-08-12T13:38:48.649716Z"
    }
   },
   "source": [
    "# this looks reasonable, but classes are too many\n",
    "# so we select the most meaningful ones\n",
    "super_classes = [\"adj\", \"adp\", \"adv\", \"aux\", \"verb\", \"cconj\", \"noun\", \"pron\", \"sconj\", \"verb\"]\n",
    "\n",
    "# show some stats\n",
    "class_counts_unique = []\n",
    "class_counts_total = []\n",
    "\n",
    "for cls in super_classes:\n",
    "    idx = np.where(classes == cls)[0]\n",
    "    class_counts_unique.append(len(idx))\n",
    "    class_counts_total.append(counts[idx].sum())"
   ],
   "outputs": [],
   "execution_count": 34
  },
  {
   "cell_type": "code",
   "id": "5e29db13-e1c7-4c8d-97f3-bf0520c4fc35",
   "metadata": {
    "ExecuteTime": {
     "end_time": "2024-08-12T13:38:49.996093Z",
     "start_time": "2024-08-12T13:38:49.766Z"
    }
   },
   "source": [
    "import matplotlib.pyplot as plt\n",
    "\n",
    "fig, ax = plt.subplots(1, 2, figsize=(15, 3))\n",
    "ax[0].bar(super_classes, class_counts_unique)\n",
    "ax[0].set_title(\"Unique count\")\n",
    "ax[1].bar(super_classes, class_counts_total)\n",
    "ax[1].set_title(\"Total count\")\n",
    "plt.show()"
   ],
   "outputs": [
    {
     "data": {
      "text/plain": [
       "<Figure size 1500x300 with 2 Axes>"
      ],
      "image/png": "[encoded data removed]"
     },
     "metadata": {},
     "output_type": "display_data"
    }
   ],
   "execution_count": 35
  },
  {
   "cell_type": "markdown",
   "id": "ce2ae069-5266-4414-8a22-4b9f2ff80e16",
   "metadata": {},
   "source": [
    "# Summary"
   ]
  },
  {
   "cell_type": "code",
   "id": "bf88415c-53c0-4fbb-b80c-c0ddfaac5648",
   "metadata": {
    "ExecuteTime": {
     "end_time": "2024-08-12T13:38:52.076708Z",
     "start_time": "2024-08-12T13:38:52.069639Z"
    }
   },
   "source": [
    "# use `book_ids_unique` to retrieve kernels from trained model\n",
    "print(len(book_ids_unique), book_ids_unique)\n",
    "\n",
    "# use `book_tokens_unique` to see word\n",
    "print(len(book_tokens_unique), book_tokens_unique)\n",
    "\n",
    "# use `counts` to filter out low-frequency tokens\n",
    "print(len(counts), counts)\n",
    "\n",
    "# use `classes` to find the type of words\n",
    "print(len(classes), classes)"
   ],
   "outputs": [
    {
     "name": "stdout",
     "output_type": "stream",
     "text": [
      "13889 [    0    11    12 ... 50239 50244 50252]\n",
      "13889 ['!' ',' '-' ... 'Ġreverted' 'Ġdesolate' 'Ġregress']\n",
      "13889 [ 4240 35697  1997 ...     1     2     1]\n",
      "13889 ['punctuation' 'punctuation' 'punctuation' ... 'affix' 'verb' 'verb']\n"
     ]
    }
   ],
   "execution_count": 36
  },
  {
   "cell_type": "markdown",
   "id": "7d993ec3",
   "metadata": {},
   "source": [
    "# Analysis"
   ]
  },
  {
   "cell_type": "code",
   "id": "33fee929",
   "metadata": {
    "ExecuteTime": {
     "end_time": "2024-08-12T13:38:54.051145Z",
     "start_time": "2024-08-12T13:38:54.046494Z"
    }
   },
   "source": [
    "import torch\n",
    "from transformers import GPT2LMHeadModel\n",
    "import json"
   ],
   "outputs": [],
   "execution_count": 37
  },
  {
   "cell_type": "code",
   "id": "60fb3836-2cda-48e6-9f7b-a4afc216afec",
   "metadata": {
    "ExecuteTime": {
     "end_time": "2024-08-12T13:38:57.623928Z",
     "start_time": "2024-08-12T13:38:57.618415Z"
    }
   },
   "source": [
    "# Specify the path to the checkpoint file\n",
    "checkpoint_path = '/home/ubuntu/Downloads/twiker-experiments/results/gpt2/shakes/train_twiker'\n",
    "\n",
    "# Specify key or value\n",
    "analyze_value = True"
   ],
   "outputs": [],
   "execution_count": 38
  },
  {
   "cell_type": "code",
   "id": "8caafb32",
   "metadata": {
    "ExecuteTime": {
     "end_time": "2024-08-12T13:39:01.091580Z",
     "start_time": "2024-08-12T13:38:58.939971Z"
    }
   },
   "source": [
    "# load config\n",
    "with open(f'{checkpoint_path}/config.json', 'r') as file:\n",
    "    config = json.load(file)\n",
    "\n",
    "# Load the model with the checkpoint\n",
    "model = GPT2LMHeadModel.from_pretrained(checkpoint_path)\n",
    "\n",
    "# weight\n",
    "embedding_weights = model.transformer.twiker_model.embedding.weight.detach()\n",
    "\n",
    "# reshape\n",
    "n_head = 1 if config[\"twiker_head_invariant\"] else config[\"n_head\"]\n",
    "n_layer = 1 if config[\"twiker_layer_invariant\"] or config[\"twiker_only_first_layer\"] else config[\"n_layer\"]\n",
    "embedding_weights = embedding_weights.reshape(-1, n_layer, 2, n_head, config[\"twiker_kernel_size\"])\n",
    "\n",
    "# soft max\n",
    "embedding_weights = torch.softmax(embedding_weights / 0.4, dim=-1)\n",
    "\n",
    "# mean over head and layer\n",
    "embedding_weights = embedding_weights.mean(dim=1).mean(dim=2)\n",
    "\n",
    "# extract for book\n",
    "embedding_weights = embedding_weights[book_ids_unique]\n",
    "\n",
    "# extract for value\n",
    "wv = embedding_weights[:, 1, :] if analyze_value else embedding_weights[:, 0, :]\n",
    "print(wv.shape)"
   ],
   "outputs": [
    {
     "name": "stdout",
     "output_type": "stream",
     "text": [
      "torch.Size([13889, 3])\n"
     ]
    }
   ],
   "execution_count": 39
  },
  {
   "cell_type": "code",
   "id": "5deab9ee",
   "metadata": {
    "ExecuteTime": {
     "end_time": "2024-08-12T13:39:02.080534Z",
     "start_time": "2024-08-12T13:39:02.038578Z"
    }
   },
   "source": [
    "# compute distance\n",
    "t010 = torch.zeros(config[\"twiker_kernel_size\"])\n",
    "t010[config[\"twiker_kernel_size\"] // 2] = 1.\n",
    "dist010 = torch.norm(wv - t010, dim=1)"
   ],
   "outputs": [],
   "execution_count": 40
  },
  {
   "cell_type": "markdown",
   "id": "94fdadf2-e415-4a5b-b195-409151ef4242",
   "metadata": {},
   "source": [
    "### Filter by `counts`"
   ]
  },
  {
   "cell_type": "code",
   "id": "01308049-d4f6-4f1c-80d5-a91d94dc432e",
   "metadata": {
    "ExecuteTime": {
     "end_time": "2024-08-12T13:39:04.051130Z",
     "start_time": "2024-08-12T13:39:04.021427Z"
    }
   },
   "source": [
    "filter = counts >= 5\n",
    "\n",
    "book_ids_counts = book_ids_unique[filter]\n",
    "book_tokens_counts = book_tokens_unique[filter]\n",
    "classes_counts = classes[filter]\n",
    "dist010_counts = dist010[filter]\n",
    "\n",
    "print(len(dist010_counts))"
   ],
   "outputs": [
    {
     "name": "stdout",
     "output_type": "stream",
     "text": [
      "6012\n"
     ]
    }
   ],
   "execution_count": 41
  },
  {
   "cell_type": "code",
   "id": "4c466e98-004e-43aa-b428-cdb2b7979d77",
   "metadata": {
    "ExecuteTime": {
     "end_time": "2024-08-12T13:39:05.136203Z",
     "start_time": "2024-08-12T13:39:05.129119Z"
    }
   },
   "source": [
    "# statistics on all\n",
    "\n",
    "argsort = torch.argsort(dist010_counts, descending=True)\n",
    "book_tokens_counts[argsort[:100]]"
   ],
   "outputs": [
    {
     "data": {
      "text/plain": [
       "array([',', 'ĠI', 'Ġand', '.', 'Ġa', 'Ġnot', 'Ġthe', 'Ġmy', '?', ':', ';',\n",
       "       '!', 'Ġyou', 'ĠAnd', 'Ġthy', 'Ġhath', 'Ġof', 'Ġsweet', 'Ġto',\n",
       "       'Ġwors', 'Ġwill', 'Ġbut', 'Ġthis', 'Ġd', 'Ġso', 'Ġin', 'ĠIll',\n",
       "       'Ġshall', 'Ġman', 'Ġam', 'Ġst', 'Ġnoble', 'Ġtw', 'Ġno', 'Ġwh',\n",
       "       'Ġinc', 'Ġgood', 'Ġmortal', 'd', 'ĠWhats', 'Ġsir', 'Ġsuch',\n",
       "       'Ġyour', 'Ġis', 'Ġgentle', 'Ġmake', 'Ġm', 'Ġmarvel', 'ĠAs',\n",
       "       'Ġfair', 'Ġwell', 'Ġswift', 'Ġmans', 'Ġas', 'ither', 'Ġmust',\n",
       "       'Ġdo', 'Ġval', 'ĠWhy', 'Ġwould', 'ĠMaster', 'ĠMar', 'Ġwhat',\n",
       "       'Ġher', 'Ġroyal', 'Ġthou', 'ĠFaith', 'Ġvirgin', 'ĠA', 'Ġun',\n",
       "       'Ġhis', 'ĠWhat', 'ĠSir', 'Ġholy', 'Ġe', 'ĠTo', 'Ġfriends', 'Ġthee',\n",
       "       'Ġheavenly', 'Ġfoul', 'Ġme', 'Ġwith', 'ĠWith', 'Ġfaire', 'Ġfor',\n",
       "       'Ġbitter', 'ĠIn', 'Ġor', 'Ġshe', 'Ġgreat', 'ĠIt', 'est', 'Ġgro',\n",
       "       'Ġbes', 'Ġrich', 'Ġmad', 'Ġkn', 'Ġour', 'ĠWhere', 'Ġdear'],\n",
       "      dtype='<U18')"
      ]
     },
     "execution_count": 42,
     "metadata": {},
     "output_type": "execute_result"
    }
   ],
   "execution_count": 42
  },
  {
   "cell_type": "markdown",
   "id": "2613a89d-c846-434f-9f4e-40b2e97aa66b",
   "metadata": {},
   "source": [
    "### Filter by `class`"
   ]
  },
  {
   "cell_type": "code",
   "id": "37fc7fec-5114-402a-9f2e-a813a9d25d60",
   "metadata": {
    "ExecuteTime": {
     "end_time": "2024-08-12T13:39:07.223652Z",
     "start_time": "2024-08-12T13:39:07.215915Z"
    }
   },
   "source": [
    "# statistics on role\n",
    "\n",
    "cls_mean = []\n",
    "for cls in super_classes:\n",
    "    filter = (classes_counts == cls)\n",
    "    book_ids_cls = book_ids_counts[filter]\n",
    "    book_tokens_cls = book_tokens_counts[filter]\n",
    "    dist010_cls = dist010_counts[filter]\n",
    "    mean = dist010_cls.mean()\n",
    "    cls_mean.append(mean)"
   ],
   "outputs": [],
   "execution_count": 43
  },
  {
   "cell_type": "code",
   "id": "71d605ce-f5d6-4d2b-85e3-a2b3aae2fceb",
   "metadata": {
    "ExecuteTime": {
     "end_time": "2024-08-12T13:39:08.276935Z",
     "start_time": "2024-08-12T13:39:08.138740Z"
    }
   },
   "source": [
    "plt.bar(super_classes, cls_mean)\n"
   ],
   "outputs": [
    {
     "data": {
      "text/plain": [
       "<BarContainer object of 10 artists>"
      ]
     },
     "execution_count": 44,
     "metadata": {},
     "output_type": "execute_result"
    },
    {
     "data": {
      "text/plain": [
       "<Figure size 640x480 with 1 Axes>"
      ],
      "image/png": "[encoded data removed]"
     },
     "metadata": {},
     "output_type": "display_data"
    }
   ],
   "execution_count": 44
  },
  {
   "cell_type": "code",
   "execution_count": null,
   "id": "e6a408a4-cb84-4deb-9262-b52e35364502",
   "metadata": {},
   "outputs": [],
   "source": []
  },
  {
   "cell_type": "code",
   "execution_count": null,
   "id": "993c2b5b-00e2-40d3-9cd9-79b09130b535",
   "metadata": {},
   "outputs": [],
   "source": []
  }
 ],
 "metadata": {
  "kernelspec": {
   "display_name": "Python 3 (ipykernel)",
   "language": "python",
   "name": "python3"
  },
  "language_info": {
   "codemirror_mode": {
    "name": "ipython",
    "version": 3
   },
   "file_extension": ".py",
   "mimetype": "text/x-python",
   "name": "python",
   "nbconvert_exporter": "python",
   "pygments_lexer": "ipython3",
   "version": "3.11.8"
  }
 },
 "nbformat": 4,
 "nbformat_minor": 5
}
